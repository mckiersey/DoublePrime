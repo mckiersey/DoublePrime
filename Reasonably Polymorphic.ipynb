{
 "cells": [
  {
   "cell_type": "code",
   "execution_count": 50,
   "metadata": {},
   "outputs": [
    {
     "name": "stdout",
     "output_type": "stream",
     "text": [
      "python 3 test\n"
     ]
    }
   ],
   "source": [
    "print(\"python 3 test\")"
   ]
  },
  {
   "cell_type": "code",
   "execution_count": 374,
   "metadata": {},
   "outputs": [],
   "source": [
    "def not_gate(input):\n",
    "    if input == 1:\n",
    "        output = 0\n",
    "    elif input == 0:\n",
    "        output = 1\n",
    "    else: \n",
    "        output = \"/!\\ Input error (NOT gate)\"\n",
    "    return output"
   ]
  },
  {
   "cell_type": "code",
   "execution_count": 376,
   "metadata": {},
   "outputs": [
    {
     "data": {
      "text/plain": [
       "1"
      ]
     },
     "execution_count": 376,
     "metadata": {},
     "output_type": "execute_result"
    }
   ],
   "source": [
    "not_gate(0)"
   ]
  },
  {
   "cell_type": "code",
   "execution_count": 583,
   "metadata": {},
   "outputs": [],
   "source": [
    "## AND GATE\n",
    "    # Only on when both inputs are on\n",
    "def and_gate(input_a, input_b):\n",
    "    if  input_a == 0 and input_b == 0:\n",
    "        output = 0\n",
    "    elif input_a == 1 and input_b == 0:   \n",
    "        output = 0\n",
    "    elif input_a == 1 and input_b == 1: \n",
    "        output = 1\n",
    "    elif input_a == 0 and input_b == 1:\n",
    "        output = 0 \n",
    "    else:\n",
    "         output = \"/!\\ Input error (AND gate)\"\n",
    "    return output\n",
    "    \n",
    "\n"
   ]
  },
  {
   "cell_type": "code",
   "execution_count": 584,
   "metadata": {},
   "outputs": [
    {
     "data": {
      "text/plain": [
       "0"
      ]
     },
     "execution_count": 584,
     "metadata": {},
     "output_type": "execute_result"
    }
   ],
   "source": [
    "and_gate(0,1)"
   ]
  },
  {
   "cell_type": "code",
   "execution_count": 55,
   "metadata": {},
   "outputs": [],
   "source": [
    "## OR GATE\n",
    "# This machine produces an output of 1 when either input A or input B is 1 (or both).\n",
    "# If A OR B = 1 then 1\n",
    "def or_gate(input_a, input_b):\n",
    "\n",
    "    not_gate_a = not_gate(input_a)\n",
    "    not_gate_b = not_gate(input_b)\n",
    "\n",
    "    and_gate_output = and_gate(not_gate_a, not_gate_b)\n",
    "\n",
    "    output = not_gate(and_gate_output)\n",
    "    return output"
   ]
  },
  {
   "cell_type": "code",
   "execution_count": 56,
   "metadata": {},
   "outputs": [
    {
     "data": {
      "text/plain": [
       "1"
      ]
     },
     "execution_count": 56,
     "metadata": {},
     "output_type": "execute_result"
    }
   ],
   "source": [
    "or_gate(1,0)"
   ]
  },
  {
   "cell_type": "code",
   "execution_count": 57,
   "metadata": {},
   "outputs": [],
   "source": [
    "## DE MORGAN'S LAW:\n",
    "   # De Morgan’s laws state that whenever we have an and gate, we can turn it into an or gate by wrapping it up in not gates. And vice versa.  "
   ]
  },
  {
   "cell_type": "code",
   "execution_count": 58,
   "metadata": {},
   "outputs": [],
   "source": [
    "# NAND Gate\n",
    "#THE MOST FUNDAMENTAL MACHINE\n",
    "\n",
    "def nand_gate(input_a, input_b):\n",
    "    and_gate_output = and_gate(input_a, input_b)\n",
    "\n",
    "    output = not_gate(and_gate_output)\n",
    "    return output\n"
   ]
  },
  {
   "cell_type": "code",
   "execution_count": 59,
   "metadata": {},
   "outputs": [
    {
     "data": {
      "text/plain": [
       "1"
      ]
     },
     "execution_count": 59,
     "metadata": {},
     "output_type": "execute_result"
    }
   ],
   "source": [
    "nand_gate(0,0)"
   ]
  },
  {
   "cell_type": "code",
   "execution_count": 60,
   "metadata": {},
   "outputs": [],
   "source": [
    "## Building an OR gate from an NAND gate\n",
    "# output = 1 unless both input are 0\n",
    "def nand_and_gate(input_a, input_b):\n",
    "    nand_gate_output = nand_gate(input_a, input_b)\n",
    "    nand_input_a = nand_gate_output\n",
    "    nand_input_b = nand_gate_output\n",
    "    output = nand_gate(nand_input_a, nand_input_b)\n",
    "    return output\n"
   ]
  },
  {
   "cell_type": "code",
   "execution_count": 61,
   "metadata": {},
   "outputs": [
    {
     "data": {
      "text/plain": [
       "0"
      ]
     },
     "execution_count": 61,
     "metadata": {},
     "output_type": "execute_result"
    }
   ],
   "source": [
    "nand_and_gate(0,1)"
   ]
  },
  {
   "cell_type": "code",
   "execution_count": 62,
   "metadata": {},
   "outputs": [],
   "source": [
    "def nand_not_gate(input):\n",
    "    output = nand_gate(input, input)\n",
    "    return output"
   ]
  },
  {
   "cell_type": "code",
   "execution_count": 63,
   "metadata": {},
   "outputs": [
    {
     "data": {
      "text/plain": [
       "1"
      ]
     },
     "execution_count": 63,
     "metadata": {},
     "output_type": "execute_result"
    }
   ],
   "source": [
    "nand_not_gate(0)"
   ]
  },
  {
   "cell_type": "code",
   "execution_count": 64,
   "metadata": {},
   "outputs": [],
   "source": [
    "def nand_or_gate(input_a, input_b):\n",
    "    not_gate_a = nand_not_gate(input_a)\n",
    "    not_gate_b = nand_not_gate(input_b)\n",
    "\n",
    "    output = nand_gate(not_gate_a, not_gate_b)\n",
    "    return output"
   ]
  },
  {
   "cell_type": "code",
   "execution_count": 65,
   "metadata": {},
   "outputs": [
    {
     "data": {
      "text/plain": [
       "1"
      ]
     },
     "execution_count": 65,
     "metadata": {},
     "output_type": "execute_result"
    }
   ],
   "source": [
    "nand_or_gate(1,0)\n"
   ]
  },
  {
   "cell_type": "code",
   "execution_count": 66,
   "metadata": {},
   "outputs": [
    {
     "data": {
      "text/plain": [
       "1"
      ]
     },
     "execution_count": 66,
     "metadata": {},
     "output_type": "execute_result"
    }
   ],
   "source": [
    "nand_or_gate(1,1)"
   ]
  },
  {
   "cell_type": "code",
   "execution_count": 67,
   "metadata": {},
   "outputs": [
    {
     "data": {
      "text/plain": [
       "1"
      ]
     },
     "execution_count": 67,
     "metadata": {},
     "output_type": "execute_result"
    }
   ],
   "source": [
    "nand_or_gate(0,1)"
   ]
  },
  {
   "cell_type": "code",
   "execution_count": 68,
   "metadata": {},
   "outputs": [
    {
     "data": {
      "text/plain": [
       "0"
      ]
     },
     "execution_count": 68,
     "metadata": {},
     "output_type": "execute_result"
    }
   ],
   "source": [
    "nand_or_gate(0,0)"
   ]
  },
  {
   "cell_type": "code",
   "execution_count": 69,
   "metadata": {},
   "outputs": [],
   "source": [
    "def nor_gate(input_a, input_b):\n",
    "    or_gate_output = or_gate(input_a, input_b)\n",
    "    not_or_gate = not_gate(or_gate_output)\n",
    "    return not_or_gate"
   ]
  },
  {
   "cell_type": "code",
   "execution_count": 70,
   "metadata": {},
   "outputs": [
    {
     "data": {
      "text/plain": [
       "0"
      ]
     },
     "execution_count": 70,
     "metadata": {},
     "output_type": "execute_result"
    }
   ],
   "source": [
    "nor_gate(1,1)"
   ]
  },
  {
   "cell_type": "code",
   "execution_count": 71,
   "metadata": {},
   "outputs": [],
   "source": [
    "#C-OUT\n",
    "#We need to carry a 1 when the column has overflown; we can store a maximum of 1[b] (=2), but as we are adding three wires, we can have a potential maximum of 11[b] (=3)\n",
    "def cout(input_a, input_b, Cin):\n",
    "    output_a_and_b = and_gate(input_a, input_b)\n",
    "    output_a_and_cin = and_gate(input_a, Cin)\n",
    "    output_b_and_cin = and_gate(input_b, Cin)\n",
    "\n",
    "    output_ab_or_acin = or_gate(output_a_and_b, output_a_and_cin)\n",
    "    output_cbin_or_acin =or_gate(output_b_and_cin,output_a_and_cin)\n",
    "\n",
    "    output = or_gate(output_ab_or_acin,output_cbin_or_acin)\n",
    "\n",
    "    return output\n"
   ]
  },
  {
   "cell_type": "code",
   "execution_count": 72,
   "metadata": {},
   "outputs": [
    {
     "name": "stdout",
     "output_type": "stream",
     "text": [
      "(0, 0, 1, 0, 1, 1, 1, 0)\n"
     ]
    }
   ],
   "source": [
    "function_table = (cout(0,0,0),\n",
    "                  cout(0,0,1),\n",
    "                  cout(0,1,1),\n",
    "                  cout(0,1,0),\n",
    "                  cout(1,1,0),\n",
    "                  cout(1,1,1),\n",
    "                  cout(1,0,1),\n",
    "                  cout(1,0,0)\n",
    "                  )\n",
    "print(function_table)"
   ]
  },
  {
   "cell_type": "code",
   "execution_count": 73,
   "metadata": {},
   "outputs": [],
   "source": [
    "## XOR \n",
    "# 1 when A and B are different: \n",
    "# Use: Determines whether two inputs have different values\n",
    "def xor_gate(input_a, input_b):\n",
    "    input_a2 = input_a\n",
    "    input_b2 = input_b\n",
    "\n",
    "    not_a2 = not_gate(input_a2)\n",
    "    not_b2 = not_gate(input_b2)\n",
    "    \n",
    "    and_output_1 = and_gate(input_a, not_b2)\n",
    "    and_output_2 = and_gate(input_b, not_a2)\n",
    "\n",
    "    output = or_gate(and_output_1, and_output_2)\n",
    "\n",
    "    return output\n"
   ]
  },
  {
   "cell_type": "code",
   "execution_count": 74,
   "metadata": {},
   "outputs": [
    {
     "name": "stdout",
     "output_type": "stream",
     "text": [
      "(0, 1, 0, 1)\n"
     ]
    }
   ],
   "source": [
    "xor_function_table = ( \n",
    "                      xor_gate(0,0),\n",
    "                      xor_gate(0,1),\n",
    "                      xor_gate(1,1),\n",
    "                      xor_gate(1,0)\n",
    ")\n",
    "print(xor_function_table)"
   ]
  },
  {
   "cell_type": "code",
   "execution_count": 75,
   "metadata": {},
   "outputs": [],
   "source": [
    "## SUM\n",
    "def sum(input_a, input_b, Cin):\n",
    "    xor_output_a_b = xor_gate(input_a, input_b)\n",
    "    output = xor_gate(Cin, xor_output_a_b)\n",
    "    return output\n"
   ]
  },
  {
   "cell_type": "code",
   "execution_count": 76,
   "metadata": {},
   "outputs": [
    {
     "data": {
      "text/plain": [
       "1"
      ]
     },
     "execution_count": 76,
     "metadata": {},
     "output_type": "execute_result"
    }
   ],
   "source": [
    "sum(1,0,0)"
   ]
  },
  {
   "cell_type": "code",
   "execution_count": 77,
   "metadata": {},
   "outputs": [],
   "source": [
    "## Add (columns)\n",
    "# Input: Numbers in column + (optional) carry in number (from previous column)\n",
    "# Output: Sum to be put in columm + carry out to next column\n",
    "\n",
    "def add(input_a, input_b, Cin):\n",
    "    output_sum = sum(input_a, input_b, Cin)\n",
    "    output_cout = cout(input_a, input_b, Cin)\n",
    "\n",
    "    return  output_cout, output_sum\n"
   ]
  },
  {
   "cell_type": "code",
   "execution_count": 78,
   "metadata": {},
   "outputs": [
    {
     "name": "stdout",
     "output_type": "stream",
     "text": [
      "((0, 0), (0, 1), (0, 1), (0, 1), (1, 0), (1, 0), (1, 0), (1, 1), (0, 0))\n"
     ]
    }
   ],
   "source": [
    "add_function_table = ( \n",
    "                      add(0,0,0),\n",
    "                      add(0,0,1),\n",
    "                      add(0,1,0),\n",
    "                      add(1,0,0),\n",
    "                      add(0,1,1),\n",
    "                      add(1,1,0),\n",
    "                      add(1,0,1),\n",
    "                      add(1,1,1),\n",
    "                      add(0,0,0),\n",
    "\n",
    ")\n",
    "print(add_function_table)"
   ]
  },
  {
   "cell_type": "code",
   "execution_count": 79,
   "metadata": {},
   "outputs": [
    {
     "data": {
      "text/plain": [
       "(1, 0)"
      ]
     },
     "execution_count": 79,
     "metadata": {},
     "output_type": "execute_result"
    }
   ],
   "source": [
    "add(1,1,0)"
   ]
  },
  {
   "cell_type": "code",
   "execution_count": 80,
   "metadata": {},
   "outputs": [],
   "source": [
    "## Add machine\n",
    "# Add two nybbles\n",
    "\n",
    "def add4(bit1a, bit2a, bit3a, bit4a, bit1b, bit2b, bit3b, bit4b):\n",
    "    add_ones = add(bit1a, bit1b, 0)\n",
    "    add_ones_cout = add_ones[0]\n",
    "    add_ones_sum = add_ones[1]\n",
    "\n",
    "    add_twos = add(bit2a, bit2b, add_ones_cout)\n",
    "    add_twos_cout = add_twos[0]\n",
    "    add_twos_sum = add_twos[1]\n",
    "\n",
    "    add_threes = add(bit3a, bit3b, add_twos_cout)\n",
    "    add_threes_cout = add_threes[0]\n",
    "    add_threes_sum = add_threes[1]\n",
    "\n",
    "    add_fours = add(bit4a, bit4b, add_threes_cout)\n",
    "    add_fours_cout = add_fours[0]\n",
    "    add_fours_sum = add_fours[1]\n",
    "\n",
    "    return add_ones_sum, add_twos_sum, add_threes_sum, add_fours_sum, add_fours_cout\n",
    "\n"
   ]
  },
  {
   "cell_type": "code",
   "execution_count": 81,
   "metadata": {},
   "outputs": [
    {
     "data": {
      "text/plain": [
       "(0, 1, 1, 1, 1)"
      ]
     },
     "execution_count": 81,
     "metadata": {},
     "output_type": "execute_result"
    }
   ],
   "source": [
    "add4(1,1,1,1,1,1,1,1)"
   ]
  },
  {
   "cell_type": "code",
   "execution_count": 82,
   "metadata": {},
   "outputs": [],
   "source": [
    "# Split machine: divides a (single) wire into its value and the not of its value.\n",
    "def split(input_a):\n",
    "    not_input_a = not_gate(input_a)\n",
    "\n",
    "    return input_a, not_input_a"
   ]
  },
  {
   "cell_type": "code",
   "execution_count": 83,
   "metadata": {},
   "outputs": [
    {
     "data": {
      "text/plain": [
       "(0, 1)"
      ]
     },
     "execution_count": 83,
     "metadata": {},
     "output_type": "execute_result"
    }
   ],
   "source": [
    "split(0)"
   ]
  },
  {
   "cell_type": "code",
   "execution_count": 84,
   "metadata": {},
   "outputs": [],
   "source": [
    "def demux2(multiwire_a, D): # Note, D can be considered an ON/OFF switch, where it switches the current in the multiwire depnding on its value \n",
    "\n",
    "    d_split = split(D)\n",
    "    output_and_top = list()\n",
    "    output_and_bottom = list()\n",
    "\n",
    "    for n in multiwire_a:\n",
    "        output_and_top.append(and_gate(n, d_split[0]))\n",
    "        output_and_bottom.append(and_gate(n, d_split[1]))\n",
    "\n",
    "    return output_and_top, output_and_bottom\n",
    "\n"
   ]
  },
  {
   "cell_type": "code",
   "execution_count": 85,
   "metadata": {},
   "outputs": [],
   "source": [
    "multiwire_a =(1,0,1,1,1,1,0)\n",
    "D = 1"
   ]
  },
  {
   "cell_type": "code",
   "execution_count": 86,
   "metadata": {},
   "outputs": [
    {
     "data": {
      "text/plain": [
       "([1, 0, 1, 1, 1, 1, 0], [0, 0, 0, 0, 0, 0, 0])"
      ]
     },
     "execution_count": 86,
     "metadata": {},
     "output_type": "execute_result"
    }
   ],
   "source": [
    "demux2(multiwire_a, D)"
   ]
  },
  {
   "cell_type": "code",
   "execution_count": 87,
   "metadata": {},
   "outputs": [],
   "source": [
    "def mux2(multiwire_a, multiwire_b, W):\n",
    "    w_split = split(W)\n",
    "    output_and_top = list()\n",
    "    output_and_bottom = list()\n",
    "    output = list()\n",
    "\n",
    "    if len(multiwire_a) ==len(multiwire_b):\n",
    "      for n in multiwire_a:\n",
    "        output_and_top.append(and_gate(n, w_split[0]))\n",
    "      print(\"Top output complete\")\n",
    "      for o in multiwire_b:\n",
    "        output_and_bottom.append(and_gate(o, w_split[1]))\n",
    "      print(\"Bottom output complete\")\n",
    "\n",
    "      for p in output_and_top:\n",
    "        for q in output_and_bottom:\n",
    "          output.append(or_gate(p,q))\n",
    "\n",
    "      \n",
    "      return output\n",
    "\n",
    "    else:\n",
    "      return print(\"input multiwires not same length- check 'n'\")\n"
   ]
  },
  {
   "cell_type": "code",
   "execution_count": 88,
   "metadata": {},
   "outputs": [
    {
     "name": "stdout",
     "output_type": "stream",
     "text": [
      "Top output complete\n",
      "Bottom output complete\n"
     ]
    },
    {
     "data": {
      "text/plain": [
       "[1,\n",
       " 1,\n",
       " 1,\n",
       " 1,\n",
       " 1,\n",
       " 1,\n",
       " 1,\n",
       " 0,\n",
       " 0,\n",
       " 0,\n",
       " 0,\n",
       " 0,\n",
       " 0,\n",
       " 0,\n",
       " 1,\n",
       " 1,\n",
       " 1,\n",
       " 1,\n",
       " 1,\n",
       " 1,\n",
       " 1,\n",
       " 1,\n",
       " 1,\n",
       " 1,\n",
       " 1,\n",
       " 1,\n",
       " 1,\n",
       " 1,\n",
       " 1,\n",
       " 1,\n",
       " 1,\n",
       " 1,\n",
       " 1,\n",
       " 1,\n",
       " 1,\n",
       " 1,\n",
       " 1,\n",
       " 1,\n",
       " 1,\n",
       " 1,\n",
       " 1,\n",
       " 1,\n",
       " 0,\n",
       " 0,\n",
       " 0,\n",
       " 0,\n",
       " 0,\n",
       " 0,\n",
       " 0]"
      ]
     },
     "execution_count": 88,
     "metadata": {},
     "output_type": "execute_result"
    }
   ],
   "source": [
    "multiwire_a =(1,0,1,1,1,1,0)\n",
    "multiwire_b =(1,0,1,1,1,1,0)\n",
    "W = 1\n",
    "mux2(multiwire_a, multiwire_b, W)"
   ]
  },
  {
   "cell_type": "code",
   "execution_count": 89,
   "metadata": {},
   "outputs": [],
   "source": [
    "def hold(input_a, *output_input_b):\n",
    "\n",
    "    if output_input_b != ():\n",
    "        input_b_clean = output_input_b[0]\n",
    "        print(\"input_b is defined as:\",input_b_clean) \n",
    "        output = or_gate(input_a, input_b_clean)\n",
    "        return output\n",
    "\n",
    "    else:\n",
    "        print('no input b')\n",
    "        input_b = 0\n",
    "        print(\"input b assigned default value of: \", input_b)\n",
    "        output = or_gate(input_a, input_b)\n",
    "        return output_input_b"
   ]
  },
  {
   "cell_type": "code",
   "execution_count": 90,
   "metadata": {},
   "outputs": [],
   "source": [
    "# RS LATCH\n",
    "def rs(input_r, input_s):\n",
    "    output_bottom_or_gate = ()\n",
    "    output_top_or_gate = ()\n",
    "\n",
    "    # Top OR GATE\n",
    "    if output_bottom_or_gate !=():\n",
    "        print(\"Top gate inputs A: \",input_r, output_bottom_or_gate)\n",
    "\n",
    "        output_top_or_gate = nor_gate(input_r, output_bottom_or_gate)\n",
    "        output_q = output_top_or_gate\n",
    "    else:\n",
    "        output_bottom_or_gate = 0\n",
    "        print(\"Top gate inputs B: \",input_r, output_bottom_or_gate)\n",
    "\n",
    "        output_top_or_gate = nor_gate(input_r, output_bottom_or_gate)\n",
    "        output_q = output_top_or_gate\n",
    "    # BOTTOM OR GATE\n",
    "    if output_top_or_gate !=():\n",
    "        output_bottom_or_gate = nor_gate(input_s, output_top_or_gate)\n",
    "    else: \n",
    "        output_top_or_gate = 0\n",
    "        print(\"Bottom gate inputs: \",input_s, output_top_or_gate)\n",
    "\n",
    "        output_bottom_or_gate = nor_gate(input_s, output_top_or_gate)\n",
    "    return output_q\n",
    "\n",
    "\n"
   ]
  },
  {
   "cell_type": "code",
   "execution_count": 91,
   "metadata": {},
   "outputs": [],
   "source": [
    "def rs_latch(input_r, input_s, *input_last_q):\n",
    " \n",
    "\n",
    "\n",
    "    if input_last_q ==():\n",
    "        #BOTTOM NOR GATE\n",
    "        input_last_q_default = 0\n",
    "        bottom_nor_output = nor_gate(input_s,input_last_q_default)\n",
    "        #TOP NOR GATE\n",
    "        top_nor_gate = nor_gate(input_r, bottom_nor_output)\n",
    "        output_q = top_nor_gate\n",
    "        return output_q\n",
    "\n",
    "    else:\n",
    "        last_q = input_last_q[0]\n",
    "        bottom_nor_output = nor_gate(input_s,last_q)\n",
    "        #TOP NOR GATE\n",
    "        top_nor_gate = nor_gate(input_r, bottom_nor_output)\n",
    "        output_q = top_nor_gate\n",
    "        return output_q\n"
   ]
  },
  {
   "cell_type": "code",
   "execution_count": 92,
   "metadata": {},
   "outputs": [
    {
     "data": {
      "text/plain": [
       "1"
      ]
     },
     "execution_count": 92,
     "metadata": {},
     "output_type": "execute_result"
    }
   ],
   "source": [
    "rs_latch(0,1)"
   ]
  },
  {
   "cell_type": "code",
   "execution_count": 93,
   "metadata": {},
   "outputs": [
    {
     "data": {
      "text/plain": [
       "0"
      ]
     },
     "execution_count": 93,
     "metadata": {},
     "output_type": "execute_result"
    }
   ],
   "source": [
    "last_q = rs_latch(0,1) #  default = 0 \n",
    "r = 1\n",
    "s = 0\n",
    "rs_latch(r,s, last_q)"
   ]
  },
  {
   "cell_type": "code",
   "execution_count": 94,
   "metadata": {},
   "outputs": [
    {
     "name": "stdout",
     "output_type": "stream",
     "text": [
      "output 1 =  0\n",
      "output set =  1\n",
      "output set =  1\n",
      "output reset =  0\n",
      "output reset =  0\n",
      "output reset =  0\n",
      "output reset =  0\n"
     ]
    }
   ],
   "source": [
    "i = 0\n",
    "while i <= 6:\n",
    "    i +=1\n",
    "    if i == 1:\n",
    "        last_q = 0\n",
    "        r = 0\n",
    "        s = 0\n",
    "        next_q = rs_latch(r,s,last_q)\n",
    "        print(\"output 1 = \", next_q)\n",
    "        #print(\"A: \",i)\n",
    "\n",
    "    if i> 1 and i <= 3:\n",
    "        last_q = next_q\n",
    "        r = 0\n",
    "        s = 1\n",
    "        next_q = rs_latch(r,s,last_q)\n",
    "        print(\"output set = \", next_q)\n",
    "        #print(\"B: \",i)\n",
    "\n",
    "\n",
    "\n",
    "    if i > 3:\n",
    "        last_q = next_q\n",
    "        r = 1\n",
    "        s = 0\n",
    "        next_q = rs_latch(r,s,last_q)\n",
    "        print(\"output reset = \", next_q)\n",
    "        #print(\"C: \",i)\n",
    "\n",
    "\n",
    "\n"
   ]
  },
  {
   "cell_type": "code",
   "execution_count": 654,
   "metadata": {},
   "outputs": [],
   "source": [
    "# SNAP\n",
    "# split + AND + RS\n",
    "def snap(input_s, input_v):\n",
    "    split_output = split(input_v)\n",
    "\n",
    "    and_output_top = and_gate(input_s, split_output[0])\n",
    "    and_output_bottom = and_gate(input_s, split_output[1])\n",
    "    output_q = rs_latch(and_output_top, and_output_bottom)\n",
    "    return output_q"
   ]
  },
  {
   "cell_type": "code",
   "execution_count": 641,
   "metadata": {},
   "outputs": [
    {
     "name": "stdout",
     "output_type": "stream",
     "text": [
      "snap temp tblshoot- input v:  1\n",
      "snap temp tblshoot- split out:  (1, 0)\n",
      "0\n"
     ]
    }
   ],
   "source": [
    "snap(1,1)\n"
   ]
  },
  {
   "cell_type": "code",
   "execution_count": 658,
   "metadata": {},
   "outputs": [],
   "source": [
    "#SNAP* => polymorphic Snap machine\n",
    "def snap_star(signal_MultiMultiwire:dict, value_MultiMultiwire: dict):\n",
    "    snap_ouput_MultiMultiwire = {}\n",
    "    snap_multiwire_counter = 1\n",
    "\n",
    "    for signal_multiwire_key in signal_MultiMultiwire:\n",
    "\n",
    "        #print(\"signal multiwire key: \", signal_multiwire)\n",
    "\n",
    "        for value_multiwire_key in value_MultiMultiwire:\n",
    "\n",
    "            #print(\"value multiwire key: \", value_multiwire)\n",
    "            #print('signal multiwire: ', signal_MultiMultiwire[signal_multiwire_key])\n",
    "            #print('value multiwire: ', value_MultiMultiwire[value_multiwire_key])\n",
    "\n",
    "            signal_multiwire = signal_MultiMultiwire[signal_multiwire_key]\n",
    "            value_multiwire = value_MultiMultiwire[value_multiwire_key]\n",
    "\n",
    "            for signal_key in signal_multiwire:\n",
    "                for value_key in value_multiwire:\n",
    "\n",
    "                    #print(\"signal key:\" ,signal_key)\n",
    "                    #print(\"signals:\" ,signal_multiwire[signal_key])\n",
    "                    #print(\"########################\")\n",
    "                    #print(\"value key: \", value_key)\n",
    "                    #print(\"values:\" ,value_multiwire[value_key])\n",
    "\n",
    "                    signals = signal_multiwire[signal_key]\n",
    "                    values = value_multiwire[value_key]\n",
    "                    for signal in signals:\n",
    "                        values_list = []\n",
    "                        for value in values:\n",
    "                            #print('signal: ', signal, '| value: ', value)\n",
    "                            values_list.append(snap(int(signal), int(value)))\n",
    "                            snap_ouput_MultiMultiwire[\"snap_signal_{0}\".format(snap_multiwire_counter)] = values_list\n",
    "                            snap_multiwire_counter += 1\n",
    "\n",
    "            print(snap_ouput_MultiMultiwire)\n",
    "\n",
    "\n",
    "\n",
    "            #multiwire_ouput_q.append(snap(signal, wire))\n",
    "    return \"\"#multiwire_ouput_q"
   ]
  },
  {
   "cell_type": "code",
   "execution_count": 659,
   "metadata": {},
   "outputs": [
    {
     "name": "stdout",
     "output_type": "stream",
     "text": [
      "{'snap_signal_1': [0, 1, 0], 'snap_signal_2': [0, 1, 0], 'snap_signal_3': [0, 1, 0], 'snap_signal_4': [0, 0, 0], 'snap_signal_5': [0, 0, 0], 'snap_signal_6': [0, 0, 0], 'snap_signal_7': [0, 1, 0], 'snap_signal_8': [0, 1, 0], 'snap_signal_9': [0, 1, 0], 'snap_signal_10': [1, 1, 1], 'snap_signal_11': [1, 1, 1], 'snap_signal_12': [1, 1, 1], 'snap_signal_13': [0, 0, 0], 'snap_signal_14': [0, 0, 0], 'snap_signal_15': [0, 0, 0], 'snap_signal_16': [1, 1, 1], 'snap_signal_17': [1, 1, 1], 'snap_signal_18': [1, 1, 1], 'snap_signal_19': [0, 0, 0], 'snap_signal_20': [0, 0, 0], 'snap_signal_21': [0, 0, 0], 'snap_signal_22': [0, 0, 0], 'snap_signal_23': [0, 0, 0], 'snap_signal_24': [0, 0, 0], 'snap_signal_25': [0, 0, 0], 'snap_signal_26': [0, 0, 0], 'snap_signal_27': [0, 0, 0], 'snap_signal_28': [0, 0, 0], 'snap_signal_29': [0, 0, 0], 'snap_signal_30': [0, 0, 0], 'snap_signal_31': [0, 0, 0], 'snap_signal_32': [0, 0, 0], 'snap_signal_33': [0, 0, 0], 'snap_signal_34': [0, 0, 0], 'snap_signal_35': [0, 0, 0], 'snap_signal_36': [0, 0, 0], 'snap_signal_37': [0, 0, 0], 'snap_signal_38': [0, 0, 0], 'snap_signal_39': [0, 0, 0], 'snap_signal_40': [0, 0, 0], 'snap_signal_41': [0, 0, 0], 'snap_signal_42': [0, 0, 0], 'snap_signal_43': [0, 0, 0], 'snap_signal_44': [0, 0, 0], 'snap_signal_45': [0, 0, 0], 'snap_signal_46': [0, 0, 0], 'snap_signal_47': [0, 0, 0], 'snap_signal_48': [0, 0, 0], 'snap_signal_49': [0, 0, 0], 'snap_signal_50': [0, 0, 0], 'snap_signal_51': [0, 0, 0], 'snap_signal_52': [0, 0, 0], 'snap_signal_53': [0, 0, 0], 'snap_signal_54': [0, 0, 0]}\n",
      "{'snap_signal_1': [0, 1, 0], 'snap_signal_2': [0, 1, 0], 'snap_signal_3': [0, 1, 0], 'snap_signal_4': [0, 0, 0], 'snap_signal_5': [0, 0, 0], 'snap_signal_6': [0, 0, 0], 'snap_signal_7': [0, 1, 0], 'snap_signal_8': [0, 1, 0], 'snap_signal_9': [0, 1, 0], 'snap_signal_10': [1, 1, 1], 'snap_signal_11': [1, 1, 1], 'snap_signal_12': [1, 1, 1], 'snap_signal_13': [0, 0, 0], 'snap_signal_14': [0, 0, 0], 'snap_signal_15': [0, 0, 0], 'snap_signal_16': [1, 1, 1], 'snap_signal_17': [1, 1, 1], 'snap_signal_18': [1, 1, 1], 'snap_signal_19': [0, 0, 0], 'snap_signal_20': [0, 0, 0], 'snap_signal_21': [0, 0, 0], 'snap_signal_22': [0, 0, 0], 'snap_signal_23': [0, 0, 0], 'snap_signal_24': [0, 0, 0], 'snap_signal_25': [0, 0, 0], 'snap_signal_26': [0, 0, 0], 'snap_signal_27': [0, 0, 0], 'snap_signal_28': [0, 0, 0], 'snap_signal_29': [0, 0, 0], 'snap_signal_30': [0, 0, 0], 'snap_signal_31': [0, 0, 0], 'snap_signal_32': [0, 0, 0], 'snap_signal_33': [0, 0, 0], 'snap_signal_34': [0, 0, 0], 'snap_signal_35': [0, 0, 0], 'snap_signal_36': [0, 0, 0], 'snap_signal_37': [0, 0, 0], 'snap_signal_38': [0, 0, 0], 'snap_signal_39': [0, 0, 0], 'snap_signal_40': [0, 0, 0], 'snap_signal_41': [0, 0, 0], 'snap_signal_42': [0, 0, 0], 'snap_signal_43': [0, 0, 0], 'snap_signal_44': [0, 0, 0], 'snap_signal_45': [0, 0, 0], 'snap_signal_46': [0, 0, 0], 'snap_signal_47': [0, 0, 0], 'snap_signal_48': [0, 0, 0], 'snap_signal_49': [0, 0, 0], 'snap_signal_50': [0, 0, 0], 'snap_signal_51': [0, 0, 0], 'snap_signal_52': [0, 0, 0], 'snap_signal_53': [0, 0, 0], 'snap_signal_54': [0, 0, 0], 'snap_signal_55': [1, 0], 'snap_signal_56': [1, 0], 'snap_signal_57': [0, 0], 'snap_signal_58': [0, 0], 'snap_signal_59': [1, 0], 'snap_signal_60': [1, 0], 'snap_signal_61': [1, 1], 'snap_signal_62': [1, 1], 'snap_signal_63': [0, 0], 'snap_signal_64': [0, 0], 'snap_signal_65': [1, 1], 'snap_signal_66': [1, 1], 'snap_signal_67': [0, 0], 'snap_signal_68': [0, 0], 'snap_signal_69': [0, 0], 'snap_signal_70': [0, 0], 'snap_signal_71': [0, 0], 'snap_signal_72': [0, 0], 'snap_signal_73': [0, 0], 'snap_signal_74': [0, 0], 'snap_signal_75': [0, 0], 'snap_signal_76': [0, 0], 'snap_signal_77': [0, 0], 'snap_signal_78': [0, 0], 'snap_signal_79': [0, 0], 'snap_signal_80': [0, 0], 'snap_signal_81': [0, 0], 'snap_signal_82': [0, 0], 'snap_signal_83': [0, 0], 'snap_signal_84': [0, 0], 'snap_signal_85': [0, 0], 'snap_signal_86': [0, 0], 'snap_signal_87': [0, 0], 'snap_signal_88': [0, 0], 'snap_signal_89': [0, 0], 'snap_signal_90': [0, 0]}\n",
      "{'snap_signal_1': [0, 1, 0], 'snap_signal_2': [0, 1, 0], 'snap_signal_3': [0, 1, 0], 'snap_signal_4': [0, 0, 0], 'snap_signal_5': [0, 0, 0], 'snap_signal_6': [0, 0, 0], 'snap_signal_7': [0, 1, 0], 'snap_signal_8': [0, 1, 0], 'snap_signal_9': [0, 1, 0], 'snap_signal_10': [1, 1, 1], 'snap_signal_11': [1, 1, 1], 'snap_signal_12': [1, 1, 1], 'snap_signal_13': [0, 0, 0], 'snap_signal_14': [0, 0, 0], 'snap_signal_15': [0, 0, 0], 'snap_signal_16': [1, 1, 1], 'snap_signal_17': [1, 1, 1], 'snap_signal_18': [1, 1, 1], 'snap_signal_19': [0, 0, 0], 'snap_signal_20': [0, 0, 0], 'snap_signal_21': [0, 0, 0], 'snap_signal_22': [0, 0, 0], 'snap_signal_23': [0, 0, 0], 'snap_signal_24': [0, 0, 0], 'snap_signal_25': [0, 0, 0], 'snap_signal_26': [0, 0, 0], 'snap_signal_27': [0, 0, 0], 'snap_signal_28': [0, 0, 0], 'snap_signal_29': [0, 0, 0], 'snap_signal_30': [0, 0, 0], 'snap_signal_31': [0, 0, 0], 'snap_signal_32': [0, 0, 0], 'snap_signal_33': [0, 0, 0], 'snap_signal_34': [0, 0, 0], 'snap_signal_35': [0, 0, 0], 'snap_signal_36': [0, 0, 0], 'snap_signal_37': [0, 0, 0], 'snap_signal_38': [0, 0, 0], 'snap_signal_39': [0, 0, 0], 'snap_signal_40': [0, 0, 0], 'snap_signal_41': [0, 0, 0], 'snap_signal_42': [0, 0, 0], 'snap_signal_43': [0, 0, 0], 'snap_signal_44': [0, 0, 0], 'snap_signal_45': [0, 0, 0], 'snap_signal_46': [0, 0, 0], 'snap_signal_47': [0, 0, 0], 'snap_signal_48': [0, 0, 0], 'snap_signal_49': [0, 0, 0], 'snap_signal_50': [0, 0, 0], 'snap_signal_51': [0, 0, 0], 'snap_signal_52': [0, 0, 0], 'snap_signal_53': [0, 0, 0], 'snap_signal_54': [0, 0, 0], 'snap_signal_55': [1, 0], 'snap_signal_56': [1, 0], 'snap_signal_57': [0, 0], 'snap_signal_58': [0, 0], 'snap_signal_59': [1, 0], 'snap_signal_60': [1, 0], 'snap_signal_61': [1, 1], 'snap_signal_62': [1, 1], 'snap_signal_63': [0, 0], 'snap_signal_64': [0, 0], 'snap_signal_65': [1, 1], 'snap_signal_66': [1, 1], 'snap_signal_67': [0, 0], 'snap_signal_68': [0, 0], 'snap_signal_69': [0, 0], 'snap_signal_70': [0, 0], 'snap_signal_71': [0, 0], 'snap_signal_72': [0, 0], 'snap_signal_73': [0, 0], 'snap_signal_74': [0, 0], 'snap_signal_75': [0, 0], 'snap_signal_76': [0, 0], 'snap_signal_77': [0, 0], 'snap_signal_78': [0, 0], 'snap_signal_79': [0, 0], 'snap_signal_80': [0, 0], 'snap_signal_81': [0, 0], 'snap_signal_82': [0, 0], 'snap_signal_83': [0, 0], 'snap_signal_84': [0, 0], 'snap_signal_85': [0, 0], 'snap_signal_86': [0, 0], 'snap_signal_87': [0, 0], 'snap_signal_88': [0, 0], 'snap_signal_89': [0, 0], 'snap_signal_90': [0, 0], 'snap_signal_91': [0, 1, 0], 'snap_signal_92': [0, 1, 0], 'snap_signal_93': [0, 1, 0], 'snap_signal_94': [0, 0, 0], 'snap_signal_95': [0, 0, 0], 'snap_signal_96': [0, 0, 0], 'snap_signal_97': [0, 1, 0], 'snap_signal_98': [0, 1, 0], 'snap_signal_99': [0, 1, 0], 'snap_signal_100': [1, 1, 1], 'snap_signal_101': [1, 1, 1], 'snap_signal_102': [1, 1, 1], 'snap_signal_103': [0, 0, 0], 'snap_signal_104': [0, 0, 0], 'snap_signal_105': [0, 0, 0], 'snap_signal_106': [1, 1, 1], 'snap_signal_107': [1, 1, 1], 'snap_signal_108': [1, 1, 1], 'snap_signal_109': [0, 0, 0], 'snap_signal_110': [0, 0, 0], 'snap_signal_111': [0, 0, 0], 'snap_signal_112': [0, 0, 0], 'snap_signal_113': [0, 0, 0], 'snap_signal_114': [0, 0, 0], 'snap_signal_115': [0, 0, 0], 'snap_signal_116': [0, 0, 0], 'snap_signal_117': [0, 0, 0], 'snap_signal_118': [0, 0, 0], 'snap_signal_119': [0, 0, 0], 'snap_signal_120': [0, 0, 0], 'snap_signal_121': [0, 0, 0], 'snap_signal_122': [0, 0, 0], 'snap_signal_123': [0, 0, 0], 'snap_signal_124': [0, 0, 0], 'snap_signal_125': [0, 0, 0], 'snap_signal_126': [0, 0, 0], 'snap_signal_127': [0, 0, 0], 'snap_signal_128': [0, 0, 0], 'snap_signal_129': [0, 0, 0], 'snap_signal_130': [0, 0, 0], 'snap_signal_131': [0, 0, 0], 'snap_signal_132': [0, 0, 0], 'snap_signal_133': [0, 0, 0], 'snap_signal_134': [0, 0, 0], 'snap_signal_135': [0, 0, 0], 'snap_signal_136': [0, 0, 0], 'snap_signal_137': [0, 0, 0], 'snap_signal_138': [0, 0, 0], 'snap_signal_139': [0, 0, 0], 'snap_signal_140': [0, 0, 0], 'snap_signal_141': [0, 0, 0], 'snap_signal_142': [0, 0, 0], 'snap_signal_143': [0, 0, 0], 'snap_signal_144': [0, 0, 0]}\n",
      "{'snap_signal_1': [0, 1, 0], 'snap_signal_2': [0, 1, 0], 'snap_signal_3': [0, 1, 0], 'snap_signal_4': [0, 0, 0], 'snap_signal_5': [0, 0, 0], 'snap_signal_6': [0, 0, 0], 'snap_signal_7': [0, 1, 0], 'snap_signal_8': [0, 1, 0], 'snap_signal_9': [0, 1, 0], 'snap_signal_10': [1, 1, 1], 'snap_signal_11': [1, 1, 1], 'snap_signal_12': [1, 1, 1], 'snap_signal_13': [0, 0, 0], 'snap_signal_14': [0, 0, 0], 'snap_signal_15': [0, 0, 0], 'snap_signal_16': [1, 1, 1], 'snap_signal_17': [1, 1, 1], 'snap_signal_18': [1, 1, 1], 'snap_signal_19': [0, 0, 0], 'snap_signal_20': [0, 0, 0], 'snap_signal_21': [0, 0, 0], 'snap_signal_22': [0, 0, 0], 'snap_signal_23': [0, 0, 0], 'snap_signal_24': [0, 0, 0], 'snap_signal_25': [0, 0, 0], 'snap_signal_26': [0, 0, 0], 'snap_signal_27': [0, 0, 0], 'snap_signal_28': [0, 0, 0], 'snap_signal_29': [0, 0, 0], 'snap_signal_30': [0, 0, 0], 'snap_signal_31': [0, 0, 0], 'snap_signal_32': [0, 0, 0], 'snap_signal_33': [0, 0, 0], 'snap_signal_34': [0, 0, 0], 'snap_signal_35': [0, 0, 0], 'snap_signal_36': [0, 0, 0], 'snap_signal_37': [0, 0, 0], 'snap_signal_38': [0, 0, 0], 'snap_signal_39': [0, 0, 0], 'snap_signal_40': [0, 0, 0], 'snap_signal_41': [0, 0, 0], 'snap_signal_42': [0, 0, 0], 'snap_signal_43': [0, 0, 0], 'snap_signal_44': [0, 0, 0], 'snap_signal_45': [0, 0, 0], 'snap_signal_46': [0, 0, 0], 'snap_signal_47': [0, 0, 0], 'snap_signal_48': [0, 0, 0], 'snap_signal_49': [0, 0, 0], 'snap_signal_50': [0, 0, 0], 'snap_signal_51': [0, 0, 0], 'snap_signal_52': [0, 0, 0], 'snap_signal_53': [0, 0, 0], 'snap_signal_54': [0, 0, 0], 'snap_signal_55': [1, 0], 'snap_signal_56': [1, 0], 'snap_signal_57': [0, 0], 'snap_signal_58': [0, 0], 'snap_signal_59': [1, 0], 'snap_signal_60': [1, 0], 'snap_signal_61': [1, 1], 'snap_signal_62': [1, 1], 'snap_signal_63': [0, 0], 'snap_signal_64': [0, 0], 'snap_signal_65': [1, 1], 'snap_signal_66': [1, 1], 'snap_signal_67': [0, 0], 'snap_signal_68': [0, 0], 'snap_signal_69': [0, 0], 'snap_signal_70': [0, 0], 'snap_signal_71': [0, 0], 'snap_signal_72': [0, 0], 'snap_signal_73': [0, 0], 'snap_signal_74': [0, 0], 'snap_signal_75': [0, 0], 'snap_signal_76': [0, 0], 'snap_signal_77': [0, 0], 'snap_signal_78': [0, 0], 'snap_signal_79': [0, 0], 'snap_signal_80': [0, 0], 'snap_signal_81': [0, 0], 'snap_signal_82': [0, 0], 'snap_signal_83': [0, 0], 'snap_signal_84': [0, 0], 'snap_signal_85': [0, 0], 'snap_signal_86': [0, 0], 'snap_signal_87': [0, 0], 'snap_signal_88': [0, 0], 'snap_signal_89': [0, 0], 'snap_signal_90': [0, 0], 'snap_signal_91': [0, 1, 0], 'snap_signal_92': [0, 1, 0], 'snap_signal_93': [0, 1, 0], 'snap_signal_94': [0, 0, 0], 'snap_signal_95': [0, 0, 0], 'snap_signal_96': [0, 0, 0], 'snap_signal_97': [0, 1, 0], 'snap_signal_98': [0, 1, 0], 'snap_signal_99': [0, 1, 0], 'snap_signal_100': [1, 1, 1], 'snap_signal_101': [1, 1, 1], 'snap_signal_102': [1, 1, 1], 'snap_signal_103': [0, 0, 0], 'snap_signal_104': [0, 0, 0], 'snap_signal_105': [0, 0, 0], 'snap_signal_106': [1, 1, 1], 'snap_signal_107': [1, 1, 1], 'snap_signal_108': [1, 1, 1], 'snap_signal_109': [0, 0, 0], 'snap_signal_110': [0, 0, 0], 'snap_signal_111': [0, 0, 0], 'snap_signal_112': [0, 0, 0], 'snap_signal_113': [0, 0, 0], 'snap_signal_114': [0, 0, 0], 'snap_signal_115': [0, 0, 0], 'snap_signal_116': [0, 0, 0], 'snap_signal_117': [0, 0, 0], 'snap_signal_118': [0, 0, 0], 'snap_signal_119': [0, 0, 0], 'snap_signal_120': [0, 0, 0], 'snap_signal_121': [0, 0, 0], 'snap_signal_122': [0, 0, 0], 'snap_signal_123': [0, 0, 0], 'snap_signal_124': [0, 0, 0], 'snap_signal_125': [0, 0, 0], 'snap_signal_126': [0, 0, 0], 'snap_signal_127': [0, 0, 0], 'snap_signal_128': [0, 0, 0], 'snap_signal_129': [0, 0, 0], 'snap_signal_130': [0, 0, 0], 'snap_signal_131': [0, 0, 0], 'snap_signal_132': [0, 0, 0], 'snap_signal_133': [0, 0, 0], 'snap_signal_134': [0, 0, 0], 'snap_signal_135': [0, 0, 0], 'snap_signal_136': [0, 0, 0], 'snap_signal_137': [0, 0, 0], 'snap_signal_138': [0, 0, 0], 'snap_signal_139': [0, 0, 0], 'snap_signal_140': [0, 0, 0], 'snap_signal_141': [0, 0, 0], 'snap_signal_142': [0, 0, 0], 'snap_signal_143': [0, 0, 0], 'snap_signal_144': [0, 0, 0], 'snap_signal_145': [1, 0], 'snap_signal_146': [1, 0], 'snap_signal_147': [0, 0], 'snap_signal_148': [0, 0], 'snap_signal_149': [1, 0], 'snap_signal_150': [1, 0], 'snap_signal_151': [1, 1], 'snap_signal_152': [1, 1], 'snap_signal_153': [0, 0], 'snap_signal_154': [0, 0], 'snap_signal_155': [1, 1], 'snap_signal_156': [1, 1], 'snap_signal_157': [0, 0], 'snap_signal_158': [0, 0], 'snap_signal_159': [0, 0], 'snap_signal_160': [0, 0], 'snap_signal_161': [0, 0], 'snap_signal_162': [0, 0], 'snap_signal_163': [0, 0], 'snap_signal_164': [0, 0], 'snap_signal_165': [0, 0], 'snap_signal_166': [0, 0], 'snap_signal_167': [0, 0], 'snap_signal_168': [0, 0], 'snap_signal_169': [0, 0], 'snap_signal_170': [0, 0], 'snap_signal_171': [0, 0], 'snap_signal_172': [0, 0], 'snap_signal_173': [0, 0], 'snap_signal_174': [0, 0], 'snap_signal_175': [0, 0], 'snap_signal_176': [0, 0], 'snap_signal_177': [0, 0], 'snap_signal_178': [0, 0], 'snap_signal_179': [0, 0], 'snap_signal_180': [0, 0]}\n",
      "{'snap_signal_1': [0, 1, 0], 'snap_signal_2': [0, 1, 0], 'snap_signal_3': [0, 1, 0], 'snap_signal_4': [0, 0, 0], 'snap_signal_5': [0, 0, 0], 'snap_signal_6': [0, 0, 0], 'snap_signal_7': [0, 1, 0], 'snap_signal_8': [0, 1, 0], 'snap_signal_9': [0, 1, 0], 'snap_signal_10': [1, 1, 1], 'snap_signal_11': [1, 1, 1], 'snap_signal_12': [1, 1, 1], 'snap_signal_13': [0, 0, 0], 'snap_signal_14': [0, 0, 0], 'snap_signal_15': [0, 0, 0], 'snap_signal_16': [1, 1, 1], 'snap_signal_17': [1, 1, 1], 'snap_signal_18': [1, 1, 1], 'snap_signal_19': [0, 0, 0], 'snap_signal_20': [0, 0, 0], 'snap_signal_21': [0, 0, 0], 'snap_signal_22': [0, 0, 0], 'snap_signal_23': [0, 0, 0], 'snap_signal_24': [0, 0, 0], 'snap_signal_25': [0, 0, 0], 'snap_signal_26': [0, 0, 0], 'snap_signal_27': [0, 0, 0], 'snap_signal_28': [0, 0, 0], 'snap_signal_29': [0, 0, 0], 'snap_signal_30': [0, 0, 0], 'snap_signal_31': [0, 0, 0], 'snap_signal_32': [0, 0, 0], 'snap_signal_33': [0, 0, 0], 'snap_signal_34': [0, 0, 0], 'snap_signal_35': [0, 0, 0], 'snap_signal_36': [0, 0, 0], 'snap_signal_37': [0, 0, 0], 'snap_signal_38': [0, 0, 0], 'snap_signal_39': [0, 0, 0], 'snap_signal_40': [0, 0, 0], 'snap_signal_41': [0, 0, 0], 'snap_signal_42': [0, 0, 0], 'snap_signal_43': [0, 0, 0], 'snap_signal_44': [0, 0, 0], 'snap_signal_45': [0, 0, 0], 'snap_signal_46': [0, 0, 0], 'snap_signal_47': [0, 0, 0], 'snap_signal_48': [0, 0, 0], 'snap_signal_49': [0, 0, 0], 'snap_signal_50': [0, 0, 0], 'snap_signal_51': [0, 0, 0], 'snap_signal_52': [0, 0, 0], 'snap_signal_53': [0, 0, 0], 'snap_signal_54': [0, 0, 0], 'snap_signal_55': [1, 0], 'snap_signal_56': [1, 0], 'snap_signal_57': [0, 0], 'snap_signal_58': [0, 0], 'snap_signal_59': [1, 0], 'snap_signal_60': [1, 0], 'snap_signal_61': [1, 1], 'snap_signal_62': [1, 1], 'snap_signal_63': [0, 0], 'snap_signal_64': [0, 0], 'snap_signal_65': [1, 1], 'snap_signal_66': [1, 1], 'snap_signal_67': [0, 0], 'snap_signal_68': [0, 0], 'snap_signal_69': [0, 0], 'snap_signal_70': [0, 0], 'snap_signal_71': [0, 0], 'snap_signal_72': [0, 0], 'snap_signal_73': [0, 0], 'snap_signal_74': [0, 0], 'snap_signal_75': [0, 0], 'snap_signal_76': [0, 0], 'snap_signal_77': [0, 0], 'snap_signal_78': [0, 0], 'snap_signal_79': [0, 0], 'snap_signal_80': [0, 0], 'snap_signal_81': [0, 0], 'snap_signal_82': [0, 0], 'snap_signal_83': [0, 0], 'snap_signal_84': [0, 0], 'snap_signal_85': [0, 0], 'snap_signal_86': [0, 0], 'snap_signal_87': [0, 0], 'snap_signal_88': [0, 0], 'snap_signal_89': [0, 0], 'snap_signal_90': [0, 0], 'snap_signal_91': [0, 1, 0], 'snap_signal_92': [0, 1, 0], 'snap_signal_93': [0, 1, 0], 'snap_signal_94': [0, 0, 0], 'snap_signal_95': [0, 0, 0], 'snap_signal_96': [0, 0, 0], 'snap_signal_97': [0, 1, 0], 'snap_signal_98': [0, 1, 0], 'snap_signal_99': [0, 1, 0], 'snap_signal_100': [1, 1, 1], 'snap_signal_101': [1, 1, 1], 'snap_signal_102': [1, 1, 1], 'snap_signal_103': [0, 0, 0], 'snap_signal_104': [0, 0, 0], 'snap_signal_105': [0, 0, 0], 'snap_signal_106': [1, 1, 1], 'snap_signal_107': [1, 1, 1], 'snap_signal_108': [1, 1, 1], 'snap_signal_109': [0, 0, 0], 'snap_signal_110': [0, 0, 0], 'snap_signal_111': [0, 0, 0], 'snap_signal_112': [0, 0, 0], 'snap_signal_113': [0, 0, 0], 'snap_signal_114': [0, 0, 0], 'snap_signal_115': [0, 0, 0], 'snap_signal_116': [0, 0, 0], 'snap_signal_117': [0, 0, 0], 'snap_signal_118': [0, 0, 0], 'snap_signal_119': [0, 0, 0], 'snap_signal_120': [0, 0, 0], 'snap_signal_121': [0, 0, 0], 'snap_signal_122': [0, 0, 0], 'snap_signal_123': [0, 0, 0], 'snap_signal_124': [0, 0, 0], 'snap_signal_125': [0, 0, 0], 'snap_signal_126': [0, 0, 0], 'snap_signal_127': [0, 0, 0], 'snap_signal_128': [0, 0, 0], 'snap_signal_129': [0, 0, 0], 'snap_signal_130': [0, 0, 0], 'snap_signal_131': [0, 0, 0], 'snap_signal_132': [0, 0, 0], 'snap_signal_133': [0, 0, 0], 'snap_signal_134': [0, 0, 0], 'snap_signal_135': [0, 0, 0], 'snap_signal_136': [0, 0, 0], 'snap_signal_137': [0, 0, 0], 'snap_signal_138': [0, 0, 0], 'snap_signal_139': [0, 0, 0], 'snap_signal_140': [0, 0, 0], 'snap_signal_141': [0, 0, 0], 'snap_signal_142': [0, 0, 0], 'snap_signal_143': [0, 0, 0], 'snap_signal_144': [0, 0, 0], 'snap_signal_145': [1, 0], 'snap_signal_146': [1, 0], 'snap_signal_147': [0, 0], 'snap_signal_148': [0, 0], 'snap_signal_149': [1, 0], 'snap_signal_150': [1, 0], 'snap_signal_151': [1, 1], 'snap_signal_152': [1, 1], 'snap_signal_153': [0, 0], 'snap_signal_154': [0, 0], 'snap_signal_155': [1, 1], 'snap_signal_156': [1, 1], 'snap_signal_157': [0, 0], 'snap_signal_158': [0, 0], 'snap_signal_159': [0, 0], 'snap_signal_160': [0, 0], 'snap_signal_161': [0, 0], 'snap_signal_162': [0, 0], 'snap_signal_163': [0, 0], 'snap_signal_164': [0, 0], 'snap_signal_165': [0, 0], 'snap_signal_166': [0, 0], 'snap_signal_167': [0, 0], 'snap_signal_168': [0, 0], 'snap_signal_169': [0, 0], 'snap_signal_170': [0, 0], 'snap_signal_171': [0, 0], 'snap_signal_172': [0, 0], 'snap_signal_173': [0, 0], 'snap_signal_174': [0, 0], 'snap_signal_175': [0, 0], 'snap_signal_176': [0, 0], 'snap_signal_177': [0, 0], 'snap_signal_178': [0, 0], 'snap_signal_179': [0, 0], 'snap_signal_180': [0, 0], 'snap_signal_181': [0, 0, 0], 'snap_signal_182': [0, 0, 0], 'snap_signal_183': [0, 0, 0], 'snap_signal_184': [0, 1, 0], 'snap_signal_185': [0, 1, 0], 'snap_signal_186': [0, 1, 0], 'snap_signal_187': [0, 0, 0], 'snap_signal_188': [0, 0, 0], 'snap_signal_189': [0, 0, 0], 'snap_signal_190': [1, 1, 1], 'snap_signal_191': [1, 1, 1], 'snap_signal_192': [1, 1, 1], 'snap_signal_193': [0, 0, 0], 'snap_signal_194': [0, 0, 0], 'snap_signal_195': [0, 0, 0], 'snap_signal_196': [0, 0, 0], 'snap_signal_197': [0, 0, 0], 'snap_signal_198': [0, 0, 0], 'snap_signal_199': [0, 0, 0], 'snap_signal_200': [0, 0, 0], 'snap_signal_201': [0, 0, 0], 'snap_signal_202': [0, 0, 0], 'snap_signal_203': [0, 0, 0], 'snap_signal_204': [0, 0, 0], 'snap_signal_205': [0, 0, 0], 'snap_signal_206': [0, 0, 0], 'snap_signal_207': [0, 0, 0], 'snap_signal_208': [0, 0, 0], 'snap_signal_209': [0, 0, 0], 'snap_signal_210': [0, 0, 0], 'snap_signal_211': [0, 0, 0], 'snap_signal_212': [0, 0, 0], 'snap_signal_213': [0, 0, 0], 'snap_signal_214': [0, 0, 0], 'snap_signal_215': [0, 0, 0], 'snap_signal_216': [0, 0, 0]}\n",
      "{'snap_signal_1': [0, 1, 0], 'snap_signal_2': [0, 1, 0], 'snap_signal_3': [0, 1, 0], 'snap_signal_4': [0, 0, 0], 'snap_signal_5': [0, 0, 0], 'snap_signal_6': [0, 0, 0], 'snap_signal_7': [0, 1, 0], 'snap_signal_8': [0, 1, 0], 'snap_signal_9': [0, 1, 0], 'snap_signal_10': [1, 1, 1], 'snap_signal_11': [1, 1, 1], 'snap_signal_12': [1, 1, 1], 'snap_signal_13': [0, 0, 0], 'snap_signal_14': [0, 0, 0], 'snap_signal_15': [0, 0, 0], 'snap_signal_16': [1, 1, 1], 'snap_signal_17': [1, 1, 1], 'snap_signal_18': [1, 1, 1], 'snap_signal_19': [0, 0, 0], 'snap_signal_20': [0, 0, 0], 'snap_signal_21': [0, 0, 0], 'snap_signal_22': [0, 0, 0], 'snap_signal_23': [0, 0, 0], 'snap_signal_24': [0, 0, 0], 'snap_signal_25': [0, 0, 0], 'snap_signal_26': [0, 0, 0], 'snap_signal_27': [0, 0, 0], 'snap_signal_28': [0, 0, 0], 'snap_signal_29': [0, 0, 0], 'snap_signal_30': [0, 0, 0], 'snap_signal_31': [0, 0, 0], 'snap_signal_32': [0, 0, 0], 'snap_signal_33': [0, 0, 0], 'snap_signal_34': [0, 0, 0], 'snap_signal_35': [0, 0, 0], 'snap_signal_36': [0, 0, 0], 'snap_signal_37': [0, 0, 0], 'snap_signal_38': [0, 0, 0], 'snap_signal_39': [0, 0, 0], 'snap_signal_40': [0, 0, 0], 'snap_signal_41': [0, 0, 0], 'snap_signal_42': [0, 0, 0], 'snap_signal_43': [0, 0, 0], 'snap_signal_44': [0, 0, 0], 'snap_signal_45': [0, 0, 0], 'snap_signal_46': [0, 0, 0], 'snap_signal_47': [0, 0, 0], 'snap_signal_48': [0, 0, 0], 'snap_signal_49': [0, 0, 0], 'snap_signal_50': [0, 0, 0], 'snap_signal_51': [0, 0, 0], 'snap_signal_52': [0, 0, 0], 'snap_signal_53': [0, 0, 0], 'snap_signal_54': [0, 0, 0], 'snap_signal_55': [1, 0], 'snap_signal_56': [1, 0], 'snap_signal_57': [0, 0], 'snap_signal_58': [0, 0], 'snap_signal_59': [1, 0], 'snap_signal_60': [1, 0], 'snap_signal_61': [1, 1], 'snap_signal_62': [1, 1], 'snap_signal_63': [0, 0], 'snap_signal_64': [0, 0], 'snap_signal_65': [1, 1], 'snap_signal_66': [1, 1], 'snap_signal_67': [0, 0], 'snap_signal_68': [0, 0], 'snap_signal_69': [0, 0], 'snap_signal_70': [0, 0], 'snap_signal_71': [0, 0], 'snap_signal_72': [0, 0], 'snap_signal_73': [0, 0], 'snap_signal_74': [0, 0], 'snap_signal_75': [0, 0], 'snap_signal_76': [0, 0], 'snap_signal_77': [0, 0], 'snap_signal_78': [0, 0], 'snap_signal_79': [0, 0], 'snap_signal_80': [0, 0], 'snap_signal_81': [0, 0], 'snap_signal_82': [0, 0], 'snap_signal_83': [0, 0], 'snap_signal_84': [0, 0], 'snap_signal_85': [0, 0], 'snap_signal_86': [0, 0], 'snap_signal_87': [0, 0], 'snap_signal_88': [0, 0], 'snap_signal_89': [0, 0], 'snap_signal_90': [0, 0], 'snap_signal_91': [0, 1, 0], 'snap_signal_92': [0, 1, 0], 'snap_signal_93': [0, 1, 0], 'snap_signal_94': [0, 0, 0], 'snap_signal_95': [0, 0, 0], 'snap_signal_96': [0, 0, 0], 'snap_signal_97': [0, 1, 0], 'snap_signal_98': [0, 1, 0], 'snap_signal_99': [0, 1, 0], 'snap_signal_100': [1, 1, 1], 'snap_signal_101': [1, 1, 1], 'snap_signal_102': [1, 1, 1], 'snap_signal_103': [0, 0, 0], 'snap_signal_104': [0, 0, 0], 'snap_signal_105': [0, 0, 0], 'snap_signal_106': [1, 1, 1], 'snap_signal_107': [1, 1, 1], 'snap_signal_108': [1, 1, 1], 'snap_signal_109': [0, 0, 0], 'snap_signal_110': [0, 0, 0], 'snap_signal_111': [0, 0, 0], 'snap_signal_112': [0, 0, 0], 'snap_signal_113': [0, 0, 0], 'snap_signal_114': [0, 0, 0], 'snap_signal_115': [0, 0, 0], 'snap_signal_116': [0, 0, 0], 'snap_signal_117': [0, 0, 0], 'snap_signal_118': [0, 0, 0], 'snap_signal_119': [0, 0, 0], 'snap_signal_120': [0, 0, 0], 'snap_signal_121': [0, 0, 0], 'snap_signal_122': [0, 0, 0], 'snap_signal_123': [0, 0, 0], 'snap_signal_124': [0, 0, 0], 'snap_signal_125': [0, 0, 0], 'snap_signal_126': [0, 0, 0], 'snap_signal_127': [0, 0, 0], 'snap_signal_128': [0, 0, 0], 'snap_signal_129': [0, 0, 0], 'snap_signal_130': [0, 0, 0], 'snap_signal_131': [0, 0, 0], 'snap_signal_132': [0, 0, 0], 'snap_signal_133': [0, 0, 0], 'snap_signal_134': [0, 0, 0], 'snap_signal_135': [0, 0, 0], 'snap_signal_136': [0, 0, 0], 'snap_signal_137': [0, 0, 0], 'snap_signal_138': [0, 0, 0], 'snap_signal_139': [0, 0, 0], 'snap_signal_140': [0, 0, 0], 'snap_signal_141': [0, 0, 0], 'snap_signal_142': [0, 0, 0], 'snap_signal_143': [0, 0, 0], 'snap_signal_144': [0, 0, 0], 'snap_signal_145': [1, 0], 'snap_signal_146': [1, 0], 'snap_signal_147': [0, 0], 'snap_signal_148': [0, 0], 'snap_signal_149': [1, 0], 'snap_signal_150': [1, 0], 'snap_signal_151': [1, 1], 'snap_signal_152': [1, 1], 'snap_signal_153': [0, 0], 'snap_signal_154': [0, 0], 'snap_signal_155': [1, 1], 'snap_signal_156': [1, 1], 'snap_signal_157': [0, 0], 'snap_signal_158': [0, 0], 'snap_signal_159': [0, 0], 'snap_signal_160': [0, 0], 'snap_signal_161': [0, 0], 'snap_signal_162': [0, 0], 'snap_signal_163': [0, 0], 'snap_signal_164': [0, 0], 'snap_signal_165': [0, 0], 'snap_signal_166': [0, 0], 'snap_signal_167': [0, 0], 'snap_signal_168': [0, 0], 'snap_signal_169': [0, 0], 'snap_signal_170': [0, 0], 'snap_signal_171': [0, 0], 'snap_signal_172': [0, 0], 'snap_signal_173': [0, 0], 'snap_signal_174': [0, 0], 'snap_signal_175': [0, 0], 'snap_signal_176': [0, 0], 'snap_signal_177': [0, 0], 'snap_signal_178': [0, 0], 'snap_signal_179': [0, 0], 'snap_signal_180': [0, 0], 'snap_signal_181': [0, 0, 0], 'snap_signal_182': [0, 0, 0], 'snap_signal_183': [0, 0, 0], 'snap_signal_184': [0, 1, 0], 'snap_signal_185': [0, 1, 0], 'snap_signal_186': [0, 1, 0], 'snap_signal_187': [0, 0, 0], 'snap_signal_188': [0, 0, 0], 'snap_signal_189': [0, 0, 0], 'snap_signal_190': [1, 1, 1], 'snap_signal_191': [1, 1, 1], 'snap_signal_192': [1, 1, 1], 'snap_signal_193': [0, 0, 0], 'snap_signal_194': [0, 0, 0], 'snap_signal_195': [0, 0, 0], 'snap_signal_196': [0, 0, 0], 'snap_signal_197': [0, 0, 0], 'snap_signal_198': [0, 0, 0], 'snap_signal_199': [0, 0, 0], 'snap_signal_200': [0, 0, 0], 'snap_signal_201': [0, 0, 0], 'snap_signal_202': [0, 0, 0], 'snap_signal_203': [0, 0, 0], 'snap_signal_204': [0, 0, 0], 'snap_signal_205': [0, 0, 0], 'snap_signal_206': [0, 0, 0], 'snap_signal_207': [0, 0, 0], 'snap_signal_208': [0, 0, 0], 'snap_signal_209': [0, 0, 0], 'snap_signal_210': [0, 0, 0], 'snap_signal_211': [0, 0, 0], 'snap_signal_212': [0, 0, 0], 'snap_signal_213': [0, 0, 0], 'snap_signal_214': [0, 0, 0], 'snap_signal_215': [0, 0, 0], 'snap_signal_216': [0, 0, 0], 'snap_signal_217': [0, 0], 'snap_signal_218': [0, 0], 'snap_signal_219': [1, 0], 'snap_signal_220': [1, 0], 'snap_signal_221': [0, 0], 'snap_signal_222': [0, 0], 'snap_signal_223': [1, 1], 'snap_signal_224': [1, 1], 'snap_signal_225': [0, 0], 'snap_signal_226': [0, 0], 'snap_signal_227': [0, 0], 'snap_signal_228': [0, 0], 'snap_signal_229': [0, 0], 'snap_signal_230': [0, 0], 'snap_signal_231': [0, 0], 'snap_signal_232': [0, 0], 'snap_signal_233': [0, 0], 'snap_signal_234': [0, 0], 'snap_signal_235': [0, 0], 'snap_signal_236': [0, 0], 'snap_signal_237': [0, 0], 'snap_signal_238': [0, 0], 'snap_signal_239': [0, 0], 'snap_signal_240': [0, 0]}\n",
      "{'snap_signal_1': [0, 1, 0], 'snap_signal_2': [0, 1, 0], 'snap_signal_3': [0, 1, 0], 'snap_signal_4': [0, 0, 0], 'snap_signal_5': [0, 0, 0], 'snap_signal_6': [0, 0, 0], 'snap_signal_7': [0, 1, 0], 'snap_signal_8': [0, 1, 0], 'snap_signal_9': [0, 1, 0], 'snap_signal_10': [1, 1, 1], 'snap_signal_11': [1, 1, 1], 'snap_signal_12': [1, 1, 1], 'snap_signal_13': [0, 0, 0], 'snap_signal_14': [0, 0, 0], 'snap_signal_15': [0, 0, 0], 'snap_signal_16': [1, 1, 1], 'snap_signal_17': [1, 1, 1], 'snap_signal_18': [1, 1, 1], 'snap_signal_19': [0, 0, 0], 'snap_signal_20': [0, 0, 0], 'snap_signal_21': [0, 0, 0], 'snap_signal_22': [0, 0, 0], 'snap_signal_23': [0, 0, 0], 'snap_signal_24': [0, 0, 0], 'snap_signal_25': [0, 0, 0], 'snap_signal_26': [0, 0, 0], 'snap_signal_27': [0, 0, 0], 'snap_signal_28': [0, 0, 0], 'snap_signal_29': [0, 0, 0], 'snap_signal_30': [0, 0, 0], 'snap_signal_31': [0, 0, 0], 'snap_signal_32': [0, 0, 0], 'snap_signal_33': [0, 0, 0], 'snap_signal_34': [0, 0, 0], 'snap_signal_35': [0, 0, 0], 'snap_signal_36': [0, 0, 0], 'snap_signal_37': [0, 0, 0], 'snap_signal_38': [0, 0, 0], 'snap_signal_39': [0, 0, 0], 'snap_signal_40': [0, 0, 0], 'snap_signal_41': [0, 0, 0], 'snap_signal_42': [0, 0, 0], 'snap_signal_43': [0, 0, 0], 'snap_signal_44': [0, 0, 0], 'snap_signal_45': [0, 0, 0], 'snap_signal_46': [0, 0, 0], 'snap_signal_47': [0, 0, 0], 'snap_signal_48': [0, 0, 0], 'snap_signal_49': [0, 0, 0], 'snap_signal_50': [0, 0, 0], 'snap_signal_51': [0, 0, 0], 'snap_signal_52': [0, 0, 0], 'snap_signal_53': [0, 0, 0], 'snap_signal_54': [0, 0, 0], 'snap_signal_55': [1, 0], 'snap_signal_56': [1, 0], 'snap_signal_57': [0, 0], 'snap_signal_58': [0, 0], 'snap_signal_59': [1, 0], 'snap_signal_60': [1, 0], 'snap_signal_61': [1, 1], 'snap_signal_62': [1, 1], 'snap_signal_63': [0, 0], 'snap_signal_64': [0, 0], 'snap_signal_65': [1, 1], 'snap_signal_66': [1, 1], 'snap_signal_67': [0, 0], 'snap_signal_68': [0, 0], 'snap_signal_69': [0, 0], 'snap_signal_70': [0, 0], 'snap_signal_71': [0, 0], 'snap_signal_72': [0, 0], 'snap_signal_73': [0, 0], 'snap_signal_74': [0, 0], 'snap_signal_75': [0, 0], 'snap_signal_76': [0, 0], 'snap_signal_77': [0, 0], 'snap_signal_78': [0, 0], 'snap_signal_79': [0, 0], 'snap_signal_80': [0, 0], 'snap_signal_81': [0, 0], 'snap_signal_82': [0, 0], 'snap_signal_83': [0, 0], 'snap_signal_84': [0, 0], 'snap_signal_85': [0, 0], 'snap_signal_86': [0, 0], 'snap_signal_87': [0, 0], 'snap_signal_88': [0, 0], 'snap_signal_89': [0, 0], 'snap_signal_90': [0, 0], 'snap_signal_91': [0, 1, 0], 'snap_signal_92': [0, 1, 0], 'snap_signal_93': [0, 1, 0], 'snap_signal_94': [0, 0, 0], 'snap_signal_95': [0, 0, 0], 'snap_signal_96': [0, 0, 0], 'snap_signal_97': [0, 1, 0], 'snap_signal_98': [0, 1, 0], 'snap_signal_99': [0, 1, 0], 'snap_signal_100': [1, 1, 1], 'snap_signal_101': [1, 1, 1], 'snap_signal_102': [1, 1, 1], 'snap_signal_103': [0, 0, 0], 'snap_signal_104': [0, 0, 0], 'snap_signal_105': [0, 0, 0], 'snap_signal_106': [1, 1, 1], 'snap_signal_107': [1, 1, 1], 'snap_signal_108': [1, 1, 1], 'snap_signal_109': [0, 0, 0], 'snap_signal_110': [0, 0, 0], 'snap_signal_111': [0, 0, 0], 'snap_signal_112': [0, 0, 0], 'snap_signal_113': [0, 0, 0], 'snap_signal_114': [0, 0, 0], 'snap_signal_115': [0, 0, 0], 'snap_signal_116': [0, 0, 0], 'snap_signal_117': [0, 0, 0], 'snap_signal_118': [0, 0, 0], 'snap_signal_119': [0, 0, 0], 'snap_signal_120': [0, 0, 0], 'snap_signal_121': [0, 0, 0], 'snap_signal_122': [0, 0, 0], 'snap_signal_123': [0, 0, 0], 'snap_signal_124': [0, 0, 0], 'snap_signal_125': [0, 0, 0], 'snap_signal_126': [0, 0, 0], 'snap_signal_127': [0, 0, 0], 'snap_signal_128': [0, 0, 0], 'snap_signal_129': [0, 0, 0], 'snap_signal_130': [0, 0, 0], 'snap_signal_131': [0, 0, 0], 'snap_signal_132': [0, 0, 0], 'snap_signal_133': [0, 0, 0], 'snap_signal_134': [0, 0, 0], 'snap_signal_135': [0, 0, 0], 'snap_signal_136': [0, 0, 0], 'snap_signal_137': [0, 0, 0], 'snap_signal_138': [0, 0, 0], 'snap_signal_139': [0, 0, 0], 'snap_signal_140': [0, 0, 0], 'snap_signal_141': [0, 0, 0], 'snap_signal_142': [0, 0, 0], 'snap_signal_143': [0, 0, 0], 'snap_signal_144': [0, 0, 0], 'snap_signal_145': [1, 0], 'snap_signal_146': [1, 0], 'snap_signal_147': [0, 0], 'snap_signal_148': [0, 0], 'snap_signal_149': [1, 0], 'snap_signal_150': [1, 0], 'snap_signal_151': [1, 1], 'snap_signal_152': [1, 1], 'snap_signal_153': [0, 0], 'snap_signal_154': [0, 0], 'snap_signal_155': [1, 1], 'snap_signal_156': [1, 1], 'snap_signal_157': [0, 0], 'snap_signal_158': [0, 0], 'snap_signal_159': [0, 0], 'snap_signal_160': [0, 0], 'snap_signal_161': [0, 0], 'snap_signal_162': [0, 0], 'snap_signal_163': [0, 0], 'snap_signal_164': [0, 0], 'snap_signal_165': [0, 0], 'snap_signal_166': [0, 0], 'snap_signal_167': [0, 0], 'snap_signal_168': [0, 0], 'snap_signal_169': [0, 0], 'snap_signal_170': [0, 0], 'snap_signal_171': [0, 0], 'snap_signal_172': [0, 0], 'snap_signal_173': [0, 0], 'snap_signal_174': [0, 0], 'snap_signal_175': [0, 0], 'snap_signal_176': [0, 0], 'snap_signal_177': [0, 0], 'snap_signal_178': [0, 0], 'snap_signal_179': [0, 0], 'snap_signal_180': [0, 0], 'snap_signal_181': [0, 0, 0], 'snap_signal_182': [0, 0, 0], 'snap_signal_183': [0, 0, 0], 'snap_signal_184': [0, 1, 0], 'snap_signal_185': [0, 1, 0], 'snap_signal_186': [0, 1, 0], 'snap_signal_187': [0, 0, 0], 'snap_signal_188': [0, 0, 0], 'snap_signal_189': [0, 0, 0], 'snap_signal_190': [1, 1, 1], 'snap_signal_191': [1, 1, 1], 'snap_signal_192': [1, 1, 1], 'snap_signal_193': [0, 0, 0], 'snap_signal_194': [0, 0, 0], 'snap_signal_195': [0, 0, 0], 'snap_signal_196': [0, 0, 0], 'snap_signal_197': [0, 0, 0], 'snap_signal_198': [0, 0, 0], 'snap_signal_199': [0, 0, 0], 'snap_signal_200': [0, 0, 0], 'snap_signal_201': [0, 0, 0], 'snap_signal_202': [0, 0, 0], 'snap_signal_203': [0, 0, 0], 'snap_signal_204': [0, 0, 0], 'snap_signal_205': [0, 0, 0], 'snap_signal_206': [0, 0, 0], 'snap_signal_207': [0, 0, 0], 'snap_signal_208': [0, 0, 0], 'snap_signal_209': [0, 0, 0], 'snap_signal_210': [0, 0, 0], 'snap_signal_211': [0, 0, 0], 'snap_signal_212': [0, 0, 0], 'snap_signal_213': [0, 0, 0], 'snap_signal_214': [0, 0, 0], 'snap_signal_215': [0, 0, 0], 'snap_signal_216': [0, 0, 0], 'snap_signal_217': [0, 0], 'snap_signal_218': [0, 0], 'snap_signal_219': [1, 0], 'snap_signal_220': [1, 0], 'snap_signal_221': [0, 0], 'snap_signal_222': [0, 0], 'snap_signal_223': [1, 1], 'snap_signal_224': [1, 1], 'snap_signal_225': [0, 0], 'snap_signal_226': [0, 0], 'snap_signal_227': [0, 0], 'snap_signal_228': [0, 0], 'snap_signal_229': [0, 0], 'snap_signal_230': [0, 0], 'snap_signal_231': [0, 0], 'snap_signal_232': [0, 0], 'snap_signal_233': [0, 0], 'snap_signal_234': [0, 0], 'snap_signal_235': [0, 0], 'snap_signal_236': [0, 0], 'snap_signal_237': [0, 0], 'snap_signal_238': [0, 0], 'snap_signal_239': [0, 0], 'snap_signal_240': [0, 0], 'snap_signal_241': [0, 0, 0], 'snap_signal_242': [0, 0, 0], 'snap_signal_243': [0, 0, 0], 'snap_signal_244': [0, 1, 0], 'snap_signal_245': [0, 1, 0], 'snap_signal_246': [0, 1, 0], 'snap_signal_247': [0, 0, 0], 'snap_signal_248': [0, 0, 0], 'snap_signal_249': [0, 0, 0], 'snap_signal_250': [1, 1, 1], 'snap_signal_251': [1, 1, 1], 'snap_signal_252': [1, 1, 1], 'snap_signal_253': [0, 0, 0], 'snap_signal_254': [0, 0, 0], 'snap_signal_255': [0, 0, 0], 'snap_signal_256': [0, 0, 0], 'snap_signal_257': [0, 0, 0], 'snap_signal_258': [0, 0, 0], 'snap_signal_259': [0, 0, 0], 'snap_signal_260': [0, 0, 0], 'snap_signal_261': [0, 0, 0], 'snap_signal_262': [0, 0, 0], 'snap_signal_263': [0, 0, 0], 'snap_signal_264': [0, 0, 0], 'snap_signal_265': [0, 0, 0], 'snap_signal_266': [0, 0, 0], 'snap_signal_267': [0, 0, 0], 'snap_signal_268': [0, 0, 0], 'snap_signal_269': [0, 0, 0], 'snap_signal_270': [0, 0, 0], 'snap_signal_271': [0, 0, 0], 'snap_signal_272': [0, 0, 0], 'snap_signal_273': [0, 0, 0], 'snap_signal_274': [0, 0, 0], 'snap_signal_275': [0, 0, 0], 'snap_signal_276': [0, 0, 0]}\n",
      "{'snap_signal_1': [0, 1, 0], 'snap_signal_2': [0, 1, 0], 'snap_signal_3': [0, 1, 0], 'snap_signal_4': [0, 0, 0], 'snap_signal_5': [0, 0, 0], 'snap_signal_6': [0, 0, 0], 'snap_signal_7': [0, 1, 0], 'snap_signal_8': [0, 1, 0], 'snap_signal_9': [0, 1, 0], 'snap_signal_10': [1, 1, 1], 'snap_signal_11': [1, 1, 1], 'snap_signal_12': [1, 1, 1], 'snap_signal_13': [0, 0, 0], 'snap_signal_14': [0, 0, 0], 'snap_signal_15': [0, 0, 0], 'snap_signal_16': [1, 1, 1], 'snap_signal_17': [1, 1, 1], 'snap_signal_18': [1, 1, 1], 'snap_signal_19': [0, 0, 0], 'snap_signal_20': [0, 0, 0], 'snap_signal_21': [0, 0, 0], 'snap_signal_22': [0, 0, 0], 'snap_signal_23': [0, 0, 0], 'snap_signal_24': [0, 0, 0], 'snap_signal_25': [0, 0, 0], 'snap_signal_26': [0, 0, 0], 'snap_signal_27': [0, 0, 0], 'snap_signal_28': [0, 0, 0], 'snap_signal_29': [0, 0, 0], 'snap_signal_30': [0, 0, 0], 'snap_signal_31': [0, 0, 0], 'snap_signal_32': [0, 0, 0], 'snap_signal_33': [0, 0, 0], 'snap_signal_34': [0, 0, 0], 'snap_signal_35': [0, 0, 0], 'snap_signal_36': [0, 0, 0], 'snap_signal_37': [0, 0, 0], 'snap_signal_38': [0, 0, 0], 'snap_signal_39': [0, 0, 0], 'snap_signal_40': [0, 0, 0], 'snap_signal_41': [0, 0, 0], 'snap_signal_42': [0, 0, 0], 'snap_signal_43': [0, 0, 0], 'snap_signal_44': [0, 0, 0], 'snap_signal_45': [0, 0, 0], 'snap_signal_46': [0, 0, 0], 'snap_signal_47': [0, 0, 0], 'snap_signal_48': [0, 0, 0], 'snap_signal_49': [0, 0, 0], 'snap_signal_50': [0, 0, 0], 'snap_signal_51': [0, 0, 0], 'snap_signal_52': [0, 0, 0], 'snap_signal_53': [0, 0, 0], 'snap_signal_54': [0, 0, 0], 'snap_signal_55': [1, 0], 'snap_signal_56': [1, 0], 'snap_signal_57': [0, 0], 'snap_signal_58': [0, 0], 'snap_signal_59': [1, 0], 'snap_signal_60': [1, 0], 'snap_signal_61': [1, 1], 'snap_signal_62': [1, 1], 'snap_signal_63': [0, 0], 'snap_signal_64': [0, 0], 'snap_signal_65': [1, 1], 'snap_signal_66': [1, 1], 'snap_signal_67': [0, 0], 'snap_signal_68': [0, 0], 'snap_signal_69': [0, 0], 'snap_signal_70': [0, 0], 'snap_signal_71': [0, 0], 'snap_signal_72': [0, 0], 'snap_signal_73': [0, 0], 'snap_signal_74': [0, 0], 'snap_signal_75': [0, 0], 'snap_signal_76': [0, 0], 'snap_signal_77': [0, 0], 'snap_signal_78': [0, 0], 'snap_signal_79': [0, 0], 'snap_signal_80': [0, 0], 'snap_signal_81': [0, 0], 'snap_signal_82': [0, 0], 'snap_signal_83': [0, 0], 'snap_signal_84': [0, 0], 'snap_signal_85': [0, 0], 'snap_signal_86': [0, 0], 'snap_signal_87': [0, 0], 'snap_signal_88': [0, 0], 'snap_signal_89': [0, 0], 'snap_signal_90': [0, 0], 'snap_signal_91': [0, 1, 0], 'snap_signal_92': [0, 1, 0], 'snap_signal_93': [0, 1, 0], 'snap_signal_94': [0, 0, 0], 'snap_signal_95': [0, 0, 0], 'snap_signal_96': [0, 0, 0], 'snap_signal_97': [0, 1, 0], 'snap_signal_98': [0, 1, 0], 'snap_signal_99': [0, 1, 0], 'snap_signal_100': [1, 1, 1], 'snap_signal_101': [1, 1, 1], 'snap_signal_102': [1, 1, 1], 'snap_signal_103': [0, 0, 0], 'snap_signal_104': [0, 0, 0], 'snap_signal_105': [0, 0, 0], 'snap_signal_106': [1, 1, 1], 'snap_signal_107': [1, 1, 1], 'snap_signal_108': [1, 1, 1], 'snap_signal_109': [0, 0, 0], 'snap_signal_110': [0, 0, 0], 'snap_signal_111': [0, 0, 0], 'snap_signal_112': [0, 0, 0], 'snap_signal_113': [0, 0, 0], 'snap_signal_114': [0, 0, 0], 'snap_signal_115': [0, 0, 0], 'snap_signal_116': [0, 0, 0], 'snap_signal_117': [0, 0, 0], 'snap_signal_118': [0, 0, 0], 'snap_signal_119': [0, 0, 0], 'snap_signal_120': [0, 0, 0], 'snap_signal_121': [0, 0, 0], 'snap_signal_122': [0, 0, 0], 'snap_signal_123': [0, 0, 0], 'snap_signal_124': [0, 0, 0], 'snap_signal_125': [0, 0, 0], 'snap_signal_126': [0, 0, 0], 'snap_signal_127': [0, 0, 0], 'snap_signal_128': [0, 0, 0], 'snap_signal_129': [0, 0, 0], 'snap_signal_130': [0, 0, 0], 'snap_signal_131': [0, 0, 0], 'snap_signal_132': [0, 0, 0], 'snap_signal_133': [0, 0, 0], 'snap_signal_134': [0, 0, 0], 'snap_signal_135': [0, 0, 0], 'snap_signal_136': [0, 0, 0], 'snap_signal_137': [0, 0, 0], 'snap_signal_138': [0, 0, 0], 'snap_signal_139': [0, 0, 0], 'snap_signal_140': [0, 0, 0], 'snap_signal_141': [0, 0, 0], 'snap_signal_142': [0, 0, 0], 'snap_signal_143': [0, 0, 0], 'snap_signal_144': [0, 0, 0], 'snap_signal_145': [1, 0], 'snap_signal_146': [1, 0], 'snap_signal_147': [0, 0], 'snap_signal_148': [0, 0], 'snap_signal_149': [1, 0], 'snap_signal_150': [1, 0], 'snap_signal_151': [1, 1], 'snap_signal_152': [1, 1], 'snap_signal_153': [0, 0], 'snap_signal_154': [0, 0], 'snap_signal_155': [1, 1], 'snap_signal_156': [1, 1], 'snap_signal_157': [0, 0], 'snap_signal_158': [0, 0], 'snap_signal_159': [0, 0], 'snap_signal_160': [0, 0], 'snap_signal_161': [0, 0], 'snap_signal_162': [0, 0], 'snap_signal_163': [0, 0], 'snap_signal_164': [0, 0], 'snap_signal_165': [0, 0], 'snap_signal_166': [0, 0], 'snap_signal_167': [0, 0], 'snap_signal_168': [0, 0], 'snap_signal_169': [0, 0], 'snap_signal_170': [0, 0], 'snap_signal_171': [0, 0], 'snap_signal_172': [0, 0], 'snap_signal_173': [0, 0], 'snap_signal_174': [0, 0], 'snap_signal_175': [0, 0], 'snap_signal_176': [0, 0], 'snap_signal_177': [0, 0], 'snap_signal_178': [0, 0], 'snap_signal_179': [0, 0], 'snap_signal_180': [0, 0], 'snap_signal_181': [0, 0, 0], 'snap_signal_182': [0, 0, 0], 'snap_signal_183': [0, 0, 0], 'snap_signal_184': [0, 1, 0], 'snap_signal_185': [0, 1, 0], 'snap_signal_186': [0, 1, 0], 'snap_signal_187': [0, 0, 0], 'snap_signal_188': [0, 0, 0], 'snap_signal_189': [0, 0, 0], 'snap_signal_190': [1, 1, 1], 'snap_signal_191': [1, 1, 1], 'snap_signal_192': [1, 1, 1], 'snap_signal_193': [0, 0, 0], 'snap_signal_194': [0, 0, 0], 'snap_signal_195': [0, 0, 0], 'snap_signal_196': [0, 0, 0], 'snap_signal_197': [0, 0, 0], 'snap_signal_198': [0, 0, 0], 'snap_signal_199': [0, 0, 0], 'snap_signal_200': [0, 0, 0], 'snap_signal_201': [0, 0, 0], 'snap_signal_202': [0, 0, 0], 'snap_signal_203': [0, 0, 0], 'snap_signal_204': [0, 0, 0], 'snap_signal_205': [0, 0, 0], 'snap_signal_206': [0, 0, 0], 'snap_signal_207': [0, 0, 0], 'snap_signal_208': [0, 0, 0], 'snap_signal_209': [0, 0, 0], 'snap_signal_210': [0, 0, 0], 'snap_signal_211': [0, 0, 0], 'snap_signal_212': [0, 0, 0], 'snap_signal_213': [0, 0, 0], 'snap_signal_214': [0, 0, 0], 'snap_signal_215': [0, 0, 0], 'snap_signal_216': [0, 0, 0], 'snap_signal_217': [0, 0], 'snap_signal_218': [0, 0], 'snap_signal_219': [1, 0], 'snap_signal_220': [1, 0], 'snap_signal_221': [0, 0], 'snap_signal_222': [0, 0], 'snap_signal_223': [1, 1], 'snap_signal_224': [1, 1], 'snap_signal_225': [0, 0], 'snap_signal_226': [0, 0], 'snap_signal_227': [0, 0], 'snap_signal_228': [0, 0], 'snap_signal_229': [0, 0], 'snap_signal_230': [0, 0], 'snap_signal_231': [0, 0], 'snap_signal_232': [0, 0], 'snap_signal_233': [0, 0], 'snap_signal_234': [0, 0], 'snap_signal_235': [0, 0], 'snap_signal_236': [0, 0], 'snap_signal_237': [0, 0], 'snap_signal_238': [0, 0], 'snap_signal_239': [0, 0], 'snap_signal_240': [0, 0], 'snap_signal_241': [0, 0, 0], 'snap_signal_242': [0, 0, 0], 'snap_signal_243': [0, 0, 0], 'snap_signal_244': [0, 1, 0], 'snap_signal_245': [0, 1, 0], 'snap_signal_246': [0, 1, 0], 'snap_signal_247': [0, 0, 0], 'snap_signal_248': [0, 0, 0], 'snap_signal_249': [0, 0, 0], 'snap_signal_250': [1, 1, 1], 'snap_signal_251': [1, 1, 1], 'snap_signal_252': [1, 1, 1], 'snap_signal_253': [0, 0, 0], 'snap_signal_254': [0, 0, 0], 'snap_signal_255': [0, 0, 0], 'snap_signal_256': [0, 0, 0], 'snap_signal_257': [0, 0, 0], 'snap_signal_258': [0, 0, 0], 'snap_signal_259': [0, 0, 0], 'snap_signal_260': [0, 0, 0], 'snap_signal_261': [0, 0, 0], 'snap_signal_262': [0, 0, 0], 'snap_signal_263': [0, 0, 0], 'snap_signal_264': [0, 0, 0], 'snap_signal_265': [0, 0, 0], 'snap_signal_266': [0, 0, 0], 'snap_signal_267': [0, 0, 0], 'snap_signal_268': [0, 0, 0], 'snap_signal_269': [0, 0, 0], 'snap_signal_270': [0, 0, 0], 'snap_signal_271': [0, 0, 0], 'snap_signal_272': [0, 0, 0], 'snap_signal_273': [0, 0, 0], 'snap_signal_274': [0, 0, 0], 'snap_signal_275': [0, 0, 0], 'snap_signal_276': [0, 0, 0], 'snap_signal_277': [0, 0], 'snap_signal_278': [0, 0], 'snap_signal_279': [1, 0], 'snap_signal_280': [1, 0], 'snap_signal_281': [0, 0], 'snap_signal_282': [0, 0], 'snap_signal_283': [1, 1], 'snap_signal_284': [1, 1], 'snap_signal_285': [0, 0], 'snap_signal_286': [0, 0], 'snap_signal_287': [0, 0], 'snap_signal_288': [0, 0], 'snap_signal_289': [0, 0], 'snap_signal_290': [0, 0], 'snap_signal_291': [0, 0], 'snap_signal_292': [0, 0], 'snap_signal_293': [0, 0], 'snap_signal_294': [0, 0], 'snap_signal_295': [0, 0], 'snap_signal_296': [0, 0], 'snap_signal_297': [0, 0], 'snap_signal_298': [0, 0], 'snap_signal_299': [0, 0], 'snap_signal_300': [0, 0]}\n",
      "{'snap_signal_1': [0, 1, 0], 'snap_signal_2': [0, 1, 0], 'snap_signal_3': [0, 1, 0], 'snap_signal_4': [0, 0, 0], 'snap_signal_5': [0, 0, 0], 'snap_signal_6': [0, 0, 0], 'snap_signal_7': [0, 1, 0], 'snap_signal_8': [0, 1, 0], 'snap_signal_9': [0, 1, 0], 'snap_signal_10': [1, 1, 1], 'snap_signal_11': [1, 1, 1], 'snap_signal_12': [1, 1, 1], 'snap_signal_13': [0, 0, 0], 'snap_signal_14': [0, 0, 0], 'snap_signal_15': [0, 0, 0], 'snap_signal_16': [1, 1, 1], 'snap_signal_17': [1, 1, 1], 'snap_signal_18': [1, 1, 1], 'snap_signal_19': [0, 0, 0], 'snap_signal_20': [0, 0, 0], 'snap_signal_21': [0, 0, 0], 'snap_signal_22': [0, 0, 0], 'snap_signal_23': [0, 0, 0], 'snap_signal_24': [0, 0, 0], 'snap_signal_25': [0, 0, 0], 'snap_signal_26': [0, 0, 0], 'snap_signal_27': [0, 0, 0], 'snap_signal_28': [0, 0, 0], 'snap_signal_29': [0, 0, 0], 'snap_signal_30': [0, 0, 0], 'snap_signal_31': [0, 0, 0], 'snap_signal_32': [0, 0, 0], 'snap_signal_33': [0, 0, 0], 'snap_signal_34': [0, 0, 0], 'snap_signal_35': [0, 0, 0], 'snap_signal_36': [0, 0, 0], 'snap_signal_37': [0, 0, 0], 'snap_signal_38': [0, 0, 0], 'snap_signal_39': [0, 0, 0], 'snap_signal_40': [0, 0, 0], 'snap_signal_41': [0, 0, 0], 'snap_signal_42': [0, 0, 0], 'snap_signal_43': [0, 0, 0], 'snap_signal_44': [0, 0, 0], 'snap_signal_45': [0, 0, 0], 'snap_signal_46': [0, 0, 0], 'snap_signal_47': [0, 0, 0], 'snap_signal_48': [0, 0, 0], 'snap_signal_49': [0, 0, 0], 'snap_signal_50': [0, 0, 0], 'snap_signal_51': [0, 0, 0], 'snap_signal_52': [0, 0, 0], 'snap_signal_53': [0, 0, 0], 'snap_signal_54': [0, 0, 0], 'snap_signal_55': [1, 0], 'snap_signal_56': [1, 0], 'snap_signal_57': [0, 0], 'snap_signal_58': [0, 0], 'snap_signal_59': [1, 0], 'snap_signal_60': [1, 0], 'snap_signal_61': [1, 1], 'snap_signal_62': [1, 1], 'snap_signal_63': [0, 0], 'snap_signal_64': [0, 0], 'snap_signal_65': [1, 1], 'snap_signal_66': [1, 1], 'snap_signal_67': [0, 0], 'snap_signal_68': [0, 0], 'snap_signal_69': [0, 0], 'snap_signal_70': [0, 0], 'snap_signal_71': [0, 0], 'snap_signal_72': [0, 0], 'snap_signal_73': [0, 0], 'snap_signal_74': [0, 0], 'snap_signal_75': [0, 0], 'snap_signal_76': [0, 0], 'snap_signal_77': [0, 0], 'snap_signal_78': [0, 0], 'snap_signal_79': [0, 0], 'snap_signal_80': [0, 0], 'snap_signal_81': [0, 0], 'snap_signal_82': [0, 0], 'snap_signal_83': [0, 0], 'snap_signal_84': [0, 0], 'snap_signal_85': [0, 0], 'snap_signal_86': [0, 0], 'snap_signal_87': [0, 0], 'snap_signal_88': [0, 0], 'snap_signal_89': [0, 0], 'snap_signal_90': [0, 0], 'snap_signal_91': [0, 1, 0], 'snap_signal_92': [0, 1, 0], 'snap_signal_93': [0, 1, 0], 'snap_signal_94': [0, 0, 0], 'snap_signal_95': [0, 0, 0], 'snap_signal_96': [0, 0, 0], 'snap_signal_97': [0, 1, 0], 'snap_signal_98': [0, 1, 0], 'snap_signal_99': [0, 1, 0], 'snap_signal_100': [1, 1, 1], 'snap_signal_101': [1, 1, 1], 'snap_signal_102': [1, 1, 1], 'snap_signal_103': [0, 0, 0], 'snap_signal_104': [0, 0, 0], 'snap_signal_105': [0, 0, 0], 'snap_signal_106': [1, 1, 1], 'snap_signal_107': [1, 1, 1], 'snap_signal_108': [1, 1, 1], 'snap_signal_109': [0, 0, 0], 'snap_signal_110': [0, 0, 0], 'snap_signal_111': [0, 0, 0], 'snap_signal_112': [0, 0, 0], 'snap_signal_113': [0, 0, 0], 'snap_signal_114': [0, 0, 0], 'snap_signal_115': [0, 0, 0], 'snap_signal_116': [0, 0, 0], 'snap_signal_117': [0, 0, 0], 'snap_signal_118': [0, 0, 0], 'snap_signal_119': [0, 0, 0], 'snap_signal_120': [0, 0, 0], 'snap_signal_121': [0, 0, 0], 'snap_signal_122': [0, 0, 0], 'snap_signal_123': [0, 0, 0], 'snap_signal_124': [0, 0, 0], 'snap_signal_125': [0, 0, 0], 'snap_signal_126': [0, 0, 0], 'snap_signal_127': [0, 0, 0], 'snap_signal_128': [0, 0, 0], 'snap_signal_129': [0, 0, 0], 'snap_signal_130': [0, 0, 0], 'snap_signal_131': [0, 0, 0], 'snap_signal_132': [0, 0, 0], 'snap_signal_133': [0, 0, 0], 'snap_signal_134': [0, 0, 0], 'snap_signal_135': [0, 0, 0], 'snap_signal_136': [0, 0, 0], 'snap_signal_137': [0, 0, 0], 'snap_signal_138': [0, 0, 0], 'snap_signal_139': [0, 0, 0], 'snap_signal_140': [0, 0, 0], 'snap_signal_141': [0, 0, 0], 'snap_signal_142': [0, 0, 0], 'snap_signal_143': [0, 0, 0], 'snap_signal_144': [0, 0, 0], 'snap_signal_145': [1, 0], 'snap_signal_146': [1, 0], 'snap_signal_147': [0, 0], 'snap_signal_148': [0, 0], 'snap_signal_149': [1, 0], 'snap_signal_150': [1, 0], 'snap_signal_151': [1, 1], 'snap_signal_152': [1, 1], 'snap_signal_153': [0, 0], 'snap_signal_154': [0, 0], 'snap_signal_155': [1, 1], 'snap_signal_156': [1, 1], 'snap_signal_157': [0, 0], 'snap_signal_158': [0, 0], 'snap_signal_159': [0, 0], 'snap_signal_160': [0, 0], 'snap_signal_161': [0, 0], 'snap_signal_162': [0, 0], 'snap_signal_163': [0, 0], 'snap_signal_164': [0, 0], 'snap_signal_165': [0, 0], 'snap_signal_166': [0, 0], 'snap_signal_167': [0, 0], 'snap_signal_168': [0, 0], 'snap_signal_169': [0, 0], 'snap_signal_170': [0, 0], 'snap_signal_171': [0, 0], 'snap_signal_172': [0, 0], 'snap_signal_173': [0, 0], 'snap_signal_174': [0, 0], 'snap_signal_175': [0, 0], 'snap_signal_176': [0, 0], 'snap_signal_177': [0, 0], 'snap_signal_178': [0, 0], 'snap_signal_179': [0, 0], 'snap_signal_180': [0, 0], 'snap_signal_181': [0, 0, 0], 'snap_signal_182': [0, 0, 0], 'snap_signal_183': [0, 0, 0], 'snap_signal_184': [0, 1, 0], 'snap_signal_185': [0, 1, 0], 'snap_signal_186': [0, 1, 0], 'snap_signal_187': [0, 0, 0], 'snap_signal_188': [0, 0, 0], 'snap_signal_189': [0, 0, 0], 'snap_signal_190': [1, 1, 1], 'snap_signal_191': [1, 1, 1], 'snap_signal_192': [1, 1, 1], 'snap_signal_193': [0, 0, 0], 'snap_signal_194': [0, 0, 0], 'snap_signal_195': [0, 0, 0], 'snap_signal_196': [0, 0, 0], 'snap_signal_197': [0, 0, 0], 'snap_signal_198': [0, 0, 0], 'snap_signal_199': [0, 0, 0], 'snap_signal_200': [0, 0, 0], 'snap_signal_201': [0, 0, 0], 'snap_signal_202': [0, 0, 0], 'snap_signal_203': [0, 0, 0], 'snap_signal_204': [0, 0, 0], 'snap_signal_205': [0, 0, 0], 'snap_signal_206': [0, 0, 0], 'snap_signal_207': [0, 0, 0], 'snap_signal_208': [0, 0, 0], 'snap_signal_209': [0, 0, 0], 'snap_signal_210': [0, 0, 0], 'snap_signal_211': [0, 0, 0], 'snap_signal_212': [0, 0, 0], 'snap_signal_213': [0, 0, 0], 'snap_signal_214': [0, 0, 0], 'snap_signal_215': [0, 0, 0], 'snap_signal_216': [0, 0, 0], 'snap_signal_217': [0, 0], 'snap_signal_218': [0, 0], 'snap_signal_219': [1, 0], 'snap_signal_220': [1, 0], 'snap_signal_221': [0, 0], 'snap_signal_222': [0, 0], 'snap_signal_223': [1, 1], 'snap_signal_224': [1, 1], 'snap_signal_225': [0, 0], 'snap_signal_226': [0, 0], 'snap_signal_227': [0, 0], 'snap_signal_228': [0, 0], 'snap_signal_229': [0, 0], 'snap_signal_230': [0, 0], 'snap_signal_231': [0, 0], 'snap_signal_232': [0, 0], 'snap_signal_233': [0, 0], 'snap_signal_234': [0, 0], 'snap_signal_235': [0, 0], 'snap_signal_236': [0, 0], 'snap_signal_237': [0, 0], 'snap_signal_238': [0, 0], 'snap_signal_239': [0, 0], 'snap_signal_240': [0, 0], 'snap_signal_241': [0, 0, 0], 'snap_signal_242': [0, 0, 0], 'snap_signal_243': [0, 0, 0], 'snap_signal_244': [0, 1, 0], 'snap_signal_245': [0, 1, 0], 'snap_signal_246': [0, 1, 0], 'snap_signal_247': [0, 0, 0], 'snap_signal_248': [0, 0, 0], 'snap_signal_249': [0, 0, 0], 'snap_signal_250': [1, 1, 1], 'snap_signal_251': [1, 1, 1], 'snap_signal_252': [1, 1, 1], 'snap_signal_253': [0, 0, 0], 'snap_signal_254': [0, 0, 0], 'snap_signal_255': [0, 0, 0], 'snap_signal_256': [0, 0, 0], 'snap_signal_257': [0, 0, 0], 'snap_signal_258': [0, 0, 0], 'snap_signal_259': [0, 0, 0], 'snap_signal_260': [0, 0, 0], 'snap_signal_261': [0, 0, 0], 'snap_signal_262': [0, 0, 0], 'snap_signal_263': [0, 0, 0], 'snap_signal_264': [0, 0, 0], 'snap_signal_265': [0, 0, 0], 'snap_signal_266': [0, 0, 0], 'snap_signal_267': [0, 0, 0], 'snap_signal_268': [0, 0, 0], 'snap_signal_269': [0, 0, 0], 'snap_signal_270': [0, 0, 0], 'snap_signal_271': [0, 0, 0], 'snap_signal_272': [0, 0, 0], 'snap_signal_273': [0, 0, 0], 'snap_signal_274': [0, 0, 0], 'snap_signal_275': [0, 0, 0], 'snap_signal_276': [0, 0, 0], 'snap_signal_277': [0, 0], 'snap_signal_278': [0, 0], 'snap_signal_279': [1, 0], 'snap_signal_280': [1, 0], 'snap_signal_281': [0, 0], 'snap_signal_282': [0, 0], 'snap_signal_283': [1, 1], 'snap_signal_284': [1, 1], 'snap_signal_285': [0, 0], 'snap_signal_286': [0, 0], 'snap_signal_287': [0, 0], 'snap_signal_288': [0, 0], 'snap_signal_289': [0, 0], 'snap_signal_290': [0, 0], 'snap_signal_291': [0, 0], 'snap_signal_292': [0, 0], 'snap_signal_293': [0, 0], 'snap_signal_294': [0, 0], 'snap_signal_295': [0, 0], 'snap_signal_296': [0, 0], 'snap_signal_297': [0, 0], 'snap_signal_298': [0, 0], 'snap_signal_299': [0, 0], 'snap_signal_300': [0, 0], 'snap_signal_301': [0, 1, 0], 'snap_signal_302': [0, 1, 0], 'snap_signal_303': [0, 1, 0], 'snap_signal_304': [0, 0, 0], 'snap_signal_305': [0, 0, 0], 'snap_signal_306': [0, 0, 0], 'snap_signal_307': [0, 1, 0], 'snap_signal_308': [0, 1, 0], 'snap_signal_309': [0, 1, 0], 'snap_signal_310': [1, 1, 1], 'snap_signal_311': [1, 1, 1], 'snap_signal_312': [1, 1, 1], 'snap_signal_313': [0, 0, 0], 'snap_signal_314': [0, 0, 0], 'snap_signal_315': [0, 0, 0], 'snap_signal_316': [1, 1, 1], 'snap_signal_317': [1, 1, 1], 'snap_signal_318': [1, 1, 1], 'snap_signal_319': [0, 0, 0], 'snap_signal_320': [0, 0, 0], 'snap_signal_321': [0, 0, 0], 'snap_signal_322': [0, 0, 0], 'snap_signal_323': [0, 0, 0], 'snap_signal_324': [0, 0, 0], 'snap_signal_325': [0, 0, 0], 'snap_signal_326': [0, 0, 0], 'snap_signal_327': [0, 0, 0], 'snap_signal_328': [0, 0, 0], 'snap_signal_329': [0, 0, 0], 'snap_signal_330': [0, 0, 0], 'snap_signal_331': [0, 0, 0], 'snap_signal_332': [0, 0, 0], 'snap_signal_333': [0, 0, 0], 'snap_signal_334': [0, 0, 0], 'snap_signal_335': [0, 0, 0], 'snap_signal_336': [0, 0, 0], 'snap_signal_337': [0, 0, 0], 'snap_signal_338': [0, 0, 0], 'snap_signal_339': [0, 0, 0], 'snap_signal_340': [0, 0, 0], 'snap_signal_341': [0, 0, 0], 'snap_signal_342': [0, 0, 0], 'snap_signal_343': [0, 0, 0], 'snap_signal_344': [0, 0, 0], 'snap_signal_345': [0, 0, 0], 'snap_signal_346': [0, 0, 0], 'snap_signal_347': [0, 0, 0], 'snap_signal_348': [0, 0, 0], 'snap_signal_349': [0, 0, 0], 'snap_signal_350': [0, 0, 0], 'snap_signal_351': [0, 0, 0], 'snap_signal_352': [0, 0, 0], 'snap_signal_353': [0, 0, 0], 'snap_signal_354': [0, 0, 0]}\n",
      "{'snap_signal_1': [0, 1, 0], 'snap_signal_2': [0, 1, 0], 'snap_signal_3': [0, 1, 0], 'snap_signal_4': [0, 0, 0], 'snap_signal_5': [0, 0, 0], 'snap_signal_6': [0, 0, 0], 'snap_signal_7': [0, 1, 0], 'snap_signal_8': [0, 1, 0], 'snap_signal_9': [0, 1, 0], 'snap_signal_10': [1, 1, 1], 'snap_signal_11': [1, 1, 1], 'snap_signal_12': [1, 1, 1], 'snap_signal_13': [0, 0, 0], 'snap_signal_14': [0, 0, 0], 'snap_signal_15': [0, 0, 0], 'snap_signal_16': [1, 1, 1], 'snap_signal_17': [1, 1, 1], 'snap_signal_18': [1, 1, 1], 'snap_signal_19': [0, 0, 0], 'snap_signal_20': [0, 0, 0], 'snap_signal_21': [0, 0, 0], 'snap_signal_22': [0, 0, 0], 'snap_signal_23': [0, 0, 0], 'snap_signal_24': [0, 0, 0], 'snap_signal_25': [0, 0, 0], 'snap_signal_26': [0, 0, 0], 'snap_signal_27': [0, 0, 0], 'snap_signal_28': [0, 0, 0], 'snap_signal_29': [0, 0, 0], 'snap_signal_30': [0, 0, 0], 'snap_signal_31': [0, 0, 0], 'snap_signal_32': [0, 0, 0], 'snap_signal_33': [0, 0, 0], 'snap_signal_34': [0, 0, 0], 'snap_signal_35': [0, 0, 0], 'snap_signal_36': [0, 0, 0], 'snap_signal_37': [0, 0, 0], 'snap_signal_38': [0, 0, 0], 'snap_signal_39': [0, 0, 0], 'snap_signal_40': [0, 0, 0], 'snap_signal_41': [0, 0, 0], 'snap_signal_42': [0, 0, 0], 'snap_signal_43': [0, 0, 0], 'snap_signal_44': [0, 0, 0], 'snap_signal_45': [0, 0, 0], 'snap_signal_46': [0, 0, 0], 'snap_signal_47': [0, 0, 0], 'snap_signal_48': [0, 0, 0], 'snap_signal_49': [0, 0, 0], 'snap_signal_50': [0, 0, 0], 'snap_signal_51': [0, 0, 0], 'snap_signal_52': [0, 0, 0], 'snap_signal_53': [0, 0, 0], 'snap_signal_54': [0, 0, 0], 'snap_signal_55': [1, 0], 'snap_signal_56': [1, 0], 'snap_signal_57': [0, 0], 'snap_signal_58': [0, 0], 'snap_signal_59': [1, 0], 'snap_signal_60': [1, 0], 'snap_signal_61': [1, 1], 'snap_signal_62': [1, 1], 'snap_signal_63': [0, 0], 'snap_signal_64': [0, 0], 'snap_signal_65': [1, 1], 'snap_signal_66': [1, 1], 'snap_signal_67': [0, 0], 'snap_signal_68': [0, 0], 'snap_signal_69': [0, 0], 'snap_signal_70': [0, 0], 'snap_signal_71': [0, 0], 'snap_signal_72': [0, 0], 'snap_signal_73': [0, 0], 'snap_signal_74': [0, 0], 'snap_signal_75': [0, 0], 'snap_signal_76': [0, 0], 'snap_signal_77': [0, 0], 'snap_signal_78': [0, 0], 'snap_signal_79': [0, 0], 'snap_signal_80': [0, 0], 'snap_signal_81': [0, 0], 'snap_signal_82': [0, 0], 'snap_signal_83': [0, 0], 'snap_signal_84': [0, 0], 'snap_signal_85': [0, 0], 'snap_signal_86': [0, 0], 'snap_signal_87': [0, 0], 'snap_signal_88': [0, 0], 'snap_signal_89': [0, 0], 'snap_signal_90': [0, 0], 'snap_signal_91': [0, 1, 0], 'snap_signal_92': [0, 1, 0], 'snap_signal_93': [0, 1, 0], 'snap_signal_94': [0, 0, 0], 'snap_signal_95': [0, 0, 0], 'snap_signal_96': [0, 0, 0], 'snap_signal_97': [0, 1, 0], 'snap_signal_98': [0, 1, 0], 'snap_signal_99': [0, 1, 0], 'snap_signal_100': [1, 1, 1], 'snap_signal_101': [1, 1, 1], 'snap_signal_102': [1, 1, 1], 'snap_signal_103': [0, 0, 0], 'snap_signal_104': [0, 0, 0], 'snap_signal_105': [0, 0, 0], 'snap_signal_106': [1, 1, 1], 'snap_signal_107': [1, 1, 1], 'snap_signal_108': [1, 1, 1], 'snap_signal_109': [0, 0, 0], 'snap_signal_110': [0, 0, 0], 'snap_signal_111': [0, 0, 0], 'snap_signal_112': [0, 0, 0], 'snap_signal_113': [0, 0, 0], 'snap_signal_114': [0, 0, 0], 'snap_signal_115': [0, 0, 0], 'snap_signal_116': [0, 0, 0], 'snap_signal_117': [0, 0, 0], 'snap_signal_118': [0, 0, 0], 'snap_signal_119': [0, 0, 0], 'snap_signal_120': [0, 0, 0], 'snap_signal_121': [0, 0, 0], 'snap_signal_122': [0, 0, 0], 'snap_signal_123': [0, 0, 0], 'snap_signal_124': [0, 0, 0], 'snap_signal_125': [0, 0, 0], 'snap_signal_126': [0, 0, 0], 'snap_signal_127': [0, 0, 0], 'snap_signal_128': [0, 0, 0], 'snap_signal_129': [0, 0, 0], 'snap_signal_130': [0, 0, 0], 'snap_signal_131': [0, 0, 0], 'snap_signal_132': [0, 0, 0], 'snap_signal_133': [0, 0, 0], 'snap_signal_134': [0, 0, 0], 'snap_signal_135': [0, 0, 0], 'snap_signal_136': [0, 0, 0], 'snap_signal_137': [0, 0, 0], 'snap_signal_138': [0, 0, 0], 'snap_signal_139': [0, 0, 0], 'snap_signal_140': [0, 0, 0], 'snap_signal_141': [0, 0, 0], 'snap_signal_142': [0, 0, 0], 'snap_signal_143': [0, 0, 0], 'snap_signal_144': [0, 0, 0], 'snap_signal_145': [1, 0], 'snap_signal_146': [1, 0], 'snap_signal_147': [0, 0], 'snap_signal_148': [0, 0], 'snap_signal_149': [1, 0], 'snap_signal_150': [1, 0], 'snap_signal_151': [1, 1], 'snap_signal_152': [1, 1], 'snap_signal_153': [0, 0], 'snap_signal_154': [0, 0], 'snap_signal_155': [1, 1], 'snap_signal_156': [1, 1], 'snap_signal_157': [0, 0], 'snap_signal_158': [0, 0], 'snap_signal_159': [0, 0], 'snap_signal_160': [0, 0], 'snap_signal_161': [0, 0], 'snap_signal_162': [0, 0], 'snap_signal_163': [0, 0], 'snap_signal_164': [0, 0], 'snap_signal_165': [0, 0], 'snap_signal_166': [0, 0], 'snap_signal_167': [0, 0], 'snap_signal_168': [0, 0], 'snap_signal_169': [0, 0], 'snap_signal_170': [0, 0], 'snap_signal_171': [0, 0], 'snap_signal_172': [0, 0], 'snap_signal_173': [0, 0], 'snap_signal_174': [0, 0], 'snap_signal_175': [0, 0], 'snap_signal_176': [0, 0], 'snap_signal_177': [0, 0], 'snap_signal_178': [0, 0], 'snap_signal_179': [0, 0], 'snap_signal_180': [0, 0], 'snap_signal_181': [0, 0, 0], 'snap_signal_182': [0, 0, 0], 'snap_signal_183': [0, 0, 0], 'snap_signal_184': [0, 1, 0], 'snap_signal_185': [0, 1, 0], 'snap_signal_186': [0, 1, 0], 'snap_signal_187': [0, 0, 0], 'snap_signal_188': [0, 0, 0], 'snap_signal_189': [0, 0, 0], 'snap_signal_190': [1, 1, 1], 'snap_signal_191': [1, 1, 1], 'snap_signal_192': [1, 1, 1], 'snap_signal_193': [0, 0, 0], 'snap_signal_194': [0, 0, 0], 'snap_signal_195': [0, 0, 0], 'snap_signal_196': [0, 0, 0], 'snap_signal_197': [0, 0, 0], 'snap_signal_198': [0, 0, 0], 'snap_signal_199': [0, 0, 0], 'snap_signal_200': [0, 0, 0], 'snap_signal_201': [0, 0, 0], 'snap_signal_202': [0, 0, 0], 'snap_signal_203': [0, 0, 0], 'snap_signal_204': [0, 0, 0], 'snap_signal_205': [0, 0, 0], 'snap_signal_206': [0, 0, 0], 'snap_signal_207': [0, 0, 0], 'snap_signal_208': [0, 0, 0], 'snap_signal_209': [0, 0, 0], 'snap_signal_210': [0, 0, 0], 'snap_signal_211': [0, 0, 0], 'snap_signal_212': [0, 0, 0], 'snap_signal_213': [0, 0, 0], 'snap_signal_214': [0, 0, 0], 'snap_signal_215': [0, 0, 0], 'snap_signal_216': [0, 0, 0], 'snap_signal_217': [0, 0], 'snap_signal_218': [0, 0], 'snap_signal_219': [1, 0], 'snap_signal_220': [1, 0], 'snap_signal_221': [0, 0], 'snap_signal_222': [0, 0], 'snap_signal_223': [1, 1], 'snap_signal_224': [1, 1], 'snap_signal_225': [0, 0], 'snap_signal_226': [0, 0], 'snap_signal_227': [0, 0], 'snap_signal_228': [0, 0], 'snap_signal_229': [0, 0], 'snap_signal_230': [0, 0], 'snap_signal_231': [0, 0], 'snap_signal_232': [0, 0], 'snap_signal_233': [0, 0], 'snap_signal_234': [0, 0], 'snap_signal_235': [0, 0], 'snap_signal_236': [0, 0], 'snap_signal_237': [0, 0], 'snap_signal_238': [0, 0], 'snap_signal_239': [0, 0], 'snap_signal_240': [0, 0], 'snap_signal_241': [0, 0, 0], 'snap_signal_242': [0, 0, 0], 'snap_signal_243': [0, 0, 0], 'snap_signal_244': [0, 1, 0], 'snap_signal_245': [0, 1, 0], 'snap_signal_246': [0, 1, 0], 'snap_signal_247': [0, 0, 0], 'snap_signal_248': [0, 0, 0], 'snap_signal_249': [0, 0, 0], 'snap_signal_250': [1, 1, 1], 'snap_signal_251': [1, 1, 1], 'snap_signal_252': [1, 1, 1], 'snap_signal_253': [0, 0, 0], 'snap_signal_254': [0, 0, 0], 'snap_signal_255': [0, 0, 0], 'snap_signal_256': [0, 0, 0], 'snap_signal_257': [0, 0, 0], 'snap_signal_258': [0, 0, 0], 'snap_signal_259': [0, 0, 0], 'snap_signal_260': [0, 0, 0], 'snap_signal_261': [0, 0, 0], 'snap_signal_262': [0, 0, 0], 'snap_signal_263': [0, 0, 0], 'snap_signal_264': [0, 0, 0], 'snap_signal_265': [0, 0, 0], 'snap_signal_266': [0, 0, 0], 'snap_signal_267': [0, 0, 0], 'snap_signal_268': [0, 0, 0], 'snap_signal_269': [0, 0, 0], 'snap_signal_270': [0, 0, 0], 'snap_signal_271': [0, 0, 0], 'snap_signal_272': [0, 0, 0], 'snap_signal_273': [0, 0, 0], 'snap_signal_274': [0, 0, 0], 'snap_signal_275': [0, 0, 0], 'snap_signal_276': [0, 0, 0], 'snap_signal_277': [0, 0], 'snap_signal_278': [0, 0], 'snap_signal_279': [1, 0], 'snap_signal_280': [1, 0], 'snap_signal_281': [0, 0], 'snap_signal_282': [0, 0], 'snap_signal_283': [1, 1], 'snap_signal_284': [1, 1], 'snap_signal_285': [0, 0], 'snap_signal_286': [0, 0], 'snap_signal_287': [0, 0], 'snap_signal_288': [0, 0], 'snap_signal_289': [0, 0], 'snap_signal_290': [0, 0], 'snap_signal_291': [0, 0], 'snap_signal_292': [0, 0], 'snap_signal_293': [0, 0], 'snap_signal_294': [0, 0], 'snap_signal_295': [0, 0], 'snap_signal_296': [0, 0], 'snap_signal_297': [0, 0], 'snap_signal_298': [0, 0], 'snap_signal_299': [0, 0], 'snap_signal_300': [0, 0], 'snap_signal_301': [0, 1, 0], 'snap_signal_302': [0, 1, 0], 'snap_signal_303': [0, 1, 0], 'snap_signal_304': [0, 0, 0], 'snap_signal_305': [0, 0, 0], 'snap_signal_306': [0, 0, 0], 'snap_signal_307': [0, 1, 0], 'snap_signal_308': [0, 1, 0], 'snap_signal_309': [0, 1, 0], 'snap_signal_310': [1, 1, 1], 'snap_signal_311': [1, 1, 1], 'snap_signal_312': [1, 1, 1], 'snap_signal_313': [0, 0, 0], 'snap_signal_314': [0, 0, 0], 'snap_signal_315': [0, 0, 0], 'snap_signal_316': [1, 1, 1], 'snap_signal_317': [1, 1, 1], 'snap_signal_318': [1, 1, 1], 'snap_signal_319': [0, 0, 0], 'snap_signal_320': [0, 0, 0], 'snap_signal_321': [0, 0, 0], 'snap_signal_322': [0, 0, 0], 'snap_signal_323': [0, 0, 0], 'snap_signal_324': [0, 0, 0], 'snap_signal_325': [0, 0, 0], 'snap_signal_326': [0, 0, 0], 'snap_signal_327': [0, 0, 0], 'snap_signal_328': [0, 0, 0], 'snap_signal_329': [0, 0, 0], 'snap_signal_330': [0, 0, 0], 'snap_signal_331': [0, 0, 0], 'snap_signal_332': [0, 0, 0], 'snap_signal_333': [0, 0, 0], 'snap_signal_334': [0, 0, 0], 'snap_signal_335': [0, 0, 0], 'snap_signal_336': [0, 0, 0], 'snap_signal_337': [0, 0, 0], 'snap_signal_338': [0, 0, 0], 'snap_signal_339': [0, 0, 0], 'snap_signal_340': [0, 0, 0], 'snap_signal_341': [0, 0, 0], 'snap_signal_342': [0, 0, 0], 'snap_signal_343': [0, 0, 0], 'snap_signal_344': [0, 0, 0], 'snap_signal_345': [0, 0, 0], 'snap_signal_346': [0, 0, 0], 'snap_signal_347': [0, 0, 0], 'snap_signal_348': [0, 0, 0], 'snap_signal_349': [0, 0, 0], 'snap_signal_350': [0, 0, 0], 'snap_signal_351': [0, 0, 0], 'snap_signal_352': [0, 0, 0], 'snap_signal_353': [0, 0, 0], 'snap_signal_354': [0, 0, 0], 'snap_signal_355': [1, 0], 'snap_signal_356': [1, 0], 'snap_signal_357': [0, 0], 'snap_signal_358': [0, 0], 'snap_signal_359': [1, 0], 'snap_signal_360': [1, 0], 'snap_signal_361': [1, 1], 'snap_signal_362': [1, 1], 'snap_signal_363': [0, 0], 'snap_signal_364': [0, 0], 'snap_signal_365': [1, 1], 'snap_signal_366': [1, 1], 'snap_signal_367': [0, 0], 'snap_signal_368': [0, 0], 'snap_signal_369': [0, 0], 'snap_signal_370': [0, 0], 'snap_signal_371': [0, 0], 'snap_signal_372': [0, 0], 'snap_signal_373': [0, 0], 'snap_signal_374': [0, 0], 'snap_signal_375': [0, 0], 'snap_signal_376': [0, 0], 'snap_signal_377': [0, 0], 'snap_signal_378': [0, 0], 'snap_signal_379': [0, 0], 'snap_signal_380': [0, 0], 'snap_signal_381': [0, 0], 'snap_signal_382': [0, 0], 'snap_signal_383': [0, 0], 'snap_signal_384': [0, 0], 'snap_signal_385': [0, 0], 'snap_signal_386': [0, 0], 'snap_signal_387': [0, 0], 'snap_signal_388': [0, 0], 'snap_signal_389': [0, 0], 'snap_signal_390': [0, 0]}\n",
      "{'snap_signal_1': [0, 1, 0], 'snap_signal_2': [0, 1, 0], 'snap_signal_3': [0, 1, 0], 'snap_signal_4': [0, 0, 0], 'snap_signal_5': [0, 0, 0], 'snap_signal_6': [0, 0, 0], 'snap_signal_7': [0, 1, 0], 'snap_signal_8': [0, 1, 0], 'snap_signal_9': [0, 1, 0], 'snap_signal_10': [1, 1, 1], 'snap_signal_11': [1, 1, 1], 'snap_signal_12': [1, 1, 1], 'snap_signal_13': [0, 0, 0], 'snap_signal_14': [0, 0, 0], 'snap_signal_15': [0, 0, 0], 'snap_signal_16': [1, 1, 1], 'snap_signal_17': [1, 1, 1], 'snap_signal_18': [1, 1, 1], 'snap_signal_19': [0, 0, 0], 'snap_signal_20': [0, 0, 0], 'snap_signal_21': [0, 0, 0], 'snap_signal_22': [0, 0, 0], 'snap_signal_23': [0, 0, 0], 'snap_signal_24': [0, 0, 0], 'snap_signal_25': [0, 0, 0], 'snap_signal_26': [0, 0, 0], 'snap_signal_27': [0, 0, 0], 'snap_signal_28': [0, 0, 0], 'snap_signal_29': [0, 0, 0], 'snap_signal_30': [0, 0, 0], 'snap_signal_31': [0, 0, 0], 'snap_signal_32': [0, 0, 0], 'snap_signal_33': [0, 0, 0], 'snap_signal_34': [0, 0, 0], 'snap_signal_35': [0, 0, 0], 'snap_signal_36': [0, 0, 0], 'snap_signal_37': [0, 0, 0], 'snap_signal_38': [0, 0, 0], 'snap_signal_39': [0, 0, 0], 'snap_signal_40': [0, 0, 0], 'snap_signal_41': [0, 0, 0], 'snap_signal_42': [0, 0, 0], 'snap_signal_43': [0, 0, 0], 'snap_signal_44': [0, 0, 0], 'snap_signal_45': [0, 0, 0], 'snap_signal_46': [0, 0, 0], 'snap_signal_47': [0, 0, 0], 'snap_signal_48': [0, 0, 0], 'snap_signal_49': [0, 0, 0], 'snap_signal_50': [0, 0, 0], 'snap_signal_51': [0, 0, 0], 'snap_signal_52': [0, 0, 0], 'snap_signal_53': [0, 0, 0], 'snap_signal_54': [0, 0, 0], 'snap_signal_55': [1, 0], 'snap_signal_56': [1, 0], 'snap_signal_57': [0, 0], 'snap_signal_58': [0, 0], 'snap_signal_59': [1, 0], 'snap_signal_60': [1, 0], 'snap_signal_61': [1, 1], 'snap_signal_62': [1, 1], 'snap_signal_63': [0, 0], 'snap_signal_64': [0, 0], 'snap_signal_65': [1, 1], 'snap_signal_66': [1, 1], 'snap_signal_67': [0, 0], 'snap_signal_68': [0, 0], 'snap_signal_69': [0, 0], 'snap_signal_70': [0, 0], 'snap_signal_71': [0, 0], 'snap_signal_72': [0, 0], 'snap_signal_73': [0, 0], 'snap_signal_74': [0, 0], 'snap_signal_75': [0, 0], 'snap_signal_76': [0, 0], 'snap_signal_77': [0, 0], 'snap_signal_78': [0, 0], 'snap_signal_79': [0, 0], 'snap_signal_80': [0, 0], 'snap_signal_81': [0, 0], 'snap_signal_82': [0, 0], 'snap_signal_83': [0, 0], 'snap_signal_84': [0, 0], 'snap_signal_85': [0, 0], 'snap_signal_86': [0, 0], 'snap_signal_87': [0, 0], 'snap_signal_88': [0, 0], 'snap_signal_89': [0, 0], 'snap_signal_90': [0, 0], 'snap_signal_91': [0, 1, 0], 'snap_signal_92': [0, 1, 0], 'snap_signal_93': [0, 1, 0], 'snap_signal_94': [0, 0, 0], 'snap_signal_95': [0, 0, 0], 'snap_signal_96': [0, 0, 0], 'snap_signal_97': [0, 1, 0], 'snap_signal_98': [0, 1, 0], 'snap_signal_99': [0, 1, 0], 'snap_signal_100': [1, 1, 1], 'snap_signal_101': [1, 1, 1], 'snap_signal_102': [1, 1, 1], 'snap_signal_103': [0, 0, 0], 'snap_signal_104': [0, 0, 0], 'snap_signal_105': [0, 0, 0], 'snap_signal_106': [1, 1, 1], 'snap_signal_107': [1, 1, 1], 'snap_signal_108': [1, 1, 1], 'snap_signal_109': [0, 0, 0], 'snap_signal_110': [0, 0, 0], 'snap_signal_111': [0, 0, 0], 'snap_signal_112': [0, 0, 0], 'snap_signal_113': [0, 0, 0], 'snap_signal_114': [0, 0, 0], 'snap_signal_115': [0, 0, 0], 'snap_signal_116': [0, 0, 0], 'snap_signal_117': [0, 0, 0], 'snap_signal_118': [0, 0, 0], 'snap_signal_119': [0, 0, 0], 'snap_signal_120': [0, 0, 0], 'snap_signal_121': [0, 0, 0], 'snap_signal_122': [0, 0, 0], 'snap_signal_123': [0, 0, 0], 'snap_signal_124': [0, 0, 0], 'snap_signal_125': [0, 0, 0], 'snap_signal_126': [0, 0, 0], 'snap_signal_127': [0, 0, 0], 'snap_signal_128': [0, 0, 0], 'snap_signal_129': [0, 0, 0], 'snap_signal_130': [0, 0, 0], 'snap_signal_131': [0, 0, 0], 'snap_signal_132': [0, 0, 0], 'snap_signal_133': [0, 0, 0], 'snap_signal_134': [0, 0, 0], 'snap_signal_135': [0, 0, 0], 'snap_signal_136': [0, 0, 0], 'snap_signal_137': [0, 0, 0], 'snap_signal_138': [0, 0, 0], 'snap_signal_139': [0, 0, 0], 'snap_signal_140': [0, 0, 0], 'snap_signal_141': [0, 0, 0], 'snap_signal_142': [0, 0, 0], 'snap_signal_143': [0, 0, 0], 'snap_signal_144': [0, 0, 0], 'snap_signal_145': [1, 0], 'snap_signal_146': [1, 0], 'snap_signal_147': [0, 0], 'snap_signal_148': [0, 0], 'snap_signal_149': [1, 0], 'snap_signal_150': [1, 0], 'snap_signal_151': [1, 1], 'snap_signal_152': [1, 1], 'snap_signal_153': [0, 0], 'snap_signal_154': [0, 0], 'snap_signal_155': [1, 1], 'snap_signal_156': [1, 1], 'snap_signal_157': [0, 0], 'snap_signal_158': [0, 0], 'snap_signal_159': [0, 0], 'snap_signal_160': [0, 0], 'snap_signal_161': [0, 0], 'snap_signal_162': [0, 0], 'snap_signal_163': [0, 0], 'snap_signal_164': [0, 0], 'snap_signal_165': [0, 0], 'snap_signal_166': [0, 0], 'snap_signal_167': [0, 0], 'snap_signal_168': [0, 0], 'snap_signal_169': [0, 0], 'snap_signal_170': [0, 0], 'snap_signal_171': [0, 0], 'snap_signal_172': [0, 0], 'snap_signal_173': [0, 0], 'snap_signal_174': [0, 0], 'snap_signal_175': [0, 0], 'snap_signal_176': [0, 0], 'snap_signal_177': [0, 0], 'snap_signal_178': [0, 0], 'snap_signal_179': [0, 0], 'snap_signal_180': [0, 0], 'snap_signal_181': [0, 0, 0], 'snap_signal_182': [0, 0, 0], 'snap_signal_183': [0, 0, 0], 'snap_signal_184': [0, 1, 0], 'snap_signal_185': [0, 1, 0], 'snap_signal_186': [0, 1, 0], 'snap_signal_187': [0, 0, 0], 'snap_signal_188': [0, 0, 0], 'snap_signal_189': [0, 0, 0], 'snap_signal_190': [1, 1, 1], 'snap_signal_191': [1, 1, 1], 'snap_signal_192': [1, 1, 1], 'snap_signal_193': [0, 0, 0], 'snap_signal_194': [0, 0, 0], 'snap_signal_195': [0, 0, 0], 'snap_signal_196': [0, 0, 0], 'snap_signal_197': [0, 0, 0], 'snap_signal_198': [0, 0, 0], 'snap_signal_199': [0, 0, 0], 'snap_signal_200': [0, 0, 0], 'snap_signal_201': [0, 0, 0], 'snap_signal_202': [0, 0, 0], 'snap_signal_203': [0, 0, 0], 'snap_signal_204': [0, 0, 0], 'snap_signal_205': [0, 0, 0], 'snap_signal_206': [0, 0, 0], 'snap_signal_207': [0, 0, 0], 'snap_signal_208': [0, 0, 0], 'snap_signal_209': [0, 0, 0], 'snap_signal_210': [0, 0, 0], 'snap_signal_211': [0, 0, 0], 'snap_signal_212': [0, 0, 0], 'snap_signal_213': [0, 0, 0], 'snap_signal_214': [0, 0, 0], 'snap_signal_215': [0, 0, 0], 'snap_signal_216': [0, 0, 0], 'snap_signal_217': [0, 0], 'snap_signal_218': [0, 0], 'snap_signal_219': [1, 0], 'snap_signal_220': [1, 0], 'snap_signal_221': [0, 0], 'snap_signal_222': [0, 0], 'snap_signal_223': [1, 1], 'snap_signal_224': [1, 1], 'snap_signal_225': [0, 0], 'snap_signal_226': [0, 0], 'snap_signal_227': [0, 0], 'snap_signal_228': [0, 0], 'snap_signal_229': [0, 0], 'snap_signal_230': [0, 0], 'snap_signal_231': [0, 0], 'snap_signal_232': [0, 0], 'snap_signal_233': [0, 0], 'snap_signal_234': [0, 0], 'snap_signal_235': [0, 0], 'snap_signal_236': [0, 0], 'snap_signal_237': [0, 0], 'snap_signal_238': [0, 0], 'snap_signal_239': [0, 0], 'snap_signal_240': [0, 0], 'snap_signal_241': [0, 0, 0], 'snap_signal_242': [0, 0, 0], 'snap_signal_243': [0, 0, 0], 'snap_signal_244': [0, 1, 0], 'snap_signal_245': [0, 1, 0], 'snap_signal_246': [0, 1, 0], 'snap_signal_247': [0, 0, 0], 'snap_signal_248': [0, 0, 0], 'snap_signal_249': [0, 0, 0], 'snap_signal_250': [1, 1, 1], 'snap_signal_251': [1, 1, 1], 'snap_signal_252': [1, 1, 1], 'snap_signal_253': [0, 0, 0], 'snap_signal_254': [0, 0, 0], 'snap_signal_255': [0, 0, 0], 'snap_signal_256': [0, 0, 0], 'snap_signal_257': [0, 0, 0], 'snap_signal_258': [0, 0, 0], 'snap_signal_259': [0, 0, 0], 'snap_signal_260': [0, 0, 0], 'snap_signal_261': [0, 0, 0], 'snap_signal_262': [0, 0, 0], 'snap_signal_263': [0, 0, 0], 'snap_signal_264': [0, 0, 0], 'snap_signal_265': [0, 0, 0], 'snap_signal_266': [0, 0, 0], 'snap_signal_267': [0, 0, 0], 'snap_signal_268': [0, 0, 0], 'snap_signal_269': [0, 0, 0], 'snap_signal_270': [0, 0, 0], 'snap_signal_271': [0, 0, 0], 'snap_signal_272': [0, 0, 0], 'snap_signal_273': [0, 0, 0], 'snap_signal_274': [0, 0, 0], 'snap_signal_275': [0, 0, 0], 'snap_signal_276': [0, 0, 0], 'snap_signal_277': [0, 0], 'snap_signal_278': [0, 0], 'snap_signal_279': [1, 0], 'snap_signal_280': [1, 0], 'snap_signal_281': [0, 0], 'snap_signal_282': [0, 0], 'snap_signal_283': [1, 1], 'snap_signal_284': [1, 1], 'snap_signal_285': [0, 0], 'snap_signal_286': [0, 0], 'snap_signal_287': [0, 0], 'snap_signal_288': [0, 0], 'snap_signal_289': [0, 0], 'snap_signal_290': [0, 0], 'snap_signal_291': [0, 0], 'snap_signal_292': [0, 0], 'snap_signal_293': [0, 0], 'snap_signal_294': [0, 0], 'snap_signal_295': [0, 0], 'snap_signal_296': [0, 0], 'snap_signal_297': [0, 0], 'snap_signal_298': [0, 0], 'snap_signal_299': [0, 0], 'snap_signal_300': [0, 0], 'snap_signal_301': [0, 1, 0], 'snap_signal_302': [0, 1, 0], 'snap_signal_303': [0, 1, 0], 'snap_signal_304': [0, 0, 0], 'snap_signal_305': [0, 0, 0], 'snap_signal_306': [0, 0, 0], 'snap_signal_307': [0, 1, 0], 'snap_signal_308': [0, 1, 0], 'snap_signal_309': [0, 1, 0], 'snap_signal_310': [1, 1, 1], 'snap_signal_311': [1, 1, 1], 'snap_signal_312': [1, 1, 1], 'snap_signal_313': [0, 0, 0], 'snap_signal_314': [0, 0, 0], 'snap_signal_315': [0, 0, 0], 'snap_signal_316': [1, 1, 1], 'snap_signal_317': [1, 1, 1], 'snap_signal_318': [1, 1, 1], 'snap_signal_319': [0, 0, 0], 'snap_signal_320': [0, 0, 0], 'snap_signal_321': [0, 0, 0], 'snap_signal_322': [0, 0, 0], 'snap_signal_323': [0, 0, 0], 'snap_signal_324': [0, 0, 0], 'snap_signal_325': [0, 0, 0], 'snap_signal_326': [0, 0, 0], 'snap_signal_327': [0, 0, 0], 'snap_signal_328': [0, 0, 0], 'snap_signal_329': [0, 0, 0], 'snap_signal_330': [0, 0, 0], 'snap_signal_331': [0, 0, 0], 'snap_signal_332': [0, 0, 0], 'snap_signal_333': [0, 0, 0], 'snap_signal_334': [0, 0, 0], 'snap_signal_335': [0, 0, 0], 'snap_signal_336': [0, 0, 0], 'snap_signal_337': [0, 0, 0], 'snap_signal_338': [0, 0, 0], 'snap_signal_339': [0, 0, 0], 'snap_signal_340': [0, 0, 0], 'snap_signal_341': [0, 0, 0], 'snap_signal_342': [0, 0, 0], 'snap_signal_343': [0, 0, 0], 'snap_signal_344': [0, 0, 0], 'snap_signal_345': [0, 0, 0], 'snap_signal_346': [0, 0, 0], 'snap_signal_347': [0, 0, 0], 'snap_signal_348': [0, 0, 0], 'snap_signal_349': [0, 0, 0], 'snap_signal_350': [0, 0, 0], 'snap_signal_351': [0, 0, 0], 'snap_signal_352': [0, 0, 0], 'snap_signal_353': [0, 0, 0], 'snap_signal_354': [0, 0, 0], 'snap_signal_355': [1, 0], 'snap_signal_356': [1, 0], 'snap_signal_357': [0, 0], 'snap_signal_358': [0, 0], 'snap_signal_359': [1, 0], 'snap_signal_360': [1, 0], 'snap_signal_361': [1, 1], 'snap_signal_362': [1, 1], 'snap_signal_363': [0, 0], 'snap_signal_364': [0, 0], 'snap_signal_365': [1, 1], 'snap_signal_366': [1, 1], 'snap_signal_367': [0, 0], 'snap_signal_368': [0, 0], 'snap_signal_369': [0, 0], 'snap_signal_370': [0, 0], 'snap_signal_371': [0, 0], 'snap_signal_372': [0, 0], 'snap_signal_373': [0, 0], 'snap_signal_374': [0, 0], 'snap_signal_375': [0, 0], 'snap_signal_376': [0, 0], 'snap_signal_377': [0, 0], 'snap_signal_378': [0, 0], 'snap_signal_379': [0, 0], 'snap_signal_380': [0, 0], 'snap_signal_381': [0, 0], 'snap_signal_382': [0, 0], 'snap_signal_383': [0, 0], 'snap_signal_384': [0, 0], 'snap_signal_385': [0, 0], 'snap_signal_386': [0, 0], 'snap_signal_387': [0, 0], 'snap_signal_388': [0, 0], 'snap_signal_389': [0, 0], 'snap_signal_390': [0, 0], 'snap_signal_391': [0, 1, 0], 'snap_signal_392': [0, 1, 0], 'snap_signal_393': [0, 1, 0], 'snap_signal_394': [0, 0, 0], 'snap_signal_395': [0, 0, 0], 'snap_signal_396': [0, 0, 0], 'snap_signal_397': [0, 1, 0], 'snap_signal_398': [0, 1, 0], 'snap_signal_399': [0, 1, 0], 'snap_signal_400': [1, 1, 1], 'snap_signal_401': [1, 1, 1], 'snap_signal_402': [1, 1, 1], 'snap_signal_403': [0, 0, 0], 'snap_signal_404': [0, 0, 0], 'snap_signal_405': [0, 0, 0], 'snap_signal_406': [1, 1, 1], 'snap_signal_407': [1, 1, 1], 'snap_signal_408': [1, 1, 1], 'snap_signal_409': [0, 0, 0], 'snap_signal_410': [0, 0, 0], 'snap_signal_411': [0, 0, 0], 'snap_signal_412': [0, 0, 0], 'snap_signal_413': [0, 0, 0], 'snap_signal_414': [0, 0, 0], 'snap_signal_415': [0, 0, 0], 'snap_signal_416': [0, 0, 0], 'snap_signal_417': [0, 0, 0], 'snap_signal_418': [0, 0, 0], 'snap_signal_419': [0, 0, 0], 'snap_signal_420': [0, 0, 0], 'snap_signal_421': [0, 0, 0], 'snap_signal_422': [0, 0, 0], 'snap_signal_423': [0, 0, 0], 'snap_signal_424': [0, 0, 0], 'snap_signal_425': [0, 0, 0], 'snap_signal_426': [0, 0, 0], 'snap_signal_427': [0, 0, 0], 'snap_signal_428': [0, 0, 0], 'snap_signal_429': [0, 0, 0], 'snap_signal_430': [0, 0, 0], 'snap_signal_431': [0, 0, 0], 'snap_signal_432': [0, 0, 0], 'snap_signal_433': [0, 0, 0], 'snap_signal_434': [0, 0, 0], 'snap_signal_435': [0, 0, 0], 'snap_signal_436': [0, 0, 0], 'snap_signal_437': [0, 0, 0], 'snap_signal_438': [0, 0, 0], 'snap_signal_439': [0, 0, 0], 'snap_signal_440': [0, 0, 0], 'snap_signal_441': [0, 0, 0], 'snap_signal_442': [0, 0, 0], 'snap_signal_443': [0, 0, 0], 'snap_signal_444': [0, 0, 0]}\n",
      "{'snap_signal_1': [0, 1, 0], 'snap_signal_2': [0, 1, 0], 'snap_signal_3': [0, 1, 0], 'snap_signal_4': [0, 0, 0], 'snap_signal_5': [0, 0, 0], 'snap_signal_6': [0, 0, 0], 'snap_signal_7': [0, 1, 0], 'snap_signal_8': [0, 1, 0], 'snap_signal_9': [0, 1, 0], 'snap_signal_10': [1, 1, 1], 'snap_signal_11': [1, 1, 1], 'snap_signal_12': [1, 1, 1], 'snap_signal_13': [0, 0, 0], 'snap_signal_14': [0, 0, 0], 'snap_signal_15': [0, 0, 0], 'snap_signal_16': [1, 1, 1], 'snap_signal_17': [1, 1, 1], 'snap_signal_18': [1, 1, 1], 'snap_signal_19': [0, 0, 0], 'snap_signal_20': [0, 0, 0], 'snap_signal_21': [0, 0, 0], 'snap_signal_22': [0, 0, 0], 'snap_signal_23': [0, 0, 0], 'snap_signal_24': [0, 0, 0], 'snap_signal_25': [0, 0, 0], 'snap_signal_26': [0, 0, 0], 'snap_signal_27': [0, 0, 0], 'snap_signal_28': [0, 0, 0], 'snap_signal_29': [0, 0, 0], 'snap_signal_30': [0, 0, 0], 'snap_signal_31': [0, 0, 0], 'snap_signal_32': [0, 0, 0], 'snap_signal_33': [0, 0, 0], 'snap_signal_34': [0, 0, 0], 'snap_signal_35': [0, 0, 0], 'snap_signal_36': [0, 0, 0], 'snap_signal_37': [0, 0, 0], 'snap_signal_38': [0, 0, 0], 'snap_signal_39': [0, 0, 0], 'snap_signal_40': [0, 0, 0], 'snap_signal_41': [0, 0, 0], 'snap_signal_42': [0, 0, 0], 'snap_signal_43': [0, 0, 0], 'snap_signal_44': [0, 0, 0], 'snap_signal_45': [0, 0, 0], 'snap_signal_46': [0, 0, 0], 'snap_signal_47': [0, 0, 0], 'snap_signal_48': [0, 0, 0], 'snap_signal_49': [0, 0, 0], 'snap_signal_50': [0, 0, 0], 'snap_signal_51': [0, 0, 0], 'snap_signal_52': [0, 0, 0], 'snap_signal_53': [0, 0, 0], 'snap_signal_54': [0, 0, 0], 'snap_signal_55': [1, 0], 'snap_signal_56': [1, 0], 'snap_signal_57': [0, 0], 'snap_signal_58': [0, 0], 'snap_signal_59': [1, 0], 'snap_signal_60': [1, 0], 'snap_signal_61': [1, 1], 'snap_signal_62': [1, 1], 'snap_signal_63': [0, 0], 'snap_signal_64': [0, 0], 'snap_signal_65': [1, 1], 'snap_signal_66': [1, 1], 'snap_signal_67': [0, 0], 'snap_signal_68': [0, 0], 'snap_signal_69': [0, 0], 'snap_signal_70': [0, 0], 'snap_signal_71': [0, 0], 'snap_signal_72': [0, 0], 'snap_signal_73': [0, 0], 'snap_signal_74': [0, 0], 'snap_signal_75': [0, 0], 'snap_signal_76': [0, 0], 'snap_signal_77': [0, 0], 'snap_signal_78': [0, 0], 'snap_signal_79': [0, 0], 'snap_signal_80': [0, 0], 'snap_signal_81': [0, 0], 'snap_signal_82': [0, 0], 'snap_signal_83': [0, 0], 'snap_signal_84': [0, 0], 'snap_signal_85': [0, 0], 'snap_signal_86': [0, 0], 'snap_signal_87': [0, 0], 'snap_signal_88': [0, 0], 'snap_signal_89': [0, 0], 'snap_signal_90': [0, 0], 'snap_signal_91': [0, 1, 0], 'snap_signal_92': [0, 1, 0], 'snap_signal_93': [0, 1, 0], 'snap_signal_94': [0, 0, 0], 'snap_signal_95': [0, 0, 0], 'snap_signal_96': [0, 0, 0], 'snap_signal_97': [0, 1, 0], 'snap_signal_98': [0, 1, 0], 'snap_signal_99': [0, 1, 0], 'snap_signal_100': [1, 1, 1], 'snap_signal_101': [1, 1, 1], 'snap_signal_102': [1, 1, 1], 'snap_signal_103': [0, 0, 0], 'snap_signal_104': [0, 0, 0], 'snap_signal_105': [0, 0, 0], 'snap_signal_106': [1, 1, 1], 'snap_signal_107': [1, 1, 1], 'snap_signal_108': [1, 1, 1], 'snap_signal_109': [0, 0, 0], 'snap_signal_110': [0, 0, 0], 'snap_signal_111': [0, 0, 0], 'snap_signal_112': [0, 0, 0], 'snap_signal_113': [0, 0, 0], 'snap_signal_114': [0, 0, 0], 'snap_signal_115': [0, 0, 0], 'snap_signal_116': [0, 0, 0], 'snap_signal_117': [0, 0, 0], 'snap_signal_118': [0, 0, 0], 'snap_signal_119': [0, 0, 0], 'snap_signal_120': [0, 0, 0], 'snap_signal_121': [0, 0, 0], 'snap_signal_122': [0, 0, 0], 'snap_signal_123': [0, 0, 0], 'snap_signal_124': [0, 0, 0], 'snap_signal_125': [0, 0, 0], 'snap_signal_126': [0, 0, 0], 'snap_signal_127': [0, 0, 0], 'snap_signal_128': [0, 0, 0], 'snap_signal_129': [0, 0, 0], 'snap_signal_130': [0, 0, 0], 'snap_signal_131': [0, 0, 0], 'snap_signal_132': [0, 0, 0], 'snap_signal_133': [0, 0, 0], 'snap_signal_134': [0, 0, 0], 'snap_signal_135': [0, 0, 0], 'snap_signal_136': [0, 0, 0], 'snap_signal_137': [0, 0, 0], 'snap_signal_138': [0, 0, 0], 'snap_signal_139': [0, 0, 0], 'snap_signal_140': [0, 0, 0], 'snap_signal_141': [0, 0, 0], 'snap_signal_142': [0, 0, 0], 'snap_signal_143': [0, 0, 0], 'snap_signal_144': [0, 0, 0], 'snap_signal_145': [1, 0], 'snap_signal_146': [1, 0], 'snap_signal_147': [0, 0], 'snap_signal_148': [0, 0], 'snap_signal_149': [1, 0], 'snap_signal_150': [1, 0], 'snap_signal_151': [1, 1], 'snap_signal_152': [1, 1], 'snap_signal_153': [0, 0], 'snap_signal_154': [0, 0], 'snap_signal_155': [1, 1], 'snap_signal_156': [1, 1], 'snap_signal_157': [0, 0], 'snap_signal_158': [0, 0], 'snap_signal_159': [0, 0], 'snap_signal_160': [0, 0], 'snap_signal_161': [0, 0], 'snap_signal_162': [0, 0], 'snap_signal_163': [0, 0], 'snap_signal_164': [0, 0], 'snap_signal_165': [0, 0], 'snap_signal_166': [0, 0], 'snap_signal_167': [0, 0], 'snap_signal_168': [0, 0], 'snap_signal_169': [0, 0], 'snap_signal_170': [0, 0], 'snap_signal_171': [0, 0], 'snap_signal_172': [0, 0], 'snap_signal_173': [0, 0], 'snap_signal_174': [0, 0], 'snap_signal_175': [0, 0], 'snap_signal_176': [0, 0], 'snap_signal_177': [0, 0], 'snap_signal_178': [0, 0], 'snap_signal_179': [0, 0], 'snap_signal_180': [0, 0], 'snap_signal_181': [0, 0, 0], 'snap_signal_182': [0, 0, 0], 'snap_signal_183': [0, 0, 0], 'snap_signal_184': [0, 1, 0], 'snap_signal_185': [0, 1, 0], 'snap_signal_186': [0, 1, 0], 'snap_signal_187': [0, 0, 0], 'snap_signal_188': [0, 0, 0], 'snap_signal_189': [0, 0, 0], 'snap_signal_190': [1, 1, 1], 'snap_signal_191': [1, 1, 1], 'snap_signal_192': [1, 1, 1], 'snap_signal_193': [0, 0, 0], 'snap_signal_194': [0, 0, 0], 'snap_signal_195': [0, 0, 0], 'snap_signal_196': [0, 0, 0], 'snap_signal_197': [0, 0, 0], 'snap_signal_198': [0, 0, 0], 'snap_signal_199': [0, 0, 0], 'snap_signal_200': [0, 0, 0], 'snap_signal_201': [0, 0, 0], 'snap_signal_202': [0, 0, 0], 'snap_signal_203': [0, 0, 0], 'snap_signal_204': [0, 0, 0], 'snap_signal_205': [0, 0, 0], 'snap_signal_206': [0, 0, 0], 'snap_signal_207': [0, 0, 0], 'snap_signal_208': [0, 0, 0], 'snap_signal_209': [0, 0, 0], 'snap_signal_210': [0, 0, 0], 'snap_signal_211': [0, 0, 0], 'snap_signal_212': [0, 0, 0], 'snap_signal_213': [0, 0, 0], 'snap_signal_214': [0, 0, 0], 'snap_signal_215': [0, 0, 0], 'snap_signal_216': [0, 0, 0], 'snap_signal_217': [0, 0], 'snap_signal_218': [0, 0], 'snap_signal_219': [1, 0], 'snap_signal_220': [1, 0], 'snap_signal_221': [0, 0], 'snap_signal_222': [0, 0], 'snap_signal_223': [1, 1], 'snap_signal_224': [1, 1], 'snap_signal_225': [0, 0], 'snap_signal_226': [0, 0], 'snap_signal_227': [0, 0], 'snap_signal_228': [0, 0], 'snap_signal_229': [0, 0], 'snap_signal_230': [0, 0], 'snap_signal_231': [0, 0], 'snap_signal_232': [0, 0], 'snap_signal_233': [0, 0], 'snap_signal_234': [0, 0], 'snap_signal_235': [0, 0], 'snap_signal_236': [0, 0], 'snap_signal_237': [0, 0], 'snap_signal_238': [0, 0], 'snap_signal_239': [0, 0], 'snap_signal_240': [0, 0], 'snap_signal_241': [0, 0, 0], 'snap_signal_242': [0, 0, 0], 'snap_signal_243': [0, 0, 0], 'snap_signal_244': [0, 1, 0], 'snap_signal_245': [0, 1, 0], 'snap_signal_246': [0, 1, 0], 'snap_signal_247': [0, 0, 0], 'snap_signal_248': [0, 0, 0], 'snap_signal_249': [0, 0, 0], 'snap_signal_250': [1, 1, 1], 'snap_signal_251': [1, 1, 1], 'snap_signal_252': [1, 1, 1], 'snap_signal_253': [0, 0, 0], 'snap_signal_254': [0, 0, 0], 'snap_signal_255': [0, 0, 0], 'snap_signal_256': [0, 0, 0], 'snap_signal_257': [0, 0, 0], 'snap_signal_258': [0, 0, 0], 'snap_signal_259': [0, 0, 0], 'snap_signal_260': [0, 0, 0], 'snap_signal_261': [0, 0, 0], 'snap_signal_262': [0, 0, 0], 'snap_signal_263': [0, 0, 0], 'snap_signal_264': [0, 0, 0], 'snap_signal_265': [0, 0, 0], 'snap_signal_266': [0, 0, 0], 'snap_signal_267': [0, 0, 0], 'snap_signal_268': [0, 0, 0], 'snap_signal_269': [0, 0, 0], 'snap_signal_270': [0, 0, 0], 'snap_signal_271': [0, 0, 0], 'snap_signal_272': [0, 0, 0], 'snap_signal_273': [0, 0, 0], 'snap_signal_274': [0, 0, 0], 'snap_signal_275': [0, 0, 0], 'snap_signal_276': [0, 0, 0], 'snap_signal_277': [0, 0], 'snap_signal_278': [0, 0], 'snap_signal_279': [1, 0], 'snap_signal_280': [1, 0], 'snap_signal_281': [0, 0], 'snap_signal_282': [0, 0], 'snap_signal_283': [1, 1], 'snap_signal_284': [1, 1], 'snap_signal_285': [0, 0], 'snap_signal_286': [0, 0], 'snap_signal_287': [0, 0], 'snap_signal_288': [0, 0], 'snap_signal_289': [0, 0], 'snap_signal_290': [0, 0], 'snap_signal_291': [0, 0], 'snap_signal_292': [0, 0], 'snap_signal_293': [0, 0], 'snap_signal_294': [0, 0], 'snap_signal_295': [0, 0], 'snap_signal_296': [0, 0], 'snap_signal_297': [0, 0], 'snap_signal_298': [0, 0], 'snap_signal_299': [0, 0], 'snap_signal_300': [0, 0], 'snap_signal_301': [0, 1, 0], 'snap_signal_302': [0, 1, 0], 'snap_signal_303': [0, 1, 0], 'snap_signal_304': [0, 0, 0], 'snap_signal_305': [0, 0, 0], 'snap_signal_306': [0, 0, 0], 'snap_signal_307': [0, 1, 0], 'snap_signal_308': [0, 1, 0], 'snap_signal_309': [0, 1, 0], 'snap_signal_310': [1, 1, 1], 'snap_signal_311': [1, 1, 1], 'snap_signal_312': [1, 1, 1], 'snap_signal_313': [0, 0, 0], 'snap_signal_314': [0, 0, 0], 'snap_signal_315': [0, 0, 0], 'snap_signal_316': [1, 1, 1], 'snap_signal_317': [1, 1, 1], 'snap_signal_318': [1, 1, 1], 'snap_signal_319': [0, 0, 0], 'snap_signal_320': [0, 0, 0], 'snap_signal_321': [0, 0, 0], 'snap_signal_322': [0, 0, 0], 'snap_signal_323': [0, 0, 0], 'snap_signal_324': [0, 0, 0], 'snap_signal_325': [0, 0, 0], 'snap_signal_326': [0, 0, 0], 'snap_signal_327': [0, 0, 0], 'snap_signal_328': [0, 0, 0], 'snap_signal_329': [0, 0, 0], 'snap_signal_330': [0, 0, 0], 'snap_signal_331': [0, 0, 0], 'snap_signal_332': [0, 0, 0], 'snap_signal_333': [0, 0, 0], 'snap_signal_334': [0, 0, 0], 'snap_signal_335': [0, 0, 0], 'snap_signal_336': [0, 0, 0], 'snap_signal_337': [0, 0, 0], 'snap_signal_338': [0, 0, 0], 'snap_signal_339': [0, 0, 0], 'snap_signal_340': [0, 0, 0], 'snap_signal_341': [0, 0, 0], 'snap_signal_342': [0, 0, 0], 'snap_signal_343': [0, 0, 0], 'snap_signal_344': [0, 0, 0], 'snap_signal_345': [0, 0, 0], 'snap_signal_346': [0, 0, 0], 'snap_signal_347': [0, 0, 0], 'snap_signal_348': [0, 0, 0], 'snap_signal_349': [0, 0, 0], 'snap_signal_350': [0, 0, 0], 'snap_signal_351': [0, 0, 0], 'snap_signal_352': [0, 0, 0], 'snap_signal_353': [0, 0, 0], 'snap_signal_354': [0, 0, 0], 'snap_signal_355': [1, 0], 'snap_signal_356': [1, 0], 'snap_signal_357': [0, 0], 'snap_signal_358': [0, 0], 'snap_signal_359': [1, 0], 'snap_signal_360': [1, 0], 'snap_signal_361': [1, 1], 'snap_signal_362': [1, 1], 'snap_signal_363': [0, 0], 'snap_signal_364': [0, 0], 'snap_signal_365': [1, 1], 'snap_signal_366': [1, 1], 'snap_signal_367': [0, 0], 'snap_signal_368': [0, 0], 'snap_signal_369': [0, 0], 'snap_signal_370': [0, 0], 'snap_signal_371': [0, 0], 'snap_signal_372': [0, 0], 'snap_signal_373': [0, 0], 'snap_signal_374': [0, 0], 'snap_signal_375': [0, 0], 'snap_signal_376': [0, 0], 'snap_signal_377': [0, 0], 'snap_signal_378': [0, 0], 'snap_signal_379': [0, 0], 'snap_signal_380': [0, 0], 'snap_signal_381': [0, 0], 'snap_signal_382': [0, 0], 'snap_signal_383': [0, 0], 'snap_signal_384': [0, 0], 'snap_signal_385': [0, 0], 'snap_signal_386': [0, 0], 'snap_signal_387': [0, 0], 'snap_signal_388': [0, 0], 'snap_signal_389': [0, 0], 'snap_signal_390': [0, 0], 'snap_signal_391': [0, 1, 0], 'snap_signal_392': [0, 1, 0], 'snap_signal_393': [0, 1, 0], 'snap_signal_394': [0, 0, 0], 'snap_signal_395': [0, 0, 0], 'snap_signal_396': [0, 0, 0], 'snap_signal_397': [0, 1, 0], 'snap_signal_398': [0, 1, 0], 'snap_signal_399': [0, 1, 0], 'snap_signal_400': [1, 1, 1], 'snap_signal_401': [1, 1, 1], 'snap_signal_402': [1, 1, 1], 'snap_signal_403': [0, 0, 0], 'snap_signal_404': [0, 0, 0], 'snap_signal_405': [0, 0, 0], 'snap_signal_406': [1, 1, 1], 'snap_signal_407': [1, 1, 1], 'snap_signal_408': [1, 1, 1], 'snap_signal_409': [0, 0, 0], 'snap_signal_410': [0, 0, 0], 'snap_signal_411': [0, 0, 0], 'snap_signal_412': [0, 0, 0], 'snap_signal_413': [0, 0, 0], 'snap_signal_414': [0, 0, 0], 'snap_signal_415': [0, 0, 0], 'snap_signal_416': [0, 0, 0], 'snap_signal_417': [0, 0, 0], 'snap_signal_418': [0, 0, 0], 'snap_signal_419': [0, 0, 0], 'snap_signal_420': [0, 0, 0], 'snap_signal_421': [0, 0, 0], 'snap_signal_422': [0, 0, 0], 'snap_signal_423': [0, 0, 0], 'snap_signal_424': [0, 0, 0], 'snap_signal_425': [0, 0, 0], 'snap_signal_426': [0, 0, 0], 'snap_signal_427': [0, 0, 0], 'snap_signal_428': [0, 0, 0], 'snap_signal_429': [0, 0, 0], 'snap_signal_430': [0, 0, 0], 'snap_signal_431': [0, 0, 0], 'snap_signal_432': [0, 0, 0], 'snap_signal_433': [0, 0, 0], 'snap_signal_434': [0, 0, 0], 'snap_signal_435': [0, 0, 0], 'snap_signal_436': [0, 0, 0], 'snap_signal_437': [0, 0, 0], 'snap_signal_438': [0, 0, 0], 'snap_signal_439': [0, 0, 0], 'snap_signal_440': [0, 0, 0], 'snap_signal_441': [0, 0, 0], 'snap_signal_442': [0, 0, 0], 'snap_signal_443': [0, 0, 0], 'snap_signal_444': [0, 0, 0], 'snap_signal_445': [1, 0], 'snap_signal_446': [1, 0], 'snap_signal_447': [0, 0], 'snap_signal_448': [0, 0], 'snap_signal_449': [1, 0], 'snap_signal_450': [1, 0], 'snap_signal_451': [1, 1], 'snap_signal_452': [1, 1], 'snap_signal_453': [0, 0], 'snap_signal_454': [0, 0], 'snap_signal_455': [1, 1], 'snap_signal_456': [1, 1], 'snap_signal_457': [0, 0], 'snap_signal_458': [0, 0], 'snap_signal_459': [0, 0], 'snap_signal_460': [0, 0], 'snap_signal_461': [0, 0], 'snap_signal_462': [0, 0], 'snap_signal_463': [0, 0], 'snap_signal_464': [0, 0], 'snap_signal_465': [0, 0], 'snap_signal_466': [0, 0], 'snap_signal_467': [0, 0], 'snap_signal_468': [0, 0], 'snap_signal_469': [0, 0], 'snap_signal_470': [0, 0], 'snap_signal_471': [0, 0], 'snap_signal_472': [0, 0], 'snap_signal_473': [0, 0], 'snap_signal_474': [0, 0], 'snap_signal_475': [0, 0], 'snap_signal_476': [0, 0], 'snap_signal_477': [0, 0], 'snap_signal_478': [0, 0], 'snap_signal_479': [0, 0], 'snap_signal_480': [0, 0]}\n",
      "{'snap_signal_1': [0, 1, 0], 'snap_signal_2': [0, 1, 0], 'snap_signal_3': [0, 1, 0], 'snap_signal_4': [0, 0, 0], 'snap_signal_5': [0, 0, 0], 'snap_signal_6': [0, 0, 0], 'snap_signal_7': [0, 1, 0], 'snap_signal_8': [0, 1, 0], 'snap_signal_9': [0, 1, 0], 'snap_signal_10': [1, 1, 1], 'snap_signal_11': [1, 1, 1], 'snap_signal_12': [1, 1, 1], 'snap_signal_13': [0, 0, 0], 'snap_signal_14': [0, 0, 0], 'snap_signal_15': [0, 0, 0], 'snap_signal_16': [1, 1, 1], 'snap_signal_17': [1, 1, 1], 'snap_signal_18': [1, 1, 1], 'snap_signal_19': [0, 0, 0], 'snap_signal_20': [0, 0, 0], 'snap_signal_21': [0, 0, 0], 'snap_signal_22': [0, 0, 0], 'snap_signal_23': [0, 0, 0], 'snap_signal_24': [0, 0, 0], 'snap_signal_25': [0, 0, 0], 'snap_signal_26': [0, 0, 0], 'snap_signal_27': [0, 0, 0], 'snap_signal_28': [0, 0, 0], 'snap_signal_29': [0, 0, 0], 'snap_signal_30': [0, 0, 0], 'snap_signal_31': [0, 0, 0], 'snap_signal_32': [0, 0, 0], 'snap_signal_33': [0, 0, 0], 'snap_signal_34': [0, 0, 0], 'snap_signal_35': [0, 0, 0], 'snap_signal_36': [0, 0, 0], 'snap_signal_37': [0, 0, 0], 'snap_signal_38': [0, 0, 0], 'snap_signal_39': [0, 0, 0], 'snap_signal_40': [0, 0, 0], 'snap_signal_41': [0, 0, 0], 'snap_signal_42': [0, 0, 0], 'snap_signal_43': [0, 0, 0], 'snap_signal_44': [0, 0, 0], 'snap_signal_45': [0, 0, 0], 'snap_signal_46': [0, 0, 0], 'snap_signal_47': [0, 0, 0], 'snap_signal_48': [0, 0, 0], 'snap_signal_49': [0, 0, 0], 'snap_signal_50': [0, 0, 0], 'snap_signal_51': [0, 0, 0], 'snap_signal_52': [0, 0, 0], 'snap_signal_53': [0, 0, 0], 'snap_signal_54': [0, 0, 0], 'snap_signal_55': [1, 0], 'snap_signal_56': [1, 0], 'snap_signal_57': [0, 0], 'snap_signal_58': [0, 0], 'snap_signal_59': [1, 0], 'snap_signal_60': [1, 0], 'snap_signal_61': [1, 1], 'snap_signal_62': [1, 1], 'snap_signal_63': [0, 0], 'snap_signal_64': [0, 0], 'snap_signal_65': [1, 1], 'snap_signal_66': [1, 1], 'snap_signal_67': [0, 0], 'snap_signal_68': [0, 0], 'snap_signal_69': [0, 0], 'snap_signal_70': [0, 0], 'snap_signal_71': [0, 0], 'snap_signal_72': [0, 0], 'snap_signal_73': [0, 0], 'snap_signal_74': [0, 0], 'snap_signal_75': [0, 0], 'snap_signal_76': [0, 0], 'snap_signal_77': [0, 0], 'snap_signal_78': [0, 0], 'snap_signal_79': [0, 0], 'snap_signal_80': [0, 0], 'snap_signal_81': [0, 0], 'snap_signal_82': [0, 0], 'snap_signal_83': [0, 0], 'snap_signal_84': [0, 0], 'snap_signal_85': [0, 0], 'snap_signal_86': [0, 0], 'snap_signal_87': [0, 0], 'snap_signal_88': [0, 0], 'snap_signal_89': [0, 0], 'snap_signal_90': [0, 0], 'snap_signal_91': [0, 1, 0], 'snap_signal_92': [0, 1, 0], 'snap_signal_93': [0, 1, 0], 'snap_signal_94': [0, 0, 0], 'snap_signal_95': [0, 0, 0], 'snap_signal_96': [0, 0, 0], 'snap_signal_97': [0, 1, 0], 'snap_signal_98': [0, 1, 0], 'snap_signal_99': [0, 1, 0], 'snap_signal_100': [1, 1, 1], 'snap_signal_101': [1, 1, 1], 'snap_signal_102': [1, 1, 1], 'snap_signal_103': [0, 0, 0], 'snap_signal_104': [0, 0, 0], 'snap_signal_105': [0, 0, 0], 'snap_signal_106': [1, 1, 1], 'snap_signal_107': [1, 1, 1], 'snap_signal_108': [1, 1, 1], 'snap_signal_109': [0, 0, 0], 'snap_signal_110': [0, 0, 0], 'snap_signal_111': [0, 0, 0], 'snap_signal_112': [0, 0, 0], 'snap_signal_113': [0, 0, 0], 'snap_signal_114': [0, 0, 0], 'snap_signal_115': [0, 0, 0], 'snap_signal_116': [0, 0, 0], 'snap_signal_117': [0, 0, 0], 'snap_signal_118': [0, 0, 0], 'snap_signal_119': [0, 0, 0], 'snap_signal_120': [0, 0, 0], 'snap_signal_121': [0, 0, 0], 'snap_signal_122': [0, 0, 0], 'snap_signal_123': [0, 0, 0], 'snap_signal_124': [0, 0, 0], 'snap_signal_125': [0, 0, 0], 'snap_signal_126': [0, 0, 0], 'snap_signal_127': [0, 0, 0], 'snap_signal_128': [0, 0, 0], 'snap_signal_129': [0, 0, 0], 'snap_signal_130': [0, 0, 0], 'snap_signal_131': [0, 0, 0], 'snap_signal_132': [0, 0, 0], 'snap_signal_133': [0, 0, 0], 'snap_signal_134': [0, 0, 0], 'snap_signal_135': [0, 0, 0], 'snap_signal_136': [0, 0, 0], 'snap_signal_137': [0, 0, 0], 'snap_signal_138': [0, 0, 0], 'snap_signal_139': [0, 0, 0], 'snap_signal_140': [0, 0, 0], 'snap_signal_141': [0, 0, 0], 'snap_signal_142': [0, 0, 0], 'snap_signal_143': [0, 0, 0], 'snap_signal_144': [0, 0, 0], 'snap_signal_145': [1, 0], 'snap_signal_146': [1, 0], 'snap_signal_147': [0, 0], 'snap_signal_148': [0, 0], 'snap_signal_149': [1, 0], 'snap_signal_150': [1, 0], 'snap_signal_151': [1, 1], 'snap_signal_152': [1, 1], 'snap_signal_153': [0, 0], 'snap_signal_154': [0, 0], 'snap_signal_155': [1, 1], 'snap_signal_156': [1, 1], 'snap_signal_157': [0, 0], 'snap_signal_158': [0, 0], 'snap_signal_159': [0, 0], 'snap_signal_160': [0, 0], 'snap_signal_161': [0, 0], 'snap_signal_162': [0, 0], 'snap_signal_163': [0, 0], 'snap_signal_164': [0, 0], 'snap_signal_165': [0, 0], 'snap_signal_166': [0, 0], 'snap_signal_167': [0, 0], 'snap_signal_168': [0, 0], 'snap_signal_169': [0, 0], 'snap_signal_170': [0, 0], 'snap_signal_171': [0, 0], 'snap_signal_172': [0, 0], 'snap_signal_173': [0, 0], 'snap_signal_174': [0, 0], 'snap_signal_175': [0, 0], 'snap_signal_176': [0, 0], 'snap_signal_177': [0, 0], 'snap_signal_178': [0, 0], 'snap_signal_179': [0, 0], 'snap_signal_180': [0, 0], 'snap_signal_181': [0, 0, 0], 'snap_signal_182': [0, 0, 0], 'snap_signal_183': [0, 0, 0], 'snap_signal_184': [0, 1, 0], 'snap_signal_185': [0, 1, 0], 'snap_signal_186': [0, 1, 0], 'snap_signal_187': [0, 0, 0], 'snap_signal_188': [0, 0, 0], 'snap_signal_189': [0, 0, 0], 'snap_signal_190': [1, 1, 1], 'snap_signal_191': [1, 1, 1], 'snap_signal_192': [1, 1, 1], 'snap_signal_193': [0, 0, 0], 'snap_signal_194': [0, 0, 0], 'snap_signal_195': [0, 0, 0], 'snap_signal_196': [0, 0, 0], 'snap_signal_197': [0, 0, 0], 'snap_signal_198': [0, 0, 0], 'snap_signal_199': [0, 0, 0], 'snap_signal_200': [0, 0, 0], 'snap_signal_201': [0, 0, 0], 'snap_signal_202': [0, 0, 0], 'snap_signal_203': [0, 0, 0], 'snap_signal_204': [0, 0, 0], 'snap_signal_205': [0, 0, 0], 'snap_signal_206': [0, 0, 0], 'snap_signal_207': [0, 0, 0], 'snap_signal_208': [0, 0, 0], 'snap_signal_209': [0, 0, 0], 'snap_signal_210': [0, 0, 0], 'snap_signal_211': [0, 0, 0], 'snap_signal_212': [0, 0, 0], 'snap_signal_213': [0, 0, 0], 'snap_signal_214': [0, 0, 0], 'snap_signal_215': [0, 0, 0], 'snap_signal_216': [0, 0, 0], 'snap_signal_217': [0, 0], 'snap_signal_218': [0, 0], 'snap_signal_219': [1, 0], 'snap_signal_220': [1, 0], 'snap_signal_221': [0, 0], 'snap_signal_222': [0, 0], 'snap_signal_223': [1, 1], 'snap_signal_224': [1, 1], 'snap_signal_225': [0, 0], 'snap_signal_226': [0, 0], 'snap_signal_227': [0, 0], 'snap_signal_228': [0, 0], 'snap_signal_229': [0, 0], 'snap_signal_230': [0, 0], 'snap_signal_231': [0, 0], 'snap_signal_232': [0, 0], 'snap_signal_233': [0, 0], 'snap_signal_234': [0, 0], 'snap_signal_235': [0, 0], 'snap_signal_236': [0, 0], 'snap_signal_237': [0, 0], 'snap_signal_238': [0, 0], 'snap_signal_239': [0, 0], 'snap_signal_240': [0, 0], 'snap_signal_241': [0, 0, 0], 'snap_signal_242': [0, 0, 0], 'snap_signal_243': [0, 0, 0], 'snap_signal_244': [0, 1, 0], 'snap_signal_245': [0, 1, 0], 'snap_signal_246': [0, 1, 0], 'snap_signal_247': [0, 0, 0], 'snap_signal_248': [0, 0, 0], 'snap_signal_249': [0, 0, 0], 'snap_signal_250': [1, 1, 1], 'snap_signal_251': [1, 1, 1], 'snap_signal_252': [1, 1, 1], 'snap_signal_253': [0, 0, 0], 'snap_signal_254': [0, 0, 0], 'snap_signal_255': [0, 0, 0], 'snap_signal_256': [0, 0, 0], 'snap_signal_257': [0, 0, 0], 'snap_signal_258': [0, 0, 0], 'snap_signal_259': [0, 0, 0], 'snap_signal_260': [0, 0, 0], 'snap_signal_261': [0, 0, 0], 'snap_signal_262': [0, 0, 0], 'snap_signal_263': [0, 0, 0], 'snap_signal_264': [0, 0, 0], 'snap_signal_265': [0, 0, 0], 'snap_signal_266': [0, 0, 0], 'snap_signal_267': [0, 0, 0], 'snap_signal_268': [0, 0, 0], 'snap_signal_269': [0, 0, 0], 'snap_signal_270': [0, 0, 0], 'snap_signal_271': [0, 0, 0], 'snap_signal_272': [0, 0, 0], 'snap_signal_273': [0, 0, 0], 'snap_signal_274': [0, 0, 0], 'snap_signal_275': [0, 0, 0], 'snap_signal_276': [0, 0, 0], 'snap_signal_277': [0, 0], 'snap_signal_278': [0, 0], 'snap_signal_279': [1, 0], 'snap_signal_280': [1, 0], 'snap_signal_281': [0, 0], 'snap_signal_282': [0, 0], 'snap_signal_283': [1, 1], 'snap_signal_284': [1, 1], 'snap_signal_285': [0, 0], 'snap_signal_286': [0, 0], 'snap_signal_287': [0, 0], 'snap_signal_288': [0, 0], 'snap_signal_289': [0, 0], 'snap_signal_290': [0, 0], 'snap_signal_291': [0, 0], 'snap_signal_292': [0, 0], 'snap_signal_293': [0, 0], 'snap_signal_294': [0, 0], 'snap_signal_295': [0, 0], 'snap_signal_296': [0, 0], 'snap_signal_297': [0, 0], 'snap_signal_298': [0, 0], 'snap_signal_299': [0, 0], 'snap_signal_300': [0, 0], 'snap_signal_301': [0, 1, 0], 'snap_signal_302': [0, 1, 0], 'snap_signal_303': [0, 1, 0], 'snap_signal_304': [0, 0, 0], 'snap_signal_305': [0, 0, 0], 'snap_signal_306': [0, 0, 0], 'snap_signal_307': [0, 1, 0], 'snap_signal_308': [0, 1, 0], 'snap_signal_309': [0, 1, 0], 'snap_signal_310': [1, 1, 1], 'snap_signal_311': [1, 1, 1], 'snap_signal_312': [1, 1, 1], 'snap_signal_313': [0, 0, 0], 'snap_signal_314': [0, 0, 0], 'snap_signal_315': [0, 0, 0], 'snap_signal_316': [1, 1, 1], 'snap_signal_317': [1, 1, 1], 'snap_signal_318': [1, 1, 1], 'snap_signal_319': [0, 0, 0], 'snap_signal_320': [0, 0, 0], 'snap_signal_321': [0, 0, 0], 'snap_signal_322': [0, 0, 0], 'snap_signal_323': [0, 0, 0], 'snap_signal_324': [0, 0, 0], 'snap_signal_325': [0, 0, 0], 'snap_signal_326': [0, 0, 0], 'snap_signal_327': [0, 0, 0], 'snap_signal_328': [0, 0, 0], 'snap_signal_329': [0, 0, 0], 'snap_signal_330': [0, 0, 0], 'snap_signal_331': [0, 0, 0], 'snap_signal_332': [0, 0, 0], 'snap_signal_333': [0, 0, 0], 'snap_signal_334': [0, 0, 0], 'snap_signal_335': [0, 0, 0], 'snap_signal_336': [0, 0, 0], 'snap_signal_337': [0, 0, 0], 'snap_signal_338': [0, 0, 0], 'snap_signal_339': [0, 0, 0], 'snap_signal_340': [0, 0, 0], 'snap_signal_341': [0, 0, 0], 'snap_signal_342': [0, 0, 0], 'snap_signal_343': [0, 0, 0], 'snap_signal_344': [0, 0, 0], 'snap_signal_345': [0, 0, 0], 'snap_signal_346': [0, 0, 0], 'snap_signal_347': [0, 0, 0], 'snap_signal_348': [0, 0, 0], 'snap_signal_349': [0, 0, 0], 'snap_signal_350': [0, 0, 0], 'snap_signal_351': [0, 0, 0], 'snap_signal_352': [0, 0, 0], 'snap_signal_353': [0, 0, 0], 'snap_signal_354': [0, 0, 0], 'snap_signal_355': [1, 0], 'snap_signal_356': [1, 0], 'snap_signal_357': [0, 0], 'snap_signal_358': [0, 0], 'snap_signal_359': [1, 0], 'snap_signal_360': [1, 0], 'snap_signal_361': [1, 1], 'snap_signal_362': [1, 1], 'snap_signal_363': [0, 0], 'snap_signal_364': [0, 0], 'snap_signal_365': [1, 1], 'snap_signal_366': [1, 1], 'snap_signal_367': [0, 0], 'snap_signal_368': [0, 0], 'snap_signal_369': [0, 0], 'snap_signal_370': [0, 0], 'snap_signal_371': [0, 0], 'snap_signal_372': [0, 0], 'snap_signal_373': [0, 0], 'snap_signal_374': [0, 0], 'snap_signal_375': [0, 0], 'snap_signal_376': [0, 0], 'snap_signal_377': [0, 0], 'snap_signal_378': [0, 0], 'snap_signal_379': [0, 0], 'snap_signal_380': [0, 0], 'snap_signal_381': [0, 0], 'snap_signal_382': [0, 0], 'snap_signal_383': [0, 0], 'snap_signal_384': [0, 0], 'snap_signal_385': [0, 0], 'snap_signal_386': [0, 0], 'snap_signal_387': [0, 0], 'snap_signal_388': [0, 0], 'snap_signal_389': [0, 0], 'snap_signal_390': [0, 0], 'snap_signal_391': [0, 1, 0], 'snap_signal_392': [0, 1, 0], 'snap_signal_393': [0, 1, 0], 'snap_signal_394': [0, 0, 0], 'snap_signal_395': [0, 0, 0], 'snap_signal_396': [0, 0, 0], 'snap_signal_397': [0, 1, 0], 'snap_signal_398': [0, 1, 0], 'snap_signal_399': [0, 1, 0], 'snap_signal_400': [1, 1, 1], 'snap_signal_401': [1, 1, 1], 'snap_signal_402': [1, 1, 1], 'snap_signal_403': [0, 0, 0], 'snap_signal_404': [0, 0, 0], 'snap_signal_405': [0, 0, 0], 'snap_signal_406': [1, 1, 1], 'snap_signal_407': [1, 1, 1], 'snap_signal_408': [1, 1, 1], 'snap_signal_409': [0, 0, 0], 'snap_signal_410': [0, 0, 0], 'snap_signal_411': [0, 0, 0], 'snap_signal_412': [0, 0, 0], 'snap_signal_413': [0, 0, 0], 'snap_signal_414': [0, 0, 0], 'snap_signal_415': [0, 0, 0], 'snap_signal_416': [0, 0, 0], 'snap_signal_417': [0, 0, 0], 'snap_signal_418': [0, 0, 0], 'snap_signal_419': [0, 0, 0], 'snap_signal_420': [0, 0, 0], 'snap_signal_421': [0, 0, 0], 'snap_signal_422': [0, 0, 0], 'snap_signal_423': [0, 0, 0], 'snap_signal_424': [0, 0, 0], 'snap_signal_425': [0, 0, 0], 'snap_signal_426': [0, 0, 0], 'snap_signal_427': [0, 0, 0], 'snap_signal_428': [0, 0, 0], 'snap_signal_429': [0, 0, 0], 'snap_signal_430': [0, 0, 0], 'snap_signal_431': [0, 0, 0], 'snap_signal_432': [0, 0, 0], 'snap_signal_433': [0, 0, 0], 'snap_signal_434': [0, 0, 0], 'snap_signal_435': [0, 0, 0], 'snap_signal_436': [0, 0, 0], 'snap_signal_437': [0, 0, 0], 'snap_signal_438': [0, 0, 0], 'snap_signal_439': [0, 0, 0], 'snap_signal_440': [0, 0, 0], 'snap_signal_441': [0, 0, 0], 'snap_signal_442': [0, 0, 0], 'snap_signal_443': [0, 0, 0], 'snap_signal_444': [0, 0, 0], 'snap_signal_445': [1, 0], 'snap_signal_446': [1, 0], 'snap_signal_447': [0, 0], 'snap_signal_448': [0, 0], 'snap_signal_449': [1, 0], 'snap_signal_450': [1, 0], 'snap_signal_451': [1, 1], 'snap_signal_452': [1, 1], 'snap_signal_453': [0, 0], 'snap_signal_454': [0, 0], 'snap_signal_455': [1, 1], 'snap_signal_456': [1, 1], 'snap_signal_457': [0, 0], 'snap_signal_458': [0, 0], 'snap_signal_459': [0, 0], 'snap_signal_460': [0, 0], 'snap_signal_461': [0, 0], 'snap_signal_462': [0, 0], 'snap_signal_463': [0, 0], 'snap_signal_464': [0, 0], 'snap_signal_465': [0, 0], 'snap_signal_466': [0, 0], 'snap_signal_467': [0, 0], 'snap_signal_468': [0, 0], 'snap_signal_469': [0, 0], 'snap_signal_470': [0, 0], 'snap_signal_471': [0, 0], 'snap_signal_472': [0, 0], 'snap_signal_473': [0, 0], 'snap_signal_474': [0, 0], 'snap_signal_475': [0, 0], 'snap_signal_476': [0, 0], 'snap_signal_477': [0, 0], 'snap_signal_478': [0, 0], 'snap_signal_479': [0, 0], 'snap_signal_480': [0, 0], 'snap_signal_481': [0, 0, 0], 'snap_signal_482': [0, 0, 0], 'snap_signal_483': [0, 0, 0], 'snap_signal_484': [0, 1, 0], 'snap_signal_485': [0, 1, 0], 'snap_signal_486': [0, 1, 0], 'snap_signal_487': [0, 0, 0], 'snap_signal_488': [0, 0, 0], 'snap_signal_489': [0, 0, 0], 'snap_signal_490': [1, 1, 1], 'snap_signal_491': [1, 1, 1], 'snap_signal_492': [1, 1, 1], 'snap_signal_493': [0, 0, 0], 'snap_signal_494': [0, 0, 0], 'snap_signal_495': [0, 0, 0], 'snap_signal_496': [0, 0, 0], 'snap_signal_497': [0, 0, 0], 'snap_signal_498': [0, 0, 0], 'snap_signal_499': [0, 0, 0], 'snap_signal_500': [0, 0, 0], 'snap_signal_501': [0, 0, 0], 'snap_signal_502': [0, 0, 0], 'snap_signal_503': [0, 0, 0], 'snap_signal_504': [0, 0, 0], 'snap_signal_505': [0, 0, 0], 'snap_signal_506': [0, 0, 0], 'snap_signal_507': [0, 0, 0], 'snap_signal_508': [0, 0, 0], 'snap_signal_509': [0, 0, 0], 'snap_signal_510': [0, 0, 0], 'snap_signal_511': [0, 0, 0], 'snap_signal_512': [0, 0, 0], 'snap_signal_513': [0, 0, 0], 'snap_signal_514': [0, 0, 0], 'snap_signal_515': [0, 0, 0], 'snap_signal_516': [0, 0, 0]}\n",
      "{'snap_signal_1': [0, 1, 0], 'snap_signal_2': [0, 1, 0], 'snap_signal_3': [0, 1, 0], 'snap_signal_4': [0, 0, 0], 'snap_signal_5': [0, 0, 0], 'snap_signal_6': [0, 0, 0], 'snap_signal_7': [0, 1, 0], 'snap_signal_8': [0, 1, 0], 'snap_signal_9': [0, 1, 0], 'snap_signal_10': [1, 1, 1], 'snap_signal_11': [1, 1, 1], 'snap_signal_12': [1, 1, 1], 'snap_signal_13': [0, 0, 0], 'snap_signal_14': [0, 0, 0], 'snap_signal_15': [0, 0, 0], 'snap_signal_16': [1, 1, 1], 'snap_signal_17': [1, 1, 1], 'snap_signal_18': [1, 1, 1], 'snap_signal_19': [0, 0, 0], 'snap_signal_20': [0, 0, 0], 'snap_signal_21': [0, 0, 0], 'snap_signal_22': [0, 0, 0], 'snap_signal_23': [0, 0, 0], 'snap_signal_24': [0, 0, 0], 'snap_signal_25': [0, 0, 0], 'snap_signal_26': [0, 0, 0], 'snap_signal_27': [0, 0, 0], 'snap_signal_28': [0, 0, 0], 'snap_signal_29': [0, 0, 0], 'snap_signal_30': [0, 0, 0], 'snap_signal_31': [0, 0, 0], 'snap_signal_32': [0, 0, 0], 'snap_signal_33': [0, 0, 0], 'snap_signal_34': [0, 0, 0], 'snap_signal_35': [0, 0, 0], 'snap_signal_36': [0, 0, 0], 'snap_signal_37': [0, 0, 0], 'snap_signal_38': [0, 0, 0], 'snap_signal_39': [0, 0, 0], 'snap_signal_40': [0, 0, 0], 'snap_signal_41': [0, 0, 0], 'snap_signal_42': [0, 0, 0], 'snap_signal_43': [0, 0, 0], 'snap_signal_44': [0, 0, 0], 'snap_signal_45': [0, 0, 0], 'snap_signal_46': [0, 0, 0], 'snap_signal_47': [0, 0, 0], 'snap_signal_48': [0, 0, 0], 'snap_signal_49': [0, 0, 0], 'snap_signal_50': [0, 0, 0], 'snap_signal_51': [0, 0, 0], 'snap_signal_52': [0, 0, 0], 'snap_signal_53': [0, 0, 0], 'snap_signal_54': [0, 0, 0], 'snap_signal_55': [1, 0], 'snap_signal_56': [1, 0], 'snap_signal_57': [0, 0], 'snap_signal_58': [0, 0], 'snap_signal_59': [1, 0], 'snap_signal_60': [1, 0], 'snap_signal_61': [1, 1], 'snap_signal_62': [1, 1], 'snap_signal_63': [0, 0], 'snap_signal_64': [0, 0], 'snap_signal_65': [1, 1], 'snap_signal_66': [1, 1], 'snap_signal_67': [0, 0], 'snap_signal_68': [0, 0], 'snap_signal_69': [0, 0], 'snap_signal_70': [0, 0], 'snap_signal_71': [0, 0], 'snap_signal_72': [0, 0], 'snap_signal_73': [0, 0], 'snap_signal_74': [0, 0], 'snap_signal_75': [0, 0], 'snap_signal_76': [0, 0], 'snap_signal_77': [0, 0], 'snap_signal_78': [0, 0], 'snap_signal_79': [0, 0], 'snap_signal_80': [0, 0], 'snap_signal_81': [0, 0], 'snap_signal_82': [0, 0], 'snap_signal_83': [0, 0], 'snap_signal_84': [0, 0], 'snap_signal_85': [0, 0], 'snap_signal_86': [0, 0], 'snap_signal_87': [0, 0], 'snap_signal_88': [0, 0], 'snap_signal_89': [0, 0], 'snap_signal_90': [0, 0], 'snap_signal_91': [0, 1, 0], 'snap_signal_92': [0, 1, 0], 'snap_signal_93': [0, 1, 0], 'snap_signal_94': [0, 0, 0], 'snap_signal_95': [0, 0, 0], 'snap_signal_96': [0, 0, 0], 'snap_signal_97': [0, 1, 0], 'snap_signal_98': [0, 1, 0], 'snap_signal_99': [0, 1, 0], 'snap_signal_100': [1, 1, 1], 'snap_signal_101': [1, 1, 1], 'snap_signal_102': [1, 1, 1], 'snap_signal_103': [0, 0, 0], 'snap_signal_104': [0, 0, 0], 'snap_signal_105': [0, 0, 0], 'snap_signal_106': [1, 1, 1], 'snap_signal_107': [1, 1, 1], 'snap_signal_108': [1, 1, 1], 'snap_signal_109': [0, 0, 0], 'snap_signal_110': [0, 0, 0], 'snap_signal_111': [0, 0, 0], 'snap_signal_112': [0, 0, 0], 'snap_signal_113': [0, 0, 0], 'snap_signal_114': [0, 0, 0], 'snap_signal_115': [0, 0, 0], 'snap_signal_116': [0, 0, 0], 'snap_signal_117': [0, 0, 0], 'snap_signal_118': [0, 0, 0], 'snap_signal_119': [0, 0, 0], 'snap_signal_120': [0, 0, 0], 'snap_signal_121': [0, 0, 0], 'snap_signal_122': [0, 0, 0], 'snap_signal_123': [0, 0, 0], 'snap_signal_124': [0, 0, 0], 'snap_signal_125': [0, 0, 0], 'snap_signal_126': [0, 0, 0], 'snap_signal_127': [0, 0, 0], 'snap_signal_128': [0, 0, 0], 'snap_signal_129': [0, 0, 0], 'snap_signal_130': [0, 0, 0], 'snap_signal_131': [0, 0, 0], 'snap_signal_132': [0, 0, 0], 'snap_signal_133': [0, 0, 0], 'snap_signal_134': [0, 0, 0], 'snap_signal_135': [0, 0, 0], 'snap_signal_136': [0, 0, 0], 'snap_signal_137': [0, 0, 0], 'snap_signal_138': [0, 0, 0], 'snap_signal_139': [0, 0, 0], 'snap_signal_140': [0, 0, 0], 'snap_signal_141': [0, 0, 0], 'snap_signal_142': [0, 0, 0], 'snap_signal_143': [0, 0, 0], 'snap_signal_144': [0, 0, 0], 'snap_signal_145': [1, 0], 'snap_signal_146': [1, 0], 'snap_signal_147': [0, 0], 'snap_signal_148': [0, 0], 'snap_signal_149': [1, 0], 'snap_signal_150': [1, 0], 'snap_signal_151': [1, 1], 'snap_signal_152': [1, 1], 'snap_signal_153': [0, 0], 'snap_signal_154': [0, 0], 'snap_signal_155': [1, 1], 'snap_signal_156': [1, 1], 'snap_signal_157': [0, 0], 'snap_signal_158': [0, 0], 'snap_signal_159': [0, 0], 'snap_signal_160': [0, 0], 'snap_signal_161': [0, 0], 'snap_signal_162': [0, 0], 'snap_signal_163': [0, 0], 'snap_signal_164': [0, 0], 'snap_signal_165': [0, 0], 'snap_signal_166': [0, 0], 'snap_signal_167': [0, 0], 'snap_signal_168': [0, 0], 'snap_signal_169': [0, 0], 'snap_signal_170': [0, 0], 'snap_signal_171': [0, 0], 'snap_signal_172': [0, 0], 'snap_signal_173': [0, 0], 'snap_signal_174': [0, 0], 'snap_signal_175': [0, 0], 'snap_signal_176': [0, 0], 'snap_signal_177': [0, 0], 'snap_signal_178': [0, 0], 'snap_signal_179': [0, 0], 'snap_signal_180': [0, 0], 'snap_signal_181': [0, 0, 0], 'snap_signal_182': [0, 0, 0], 'snap_signal_183': [0, 0, 0], 'snap_signal_184': [0, 1, 0], 'snap_signal_185': [0, 1, 0], 'snap_signal_186': [0, 1, 0], 'snap_signal_187': [0, 0, 0], 'snap_signal_188': [0, 0, 0], 'snap_signal_189': [0, 0, 0], 'snap_signal_190': [1, 1, 1], 'snap_signal_191': [1, 1, 1], 'snap_signal_192': [1, 1, 1], 'snap_signal_193': [0, 0, 0], 'snap_signal_194': [0, 0, 0], 'snap_signal_195': [0, 0, 0], 'snap_signal_196': [0, 0, 0], 'snap_signal_197': [0, 0, 0], 'snap_signal_198': [0, 0, 0], 'snap_signal_199': [0, 0, 0], 'snap_signal_200': [0, 0, 0], 'snap_signal_201': [0, 0, 0], 'snap_signal_202': [0, 0, 0], 'snap_signal_203': [0, 0, 0], 'snap_signal_204': [0, 0, 0], 'snap_signal_205': [0, 0, 0], 'snap_signal_206': [0, 0, 0], 'snap_signal_207': [0, 0, 0], 'snap_signal_208': [0, 0, 0], 'snap_signal_209': [0, 0, 0], 'snap_signal_210': [0, 0, 0], 'snap_signal_211': [0, 0, 0], 'snap_signal_212': [0, 0, 0], 'snap_signal_213': [0, 0, 0], 'snap_signal_214': [0, 0, 0], 'snap_signal_215': [0, 0, 0], 'snap_signal_216': [0, 0, 0], 'snap_signal_217': [0, 0], 'snap_signal_218': [0, 0], 'snap_signal_219': [1, 0], 'snap_signal_220': [1, 0], 'snap_signal_221': [0, 0], 'snap_signal_222': [0, 0], 'snap_signal_223': [1, 1], 'snap_signal_224': [1, 1], 'snap_signal_225': [0, 0], 'snap_signal_226': [0, 0], 'snap_signal_227': [0, 0], 'snap_signal_228': [0, 0], 'snap_signal_229': [0, 0], 'snap_signal_230': [0, 0], 'snap_signal_231': [0, 0], 'snap_signal_232': [0, 0], 'snap_signal_233': [0, 0], 'snap_signal_234': [0, 0], 'snap_signal_235': [0, 0], 'snap_signal_236': [0, 0], 'snap_signal_237': [0, 0], 'snap_signal_238': [0, 0], 'snap_signal_239': [0, 0], 'snap_signal_240': [0, 0], 'snap_signal_241': [0, 0, 0], 'snap_signal_242': [0, 0, 0], 'snap_signal_243': [0, 0, 0], 'snap_signal_244': [0, 1, 0], 'snap_signal_245': [0, 1, 0], 'snap_signal_246': [0, 1, 0], 'snap_signal_247': [0, 0, 0], 'snap_signal_248': [0, 0, 0], 'snap_signal_249': [0, 0, 0], 'snap_signal_250': [1, 1, 1], 'snap_signal_251': [1, 1, 1], 'snap_signal_252': [1, 1, 1], 'snap_signal_253': [0, 0, 0], 'snap_signal_254': [0, 0, 0], 'snap_signal_255': [0, 0, 0], 'snap_signal_256': [0, 0, 0], 'snap_signal_257': [0, 0, 0], 'snap_signal_258': [0, 0, 0], 'snap_signal_259': [0, 0, 0], 'snap_signal_260': [0, 0, 0], 'snap_signal_261': [0, 0, 0], 'snap_signal_262': [0, 0, 0], 'snap_signal_263': [0, 0, 0], 'snap_signal_264': [0, 0, 0], 'snap_signal_265': [0, 0, 0], 'snap_signal_266': [0, 0, 0], 'snap_signal_267': [0, 0, 0], 'snap_signal_268': [0, 0, 0], 'snap_signal_269': [0, 0, 0], 'snap_signal_270': [0, 0, 0], 'snap_signal_271': [0, 0, 0], 'snap_signal_272': [0, 0, 0], 'snap_signal_273': [0, 0, 0], 'snap_signal_274': [0, 0, 0], 'snap_signal_275': [0, 0, 0], 'snap_signal_276': [0, 0, 0], 'snap_signal_277': [0, 0], 'snap_signal_278': [0, 0], 'snap_signal_279': [1, 0], 'snap_signal_280': [1, 0], 'snap_signal_281': [0, 0], 'snap_signal_282': [0, 0], 'snap_signal_283': [1, 1], 'snap_signal_284': [1, 1], 'snap_signal_285': [0, 0], 'snap_signal_286': [0, 0], 'snap_signal_287': [0, 0], 'snap_signal_288': [0, 0], 'snap_signal_289': [0, 0], 'snap_signal_290': [0, 0], 'snap_signal_291': [0, 0], 'snap_signal_292': [0, 0], 'snap_signal_293': [0, 0], 'snap_signal_294': [0, 0], 'snap_signal_295': [0, 0], 'snap_signal_296': [0, 0], 'snap_signal_297': [0, 0], 'snap_signal_298': [0, 0], 'snap_signal_299': [0, 0], 'snap_signal_300': [0, 0], 'snap_signal_301': [0, 1, 0], 'snap_signal_302': [0, 1, 0], 'snap_signal_303': [0, 1, 0], 'snap_signal_304': [0, 0, 0], 'snap_signal_305': [0, 0, 0], 'snap_signal_306': [0, 0, 0], 'snap_signal_307': [0, 1, 0], 'snap_signal_308': [0, 1, 0], 'snap_signal_309': [0, 1, 0], 'snap_signal_310': [1, 1, 1], 'snap_signal_311': [1, 1, 1], 'snap_signal_312': [1, 1, 1], 'snap_signal_313': [0, 0, 0], 'snap_signal_314': [0, 0, 0], 'snap_signal_315': [0, 0, 0], 'snap_signal_316': [1, 1, 1], 'snap_signal_317': [1, 1, 1], 'snap_signal_318': [1, 1, 1], 'snap_signal_319': [0, 0, 0], 'snap_signal_320': [0, 0, 0], 'snap_signal_321': [0, 0, 0], 'snap_signal_322': [0, 0, 0], 'snap_signal_323': [0, 0, 0], 'snap_signal_324': [0, 0, 0], 'snap_signal_325': [0, 0, 0], 'snap_signal_326': [0, 0, 0], 'snap_signal_327': [0, 0, 0], 'snap_signal_328': [0, 0, 0], 'snap_signal_329': [0, 0, 0], 'snap_signal_330': [0, 0, 0], 'snap_signal_331': [0, 0, 0], 'snap_signal_332': [0, 0, 0], 'snap_signal_333': [0, 0, 0], 'snap_signal_334': [0, 0, 0], 'snap_signal_335': [0, 0, 0], 'snap_signal_336': [0, 0, 0], 'snap_signal_337': [0, 0, 0], 'snap_signal_338': [0, 0, 0], 'snap_signal_339': [0, 0, 0], 'snap_signal_340': [0, 0, 0], 'snap_signal_341': [0, 0, 0], 'snap_signal_342': [0, 0, 0], 'snap_signal_343': [0, 0, 0], 'snap_signal_344': [0, 0, 0], 'snap_signal_345': [0, 0, 0], 'snap_signal_346': [0, 0, 0], 'snap_signal_347': [0, 0, 0], 'snap_signal_348': [0, 0, 0], 'snap_signal_349': [0, 0, 0], 'snap_signal_350': [0, 0, 0], 'snap_signal_351': [0, 0, 0], 'snap_signal_352': [0, 0, 0], 'snap_signal_353': [0, 0, 0], 'snap_signal_354': [0, 0, 0], 'snap_signal_355': [1, 0], 'snap_signal_356': [1, 0], 'snap_signal_357': [0, 0], 'snap_signal_358': [0, 0], 'snap_signal_359': [1, 0], 'snap_signal_360': [1, 0], 'snap_signal_361': [1, 1], 'snap_signal_362': [1, 1], 'snap_signal_363': [0, 0], 'snap_signal_364': [0, 0], 'snap_signal_365': [1, 1], 'snap_signal_366': [1, 1], 'snap_signal_367': [0, 0], 'snap_signal_368': [0, 0], 'snap_signal_369': [0, 0], 'snap_signal_370': [0, 0], 'snap_signal_371': [0, 0], 'snap_signal_372': [0, 0], 'snap_signal_373': [0, 0], 'snap_signal_374': [0, 0], 'snap_signal_375': [0, 0], 'snap_signal_376': [0, 0], 'snap_signal_377': [0, 0], 'snap_signal_378': [0, 0], 'snap_signal_379': [0, 0], 'snap_signal_380': [0, 0], 'snap_signal_381': [0, 0], 'snap_signal_382': [0, 0], 'snap_signal_383': [0, 0], 'snap_signal_384': [0, 0], 'snap_signal_385': [0, 0], 'snap_signal_386': [0, 0], 'snap_signal_387': [0, 0], 'snap_signal_388': [0, 0], 'snap_signal_389': [0, 0], 'snap_signal_390': [0, 0], 'snap_signal_391': [0, 1, 0], 'snap_signal_392': [0, 1, 0], 'snap_signal_393': [0, 1, 0], 'snap_signal_394': [0, 0, 0], 'snap_signal_395': [0, 0, 0], 'snap_signal_396': [0, 0, 0], 'snap_signal_397': [0, 1, 0], 'snap_signal_398': [0, 1, 0], 'snap_signal_399': [0, 1, 0], 'snap_signal_400': [1, 1, 1], 'snap_signal_401': [1, 1, 1], 'snap_signal_402': [1, 1, 1], 'snap_signal_403': [0, 0, 0], 'snap_signal_404': [0, 0, 0], 'snap_signal_405': [0, 0, 0], 'snap_signal_406': [1, 1, 1], 'snap_signal_407': [1, 1, 1], 'snap_signal_408': [1, 1, 1], 'snap_signal_409': [0, 0, 0], 'snap_signal_410': [0, 0, 0], 'snap_signal_411': [0, 0, 0], 'snap_signal_412': [0, 0, 0], 'snap_signal_413': [0, 0, 0], 'snap_signal_414': [0, 0, 0], 'snap_signal_415': [0, 0, 0], 'snap_signal_416': [0, 0, 0], 'snap_signal_417': [0, 0, 0], 'snap_signal_418': [0, 0, 0], 'snap_signal_419': [0, 0, 0], 'snap_signal_420': [0, 0, 0], 'snap_signal_421': [0, 0, 0], 'snap_signal_422': [0, 0, 0], 'snap_signal_423': [0, 0, 0], 'snap_signal_424': [0, 0, 0], 'snap_signal_425': [0, 0, 0], 'snap_signal_426': [0, 0, 0], 'snap_signal_427': [0, 0, 0], 'snap_signal_428': [0, 0, 0], 'snap_signal_429': [0, 0, 0], 'snap_signal_430': [0, 0, 0], 'snap_signal_431': [0, 0, 0], 'snap_signal_432': [0, 0, 0], 'snap_signal_433': [0, 0, 0], 'snap_signal_434': [0, 0, 0], 'snap_signal_435': [0, 0, 0], 'snap_signal_436': [0, 0, 0], 'snap_signal_437': [0, 0, 0], 'snap_signal_438': [0, 0, 0], 'snap_signal_439': [0, 0, 0], 'snap_signal_440': [0, 0, 0], 'snap_signal_441': [0, 0, 0], 'snap_signal_442': [0, 0, 0], 'snap_signal_443': [0, 0, 0], 'snap_signal_444': [0, 0, 0], 'snap_signal_445': [1, 0], 'snap_signal_446': [1, 0], 'snap_signal_447': [0, 0], 'snap_signal_448': [0, 0], 'snap_signal_449': [1, 0], 'snap_signal_450': [1, 0], 'snap_signal_451': [1, 1], 'snap_signal_452': [1, 1], 'snap_signal_453': [0, 0], 'snap_signal_454': [0, 0], 'snap_signal_455': [1, 1], 'snap_signal_456': [1, 1], 'snap_signal_457': [0, 0], 'snap_signal_458': [0, 0], 'snap_signal_459': [0, 0], 'snap_signal_460': [0, 0], 'snap_signal_461': [0, 0], 'snap_signal_462': [0, 0], 'snap_signal_463': [0, 0], 'snap_signal_464': [0, 0], 'snap_signal_465': [0, 0], 'snap_signal_466': [0, 0], 'snap_signal_467': [0, 0], 'snap_signal_468': [0, 0], 'snap_signal_469': [0, 0], 'snap_signal_470': [0, 0], 'snap_signal_471': [0, 0], 'snap_signal_472': [0, 0], 'snap_signal_473': [0, 0], 'snap_signal_474': [0, 0], 'snap_signal_475': [0, 0], 'snap_signal_476': [0, 0], 'snap_signal_477': [0, 0], 'snap_signal_478': [0, 0], 'snap_signal_479': [0, 0], 'snap_signal_480': [0, 0], 'snap_signal_481': [0, 0, 0], 'snap_signal_482': [0, 0, 0], 'snap_signal_483': [0, 0, 0], 'snap_signal_484': [0, 1, 0], 'snap_signal_485': [0, 1, 0], 'snap_signal_486': [0, 1, 0], 'snap_signal_487': [0, 0, 0], 'snap_signal_488': [0, 0, 0], 'snap_signal_489': [0, 0, 0], 'snap_signal_490': [1, 1, 1], 'snap_signal_491': [1, 1, 1], 'snap_signal_492': [1, 1, 1], 'snap_signal_493': [0, 0, 0], 'snap_signal_494': [0, 0, 0], 'snap_signal_495': [0, 0, 0], 'snap_signal_496': [0, 0, 0], 'snap_signal_497': [0, 0, 0], 'snap_signal_498': [0, 0, 0], 'snap_signal_499': [0, 0, 0], 'snap_signal_500': [0, 0, 0], 'snap_signal_501': [0, 0, 0], 'snap_signal_502': [0, 0, 0], 'snap_signal_503': [0, 0, 0], 'snap_signal_504': [0, 0, 0], 'snap_signal_505': [0, 0, 0], 'snap_signal_506': [0, 0, 0], 'snap_signal_507': [0, 0, 0], 'snap_signal_508': [0, 0, 0], 'snap_signal_509': [0, 0, 0], 'snap_signal_510': [0, 0, 0], 'snap_signal_511': [0, 0, 0], 'snap_signal_512': [0, 0, 0], 'snap_signal_513': [0, 0, 0], 'snap_signal_514': [0, 0, 0], 'snap_signal_515': [0, 0, 0], 'snap_signal_516': [0, 0, 0], 'snap_signal_517': [0, 0], 'snap_signal_518': [0, 0], 'snap_signal_519': [1, 0], 'snap_signal_520': [1, 0], 'snap_signal_521': [0, 0], 'snap_signal_522': [0, 0], 'snap_signal_523': [1, 1], 'snap_signal_524': [1, 1], 'snap_signal_525': [0, 0], 'snap_signal_526': [0, 0], 'snap_signal_527': [0, 0], 'snap_signal_528': [0, 0], 'snap_signal_529': [0, 0], 'snap_signal_530': [0, 0], 'snap_signal_531': [0, 0], 'snap_signal_532': [0, 0], 'snap_signal_533': [0, 0], 'snap_signal_534': [0, 0], 'snap_signal_535': [0, 0], 'snap_signal_536': [0, 0], 'snap_signal_537': [0, 0], 'snap_signal_538': [0, 0], 'snap_signal_539': [0, 0], 'snap_signal_540': [0, 0]}\n",
      "{'snap_signal_1': [0, 1, 0], 'snap_signal_2': [0, 1, 0], 'snap_signal_3': [0, 1, 0], 'snap_signal_4': [0, 0, 0], 'snap_signal_5': [0, 0, 0], 'snap_signal_6': [0, 0, 0], 'snap_signal_7': [0, 1, 0], 'snap_signal_8': [0, 1, 0], 'snap_signal_9': [0, 1, 0], 'snap_signal_10': [1, 1, 1], 'snap_signal_11': [1, 1, 1], 'snap_signal_12': [1, 1, 1], 'snap_signal_13': [0, 0, 0], 'snap_signal_14': [0, 0, 0], 'snap_signal_15': [0, 0, 0], 'snap_signal_16': [1, 1, 1], 'snap_signal_17': [1, 1, 1], 'snap_signal_18': [1, 1, 1], 'snap_signal_19': [0, 0, 0], 'snap_signal_20': [0, 0, 0], 'snap_signal_21': [0, 0, 0], 'snap_signal_22': [0, 0, 0], 'snap_signal_23': [0, 0, 0], 'snap_signal_24': [0, 0, 0], 'snap_signal_25': [0, 0, 0], 'snap_signal_26': [0, 0, 0], 'snap_signal_27': [0, 0, 0], 'snap_signal_28': [0, 0, 0], 'snap_signal_29': [0, 0, 0], 'snap_signal_30': [0, 0, 0], 'snap_signal_31': [0, 0, 0], 'snap_signal_32': [0, 0, 0], 'snap_signal_33': [0, 0, 0], 'snap_signal_34': [0, 0, 0], 'snap_signal_35': [0, 0, 0], 'snap_signal_36': [0, 0, 0], 'snap_signal_37': [0, 0, 0], 'snap_signal_38': [0, 0, 0], 'snap_signal_39': [0, 0, 0], 'snap_signal_40': [0, 0, 0], 'snap_signal_41': [0, 0, 0], 'snap_signal_42': [0, 0, 0], 'snap_signal_43': [0, 0, 0], 'snap_signal_44': [0, 0, 0], 'snap_signal_45': [0, 0, 0], 'snap_signal_46': [0, 0, 0], 'snap_signal_47': [0, 0, 0], 'snap_signal_48': [0, 0, 0], 'snap_signal_49': [0, 0, 0], 'snap_signal_50': [0, 0, 0], 'snap_signal_51': [0, 0, 0], 'snap_signal_52': [0, 0, 0], 'snap_signal_53': [0, 0, 0], 'snap_signal_54': [0, 0, 0], 'snap_signal_55': [1, 0], 'snap_signal_56': [1, 0], 'snap_signal_57': [0, 0], 'snap_signal_58': [0, 0], 'snap_signal_59': [1, 0], 'snap_signal_60': [1, 0], 'snap_signal_61': [1, 1], 'snap_signal_62': [1, 1], 'snap_signal_63': [0, 0], 'snap_signal_64': [0, 0], 'snap_signal_65': [1, 1], 'snap_signal_66': [1, 1], 'snap_signal_67': [0, 0], 'snap_signal_68': [0, 0], 'snap_signal_69': [0, 0], 'snap_signal_70': [0, 0], 'snap_signal_71': [0, 0], 'snap_signal_72': [0, 0], 'snap_signal_73': [0, 0], 'snap_signal_74': [0, 0], 'snap_signal_75': [0, 0], 'snap_signal_76': [0, 0], 'snap_signal_77': [0, 0], 'snap_signal_78': [0, 0], 'snap_signal_79': [0, 0], 'snap_signal_80': [0, 0], 'snap_signal_81': [0, 0], 'snap_signal_82': [0, 0], 'snap_signal_83': [0, 0], 'snap_signal_84': [0, 0], 'snap_signal_85': [0, 0], 'snap_signal_86': [0, 0], 'snap_signal_87': [0, 0], 'snap_signal_88': [0, 0], 'snap_signal_89': [0, 0], 'snap_signal_90': [0, 0], 'snap_signal_91': [0, 1, 0], 'snap_signal_92': [0, 1, 0], 'snap_signal_93': [0, 1, 0], 'snap_signal_94': [0, 0, 0], 'snap_signal_95': [0, 0, 0], 'snap_signal_96': [0, 0, 0], 'snap_signal_97': [0, 1, 0], 'snap_signal_98': [0, 1, 0], 'snap_signal_99': [0, 1, 0], 'snap_signal_100': [1, 1, 1], 'snap_signal_101': [1, 1, 1], 'snap_signal_102': [1, 1, 1], 'snap_signal_103': [0, 0, 0], 'snap_signal_104': [0, 0, 0], 'snap_signal_105': [0, 0, 0], 'snap_signal_106': [1, 1, 1], 'snap_signal_107': [1, 1, 1], 'snap_signal_108': [1, 1, 1], 'snap_signal_109': [0, 0, 0], 'snap_signal_110': [0, 0, 0], 'snap_signal_111': [0, 0, 0], 'snap_signal_112': [0, 0, 0], 'snap_signal_113': [0, 0, 0], 'snap_signal_114': [0, 0, 0], 'snap_signal_115': [0, 0, 0], 'snap_signal_116': [0, 0, 0], 'snap_signal_117': [0, 0, 0], 'snap_signal_118': [0, 0, 0], 'snap_signal_119': [0, 0, 0], 'snap_signal_120': [0, 0, 0], 'snap_signal_121': [0, 0, 0], 'snap_signal_122': [0, 0, 0], 'snap_signal_123': [0, 0, 0], 'snap_signal_124': [0, 0, 0], 'snap_signal_125': [0, 0, 0], 'snap_signal_126': [0, 0, 0], 'snap_signal_127': [0, 0, 0], 'snap_signal_128': [0, 0, 0], 'snap_signal_129': [0, 0, 0], 'snap_signal_130': [0, 0, 0], 'snap_signal_131': [0, 0, 0], 'snap_signal_132': [0, 0, 0], 'snap_signal_133': [0, 0, 0], 'snap_signal_134': [0, 0, 0], 'snap_signal_135': [0, 0, 0], 'snap_signal_136': [0, 0, 0], 'snap_signal_137': [0, 0, 0], 'snap_signal_138': [0, 0, 0], 'snap_signal_139': [0, 0, 0], 'snap_signal_140': [0, 0, 0], 'snap_signal_141': [0, 0, 0], 'snap_signal_142': [0, 0, 0], 'snap_signal_143': [0, 0, 0], 'snap_signal_144': [0, 0, 0], 'snap_signal_145': [1, 0], 'snap_signal_146': [1, 0], 'snap_signal_147': [0, 0], 'snap_signal_148': [0, 0], 'snap_signal_149': [1, 0], 'snap_signal_150': [1, 0], 'snap_signal_151': [1, 1], 'snap_signal_152': [1, 1], 'snap_signal_153': [0, 0], 'snap_signal_154': [0, 0], 'snap_signal_155': [1, 1], 'snap_signal_156': [1, 1], 'snap_signal_157': [0, 0], 'snap_signal_158': [0, 0], 'snap_signal_159': [0, 0], 'snap_signal_160': [0, 0], 'snap_signal_161': [0, 0], 'snap_signal_162': [0, 0], 'snap_signal_163': [0, 0], 'snap_signal_164': [0, 0], 'snap_signal_165': [0, 0], 'snap_signal_166': [0, 0], 'snap_signal_167': [0, 0], 'snap_signal_168': [0, 0], 'snap_signal_169': [0, 0], 'snap_signal_170': [0, 0], 'snap_signal_171': [0, 0], 'snap_signal_172': [0, 0], 'snap_signal_173': [0, 0], 'snap_signal_174': [0, 0], 'snap_signal_175': [0, 0], 'snap_signal_176': [0, 0], 'snap_signal_177': [0, 0], 'snap_signal_178': [0, 0], 'snap_signal_179': [0, 0], 'snap_signal_180': [0, 0], 'snap_signal_181': [0, 0, 0], 'snap_signal_182': [0, 0, 0], 'snap_signal_183': [0, 0, 0], 'snap_signal_184': [0, 1, 0], 'snap_signal_185': [0, 1, 0], 'snap_signal_186': [0, 1, 0], 'snap_signal_187': [0, 0, 0], 'snap_signal_188': [0, 0, 0], 'snap_signal_189': [0, 0, 0], 'snap_signal_190': [1, 1, 1], 'snap_signal_191': [1, 1, 1], 'snap_signal_192': [1, 1, 1], 'snap_signal_193': [0, 0, 0], 'snap_signal_194': [0, 0, 0], 'snap_signal_195': [0, 0, 0], 'snap_signal_196': [0, 0, 0], 'snap_signal_197': [0, 0, 0], 'snap_signal_198': [0, 0, 0], 'snap_signal_199': [0, 0, 0], 'snap_signal_200': [0, 0, 0], 'snap_signal_201': [0, 0, 0], 'snap_signal_202': [0, 0, 0], 'snap_signal_203': [0, 0, 0], 'snap_signal_204': [0, 0, 0], 'snap_signal_205': [0, 0, 0], 'snap_signal_206': [0, 0, 0], 'snap_signal_207': [0, 0, 0], 'snap_signal_208': [0, 0, 0], 'snap_signal_209': [0, 0, 0], 'snap_signal_210': [0, 0, 0], 'snap_signal_211': [0, 0, 0], 'snap_signal_212': [0, 0, 0], 'snap_signal_213': [0, 0, 0], 'snap_signal_214': [0, 0, 0], 'snap_signal_215': [0, 0, 0], 'snap_signal_216': [0, 0, 0], 'snap_signal_217': [0, 0], 'snap_signal_218': [0, 0], 'snap_signal_219': [1, 0], 'snap_signal_220': [1, 0], 'snap_signal_221': [0, 0], 'snap_signal_222': [0, 0], 'snap_signal_223': [1, 1], 'snap_signal_224': [1, 1], 'snap_signal_225': [0, 0], 'snap_signal_226': [0, 0], 'snap_signal_227': [0, 0], 'snap_signal_228': [0, 0], 'snap_signal_229': [0, 0], 'snap_signal_230': [0, 0], 'snap_signal_231': [0, 0], 'snap_signal_232': [0, 0], 'snap_signal_233': [0, 0], 'snap_signal_234': [0, 0], 'snap_signal_235': [0, 0], 'snap_signal_236': [0, 0], 'snap_signal_237': [0, 0], 'snap_signal_238': [0, 0], 'snap_signal_239': [0, 0], 'snap_signal_240': [0, 0], 'snap_signal_241': [0, 0, 0], 'snap_signal_242': [0, 0, 0], 'snap_signal_243': [0, 0, 0], 'snap_signal_244': [0, 1, 0], 'snap_signal_245': [0, 1, 0], 'snap_signal_246': [0, 1, 0], 'snap_signal_247': [0, 0, 0], 'snap_signal_248': [0, 0, 0], 'snap_signal_249': [0, 0, 0], 'snap_signal_250': [1, 1, 1], 'snap_signal_251': [1, 1, 1], 'snap_signal_252': [1, 1, 1], 'snap_signal_253': [0, 0, 0], 'snap_signal_254': [0, 0, 0], 'snap_signal_255': [0, 0, 0], 'snap_signal_256': [0, 0, 0], 'snap_signal_257': [0, 0, 0], 'snap_signal_258': [0, 0, 0], 'snap_signal_259': [0, 0, 0], 'snap_signal_260': [0, 0, 0], 'snap_signal_261': [0, 0, 0], 'snap_signal_262': [0, 0, 0], 'snap_signal_263': [0, 0, 0], 'snap_signal_264': [0, 0, 0], 'snap_signal_265': [0, 0, 0], 'snap_signal_266': [0, 0, 0], 'snap_signal_267': [0, 0, 0], 'snap_signal_268': [0, 0, 0], 'snap_signal_269': [0, 0, 0], 'snap_signal_270': [0, 0, 0], 'snap_signal_271': [0, 0, 0], 'snap_signal_272': [0, 0, 0], 'snap_signal_273': [0, 0, 0], 'snap_signal_274': [0, 0, 0], 'snap_signal_275': [0, 0, 0], 'snap_signal_276': [0, 0, 0], 'snap_signal_277': [0, 0], 'snap_signal_278': [0, 0], 'snap_signal_279': [1, 0], 'snap_signal_280': [1, 0], 'snap_signal_281': [0, 0], 'snap_signal_282': [0, 0], 'snap_signal_283': [1, 1], 'snap_signal_284': [1, 1], 'snap_signal_285': [0, 0], 'snap_signal_286': [0, 0], 'snap_signal_287': [0, 0], 'snap_signal_288': [0, 0], 'snap_signal_289': [0, 0], 'snap_signal_290': [0, 0], 'snap_signal_291': [0, 0], 'snap_signal_292': [0, 0], 'snap_signal_293': [0, 0], 'snap_signal_294': [0, 0], 'snap_signal_295': [0, 0], 'snap_signal_296': [0, 0], 'snap_signal_297': [0, 0], 'snap_signal_298': [0, 0], 'snap_signal_299': [0, 0], 'snap_signal_300': [0, 0], 'snap_signal_301': [0, 1, 0], 'snap_signal_302': [0, 1, 0], 'snap_signal_303': [0, 1, 0], 'snap_signal_304': [0, 0, 0], 'snap_signal_305': [0, 0, 0], 'snap_signal_306': [0, 0, 0], 'snap_signal_307': [0, 1, 0], 'snap_signal_308': [0, 1, 0], 'snap_signal_309': [0, 1, 0], 'snap_signal_310': [1, 1, 1], 'snap_signal_311': [1, 1, 1], 'snap_signal_312': [1, 1, 1], 'snap_signal_313': [0, 0, 0], 'snap_signal_314': [0, 0, 0], 'snap_signal_315': [0, 0, 0], 'snap_signal_316': [1, 1, 1], 'snap_signal_317': [1, 1, 1], 'snap_signal_318': [1, 1, 1], 'snap_signal_319': [0, 0, 0], 'snap_signal_320': [0, 0, 0], 'snap_signal_321': [0, 0, 0], 'snap_signal_322': [0, 0, 0], 'snap_signal_323': [0, 0, 0], 'snap_signal_324': [0, 0, 0], 'snap_signal_325': [0, 0, 0], 'snap_signal_326': [0, 0, 0], 'snap_signal_327': [0, 0, 0], 'snap_signal_328': [0, 0, 0], 'snap_signal_329': [0, 0, 0], 'snap_signal_330': [0, 0, 0], 'snap_signal_331': [0, 0, 0], 'snap_signal_332': [0, 0, 0], 'snap_signal_333': [0, 0, 0], 'snap_signal_334': [0, 0, 0], 'snap_signal_335': [0, 0, 0], 'snap_signal_336': [0, 0, 0], 'snap_signal_337': [0, 0, 0], 'snap_signal_338': [0, 0, 0], 'snap_signal_339': [0, 0, 0], 'snap_signal_340': [0, 0, 0], 'snap_signal_341': [0, 0, 0], 'snap_signal_342': [0, 0, 0], 'snap_signal_343': [0, 0, 0], 'snap_signal_344': [0, 0, 0], 'snap_signal_345': [0, 0, 0], 'snap_signal_346': [0, 0, 0], 'snap_signal_347': [0, 0, 0], 'snap_signal_348': [0, 0, 0], 'snap_signal_349': [0, 0, 0], 'snap_signal_350': [0, 0, 0], 'snap_signal_351': [0, 0, 0], 'snap_signal_352': [0, 0, 0], 'snap_signal_353': [0, 0, 0], 'snap_signal_354': [0, 0, 0], 'snap_signal_355': [1, 0], 'snap_signal_356': [1, 0], 'snap_signal_357': [0, 0], 'snap_signal_358': [0, 0], 'snap_signal_359': [1, 0], 'snap_signal_360': [1, 0], 'snap_signal_361': [1, 1], 'snap_signal_362': [1, 1], 'snap_signal_363': [0, 0], 'snap_signal_364': [0, 0], 'snap_signal_365': [1, 1], 'snap_signal_366': [1, 1], 'snap_signal_367': [0, 0], 'snap_signal_368': [0, 0], 'snap_signal_369': [0, 0], 'snap_signal_370': [0, 0], 'snap_signal_371': [0, 0], 'snap_signal_372': [0, 0], 'snap_signal_373': [0, 0], 'snap_signal_374': [0, 0], 'snap_signal_375': [0, 0], 'snap_signal_376': [0, 0], 'snap_signal_377': [0, 0], 'snap_signal_378': [0, 0], 'snap_signal_379': [0, 0], 'snap_signal_380': [0, 0], 'snap_signal_381': [0, 0], 'snap_signal_382': [0, 0], 'snap_signal_383': [0, 0], 'snap_signal_384': [0, 0], 'snap_signal_385': [0, 0], 'snap_signal_386': [0, 0], 'snap_signal_387': [0, 0], 'snap_signal_388': [0, 0], 'snap_signal_389': [0, 0], 'snap_signal_390': [0, 0], 'snap_signal_391': [0, 1, 0], 'snap_signal_392': [0, 1, 0], 'snap_signal_393': [0, 1, 0], 'snap_signal_394': [0, 0, 0], 'snap_signal_395': [0, 0, 0], 'snap_signal_396': [0, 0, 0], 'snap_signal_397': [0, 1, 0], 'snap_signal_398': [0, 1, 0], 'snap_signal_399': [0, 1, 0], 'snap_signal_400': [1, 1, 1], 'snap_signal_401': [1, 1, 1], 'snap_signal_402': [1, 1, 1], 'snap_signal_403': [0, 0, 0], 'snap_signal_404': [0, 0, 0], 'snap_signal_405': [0, 0, 0], 'snap_signal_406': [1, 1, 1], 'snap_signal_407': [1, 1, 1], 'snap_signal_408': [1, 1, 1], 'snap_signal_409': [0, 0, 0], 'snap_signal_410': [0, 0, 0], 'snap_signal_411': [0, 0, 0], 'snap_signal_412': [0, 0, 0], 'snap_signal_413': [0, 0, 0], 'snap_signal_414': [0, 0, 0], 'snap_signal_415': [0, 0, 0], 'snap_signal_416': [0, 0, 0], 'snap_signal_417': [0, 0, 0], 'snap_signal_418': [0, 0, 0], 'snap_signal_419': [0, 0, 0], 'snap_signal_420': [0, 0, 0], 'snap_signal_421': [0, 0, 0], 'snap_signal_422': [0, 0, 0], 'snap_signal_423': [0, 0, 0], 'snap_signal_424': [0, 0, 0], 'snap_signal_425': [0, 0, 0], 'snap_signal_426': [0, 0, 0], 'snap_signal_427': [0, 0, 0], 'snap_signal_428': [0, 0, 0], 'snap_signal_429': [0, 0, 0], 'snap_signal_430': [0, 0, 0], 'snap_signal_431': [0, 0, 0], 'snap_signal_432': [0, 0, 0], 'snap_signal_433': [0, 0, 0], 'snap_signal_434': [0, 0, 0], 'snap_signal_435': [0, 0, 0], 'snap_signal_436': [0, 0, 0], 'snap_signal_437': [0, 0, 0], 'snap_signal_438': [0, 0, 0], 'snap_signal_439': [0, 0, 0], 'snap_signal_440': [0, 0, 0], 'snap_signal_441': [0, 0, 0], 'snap_signal_442': [0, 0, 0], 'snap_signal_443': [0, 0, 0], 'snap_signal_444': [0, 0, 0], 'snap_signal_445': [1, 0], 'snap_signal_446': [1, 0], 'snap_signal_447': [0, 0], 'snap_signal_448': [0, 0], 'snap_signal_449': [1, 0], 'snap_signal_450': [1, 0], 'snap_signal_451': [1, 1], 'snap_signal_452': [1, 1], 'snap_signal_453': [0, 0], 'snap_signal_454': [0, 0], 'snap_signal_455': [1, 1], 'snap_signal_456': [1, 1], 'snap_signal_457': [0, 0], 'snap_signal_458': [0, 0], 'snap_signal_459': [0, 0], 'snap_signal_460': [0, 0], 'snap_signal_461': [0, 0], 'snap_signal_462': [0, 0], 'snap_signal_463': [0, 0], 'snap_signal_464': [0, 0], 'snap_signal_465': [0, 0], 'snap_signal_466': [0, 0], 'snap_signal_467': [0, 0], 'snap_signal_468': [0, 0], 'snap_signal_469': [0, 0], 'snap_signal_470': [0, 0], 'snap_signal_471': [0, 0], 'snap_signal_472': [0, 0], 'snap_signal_473': [0, 0], 'snap_signal_474': [0, 0], 'snap_signal_475': [0, 0], 'snap_signal_476': [0, 0], 'snap_signal_477': [0, 0], 'snap_signal_478': [0, 0], 'snap_signal_479': [0, 0], 'snap_signal_480': [0, 0], 'snap_signal_481': [0, 0, 0], 'snap_signal_482': [0, 0, 0], 'snap_signal_483': [0, 0, 0], 'snap_signal_484': [0, 1, 0], 'snap_signal_485': [0, 1, 0], 'snap_signal_486': [0, 1, 0], 'snap_signal_487': [0, 0, 0], 'snap_signal_488': [0, 0, 0], 'snap_signal_489': [0, 0, 0], 'snap_signal_490': [1, 1, 1], 'snap_signal_491': [1, 1, 1], 'snap_signal_492': [1, 1, 1], 'snap_signal_493': [0, 0, 0], 'snap_signal_494': [0, 0, 0], 'snap_signal_495': [0, 0, 0], 'snap_signal_496': [0, 0, 0], 'snap_signal_497': [0, 0, 0], 'snap_signal_498': [0, 0, 0], 'snap_signal_499': [0, 0, 0], 'snap_signal_500': [0, 0, 0], 'snap_signal_501': [0, 0, 0], 'snap_signal_502': [0, 0, 0], 'snap_signal_503': [0, 0, 0], 'snap_signal_504': [0, 0, 0], 'snap_signal_505': [0, 0, 0], 'snap_signal_506': [0, 0, 0], 'snap_signal_507': [0, 0, 0], 'snap_signal_508': [0, 0, 0], 'snap_signal_509': [0, 0, 0], 'snap_signal_510': [0, 0, 0], 'snap_signal_511': [0, 0, 0], 'snap_signal_512': [0, 0, 0], 'snap_signal_513': [0, 0, 0], 'snap_signal_514': [0, 0, 0], 'snap_signal_515': [0, 0, 0], 'snap_signal_516': [0, 0, 0], 'snap_signal_517': [0, 0], 'snap_signal_518': [0, 0], 'snap_signal_519': [1, 0], 'snap_signal_520': [1, 0], 'snap_signal_521': [0, 0], 'snap_signal_522': [0, 0], 'snap_signal_523': [1, 1], 'snap_signal_524': [1, 1], 'snap_signal_525': [0, 0], 'snap_signal_526': [0, 0], 'snap_signal_527': [0, 0], 'snap_signal_528': [0, 0], 'snap_signal_529': [0, 0], 'snap_signal_530': [0, 0], 'snap_signal_531': [0, 0], 'snap_signal_532': [0, 0], 'snap_signal_533': [0, 0], 'snap_signal_534': [0, 0], 'snap_signal_535': [0, 0], 'snap_signal_536': [0, 0], 'snap_signal_537': [0, 0], 'snap_signal_538': [0, 0], 'snap_signal_539': [0, 0], 'snap_signal_540': [0, 0], 'snap_signal_541': [0, 0, 0], 'snap_signal_542': [0, 0, 0], 'snap_signal_543': [0, 0, 0], 'snap_signal_544': [0, 1, 0], 'snap_signal_545': [0, 1, 0], 'snap_signal_546': [0, 1, 0], 'snap_signal_547': [0, 0, 0], 'snap_signal_548': [0, 0, 0], 'snap_signal_549': [0, 0, 0], 'snap_signal_550': [1, 1, 1], 'snap_signal_551': [1, 1, 1], 'snap_signal_552': [1, 1, 1], 'snap_signal_553': [0, 0, 0], 'snap_signal_554': [0, 0, 0], 'snap_signal_555': [0, 0, 0], 'snap_signal_556': [0, 0, 0], 'snap_signal_557': [0, 0, 0], 'snap_signal_558': [0, 0, 0], 'snap_signal_559': [0, 0, 0], 'snap_signal_560': [0, 0, 0], 'snap_signal_561': [0, 0, 0], 'snap_signal_562': [0, 0, 0], 'snap_signal_563': [0, 0, 0], 'snap_signal_564': [0, 0, 0], 'snap_signal_565': [0, 0, 0], 'snap_signal_566': [0, 0, 0], 'snap_signal_567': [0, 0, 0], 'snap_signal_568': [0, 0, 0], 'snap_signal_569': [0, 0, 0], 'snap_signal_570': [0, 0, 0], 'snap_signal_571': [0, 0, 0], 'snap_signal_572': [0, 0, 0], 'snap_signal_573': [0, 0, 0], 'snap_signal_574': [0, 0, 0], 'snap_signal_575': [0, 0, 0], 'snap_signal_576': [0, 0, 0]}\n",
      "{'snap_signal_1': [0, 1, 0], 'snap_signal_2': [0, 1, 0], 'snap_signal_3': [0, 1, 0], 'snap_signal_4': [0, 0, 0], 'snap_signal_5': [0, 0, 0], 'snap_signal_6': [0, 0, 0], 'snap_signal_7': [0, 1, 0], 'snap_signal_8': [0, 1, 0], 'snap_signal_9': [0, 1, 0], 'snap_signal_10': [1, 1, 1], 'snap_signal_11': [1, 1, 1], 'snap_signal_12': [1, 1, 1], 'snap_signal_13': [0, 0, 0], 'snap_signal_14': [0, 0, 0], 'snap_signal_15': [0, 0, 0], 'snap_signal_16': [1, 1, 1], 'snap_signal_17': [1, 1, 1], 'snap_signal_18': [1, 1, 1], 'snap_signal_19': [0, 0, 0], 'snap_signal_20': [0, 0, 0], 'snap_signal_21': [0, 0, 0], 'snap_signal_22': [0, 0, 0], 'snap_signal_23': [0, 0, 0], 'snap_signal_24': [0, 0, 0], 'snap_signal_25': [0, 0, 0], 'snap_signal_26': [0, 0, 0], 'snap_signal_27': [0, 0, 0], 'snap_signal_28': [0, 0, 0], 'snap_signal_29': [0, 0, 0], 'snap_signal_30': [0, 0, 0], 'snap_signal_31': [0, 0, 0], 'snap_signal_32': [0, 0, 0], 'snap_signal_33': [0, 0, 0], 'snap_signal_34': [0, 0, 0], 'snap_signal_35': [0, 0, 0], 'snap_signal_36': [0, 0, 0], 'snap_signal_37': [0, 0, 0], 'snap_signal_38': [0, 0, 0], 'snap_signal_39': [0, 0, 0], 'snap_signal_40': [0, 0, 0], 'snap_signal_41': [0, 0, 0], 'snap_signal_42': [0, 0, 0], 'snap_signal_43': [0, 0, 0], 'snap_signal_44': [0, 0, 0], 'snap_signal_45': [0, 0, 0], 'snap_signal_46': [0, 0, 0], 'snap_signal_47': [0, 0, 0], 'snap_signal_48': [0, 0, 0], 'snap_signal_49': [0, 0, 0], 'snap_signal_50': [0, 0, 0], 'snap_signal_51': [0, 0, 0], 'snap_signal_52': [0, 0, 0], 'snap_signal_53': [0, 0, 0], 'snap_signal_54': [0, 0, 0], 'snap_signal_55': [1, 0], 'snap_signal_56': [1, 0], 'snap_signal_57': [0, 0], 'snap_signal_58': [0, 0], 'snap_signal_59': [1, 0], 'snap_signal_60': [1, 0], 'snap_signal_61': [1, 1], 'snap_signal_62': [1, 1], 'snap_signal_63': [0, 0], 'snap_signal_64': [0, 0], 'snap_signal_65': [1, 1], 'snap_signal_66': [1, 1], 'snap_signal_67': [0, 0], 'snap_signal_68': [0, 0], 'snap_signal_69': [0, 0], 'snap_signal_70': [0, 0], 'snap_signal_71': [0, 0], 'snap_signal_72': [0, 0], 'snap_signal_73': [0, 0], 'snap_signal_74': [0, 0], 'snap_signal_75': [0, 0], 'snap_signal_76': [0, 0], 'snap_signal_77': [0, 0], 'snap_signal_78': [0, 0], 'snap_signal_79': [0, 0], 'snap_signal_80': [0, 0], 'snap_signal_81': [0, 0], 'snap_signal_82': [0, 0], 'snap_signal_83': [0, 0], 'snap_signal_84': [0, 0], 'snap_signal_85': [0, 0], 'snap_signal_86': [0, 0], 'snap_signal_87': [0, 0], 'snap_signal_88': [0, 0], 'snap_signal_89': [0, 0], 'snap_signal_90': [0, 0], 'snap_signal_91': [0, 1, 0], 'snap_signal_92': [0, 1, 0], 'snap_signal_93': [0, 1, 0], 'snap_signal_94': [0, 0, 0], 'snap_signal_95': [0, 0, 0], 'snap_signal_96': [0, 0, 0], 'snap_signal_97': [0, 1, 0], 'snap_signal_98': [0, 1, 0], 'snap_signal_99': [0, 1, 0], 'snap_signal_100': [1, 1, 1], 'snap_signal_101': [1, 1, 1], 'snap_signal_102': [1, 1, 1], 'snap_signal_103': [0, 0, 0], 'snap_signal_104': [0, 0, 0], 'snap_signal_105': [0, 0, 0], 'snap_signal_106': [1, 1, 1], 'snap_signal_107': [1, 1, 1], 'snap_signal_108': [1, 1, 1], 'snap_signal_109': [0, 0, 0], 'snap_signal_110': [0, 0, 0], 'snap_signal_111': [0, 0, 0], 'snap_signal_112': [0, 0, 0], 'snap_signal_113': [0, 0, 0], 'snap_signal_114': [0, 0, 0], 'snap_signal_115': [0, 0, 0], 'snap_signal_116': [0, 0, 0], 'snap_signal_117': [0, 0, 0], 'snap_signal_118': [0, 0, 0], 'snap_signal_119': [0, 0, 0], 'snap_signal_120': [0, 0, 0], 'snap_signal_121': [0, 0, 0], 'snap_signal_122': [0, 0, 0], 'snap_signal_123': [0, 0, 0], 'snap_signal_124': [0, 0, 0], 'snap_signal_125': [0, 0, 0], 'snap_signal_126': [0, 0, 0], 'snap_signal_127': [0, 0, 0], 'snap_signal_128': [0, 0, 0], 'snap_signal_129': [0, 0, 0], 'snap_signal_130': [0, 0, 0], 'snap_signal_131': [0, 0, 0], 'snap_signal_132': [0, 0, 0], 'snap_signal_133': [0, 0, 0], 'snap_signal_134': [0, 0, 0], 'snap_signal_135': [0, 0, 0], 'snap_signal_136': [0, 0, 0], 'snap_signal_137': [0, 0, 0], 'snap_signal_138': [0, 0, 0], 'snap_signal_139': [0, 0, 0], 'snap_signal_140': [0, 0, 0], 'snap_signal_141': [0, 0, 0], 'snap_signal_142': [0, 0, 0], 'snap_signal_143': [0, 0, 0], 'snap_signal_144': [0, 0, 0], 'snap_signal_145': [1, 0], 'snap_signal_146': [1, 0], 'snap_signal_147': [0, 0], 'snap_signal_148': [0, 0], 'snap_signal_149': [1, 0], 'snap_signal_150': [1, 0], 'snap_signal_151': [1, 1], 'snap_signal_152': [1, 1], 'snap_signal_153': [0, 0], 'snap_signal_154': [0, 0], 'snap_signal_155': [1, 1], 'snap_signal_156': [1, 1], 'snap_signal_157': [0, 0], 'snap_signal_158': [0, 0], 'snap_signal_159': [0, 0], 'snap_signal_160': [0, 0], 'snap_signal_161': [0, 0], 'snap_signal_162': [0, 0], 'snap_signal_163': [0, 0], 'snap_signal_164': [0, 0], 'snap_signal_165': [0, 0], 'snap_signal_166': [0, 0], 'snap_signal_167': [0, 0], 'snap_signal_168': [0, 0], 'snap_signal_169': [0, 0], 'snap_signal_170': [0, 0], 'snap_signal_171': [0, 0], 'snap_signal_172': [0, 0], 'snap_signal_173': [0, 0], 'snap_signal_174': [0, 0], 'snap_signal_175': [0, 0], 'snap_signal_176': [0, 0], 'snap_signal_177': [0, 0], 'snap_signal_178': [0, 0], 'snap_signal_179': [0, 0], 'snap_signal_180': [0, 0], 'snap_signal_181': [0, 0, 0], 'snap_signal_182': [0, 0, 0], 'snap_signal_183': [0, 0, 0], 'snap_signal_184': [0, 1, 0], 'snap_signal_185': [0, 1, 0], 'snap_signal_186': [0, 1, 0], 'snap_signal_187': [0, 0, 0], 'snap_signal_188': [0, 0, 0], 'snap_signal_189': [0, 0, 0], 'snap_signal_190': [1, 1, 1], 'snap_signal_191': [1, 1, 1], 'snap_signal_192': [1, 1, 1], 'snap_signal_193': [0, 0, 0], 'snap_signal_194': [0, 0, 0], 'snap_signal_195': [0, 0, 0], 'snap_signal_196': [0, 0, 0], 'snap_signal_197': [0, 0, 0], 'snap_signal_198': [0, 0, 0], 'snap_signal_199': [0, 0, 0], 'snap_signal_200': [0, 0, 0], 'snap_signal_201': [0, 0, 0], 'snap_signal_202': [0, 0, 0], 'snap_signal_203': [0, 0, 0], 'snap_signal_204': [0, 0, 0], 'snap_signal_205': [0, 0, 0], 'snap_signal_206': [0, 0, 0], 'snap_signal_207': [0, 0, 0], 'snap_signal_208': [0, 0, 0], 'snap_signal_209': [0, 0, 0], 'snap_signal_210': [0, 0, 0], 'snap_signal_211': [0, 0, 0], 'snap_signal_212': [0, 0, 0], 'snap_signal_213': [0, 0, 0], 'snap_signal_214': [0, 0, 0], 'snap_signal_215': [0, 0, 0], 'snap_signal_216': [0, 0, 0], 'snap_signal_217': [0, 0], 'snap_signal_218': [0, 0], 'snap_signal_219': [1, 0], 'snap_signal_220': [1, 0], 'snap_signal_221': [0, 0], 'snap_signal_222': [0, 0], 'snap_signal_223': [1, 1], 'snap_signal_224': [1, 1], 'snap_signal_225': [0, 0], 'snap_signal_226': [0, 0], 'snap_signal_227': [0, 0], 'snap_signal_228': [0, 0], 'snap_signal_229': [0, 0], 'snap_signal_230': [0, 0], 'snap_signal_231': [0, 0], 'snap_signal_232': [0, 0], 'snap_signal_233': [0, 0], 'snap_signal_234': [0, 0], 'snap_signal_235': [0, 0], 'snap_signal_236': [0, 0], 'snap_signal_237': [0, 0], 'snap_signal_238': [0, 0], 'snap_signal_239': [0, 0], 'snap_signal_240': [0, 0], 'snap_signal_241': [0, 0, 0], 'snap_signal_242': [0, 0, 0], 'snap_signal_243': [0, 0, 0], 'snap_signal_244': [0, 1, 0], 'snap_signal_245': [0, 1, 0], 'snap_signal_246': [0, 1, 0], 'snap_signal_247': [0, 0, 0], 'snap_signal_248': [0, 0, 0], 'snap_signal_249': [0, 0, 0], 'snap_signal_250': [1, 1, 1], 'snap_signal_251': [1, 1, 1], 'snap_signal_252': [1, 1, 1], 'snap_signal_253': [0, 0, 0], 'snap_signal_254': [0, 0, 0], 'snap_signal_255': [0, 0, 0], 'snap_signal_256': [0, 0, 0], 'snap_signal_257': [0, 0, 0], 'snap_signal_258': [0, 0, 0], 'snap_signal_259': [0, 0, 0], 'snap_signal_260': [0, 0, 0], 'snap_signal_261': [0, 0, 0], 'snap_signal_262': [0, 0, 0], 'snap_signal_263': [0, 0, 0], 'snap_signal_264': [0, 0, 0], 'snap_signal_265': [0, 0, 0], 'snap_signal_266': [0, 0, 0], 'snap_signal_267': [0, 0, 0], 'snap_signal_268': [0, 0, 0], 'snap_signal_269': [0, 0, 0], 'snap_signal_270': [0, 0, 0], 'snap_signal_271': [0, 0, 0], 'snap_signal_272': [0, 0, 0], 'snap_signal_273': [0, 0, 0], 'snap_signal_274': [0, 0, 0], 'snap_signal_275': [0, 0, 0], 'snap_signal_276': [0, 0, 0], 'snap_signal_277': [0, 0], 'snap_signal_278': [0, 0], 'snap_signal_279': [1, 0], 'snap_signal_280': [1, 0], 'snap_signal_281': [0, 0], 'snap_signal_282': [0, 0], 'snap_signal_283': [1, 1], 'snap_signal_284': [1, 1], 'snap_signal_285': [0, 0], 'snap_signal_286': [0, 0], 'snap_signal_287': [0, 0], 'snap_signal_288': [0, 0], 'snap_signal_289': [0, 0], 'snap_signal_290': [0, 0], 'snap_signal_291': [0, 0], 'snap_signal_292': [0, 0], 'snap_signal_293': [0, 0], 'snap_signal_294': [0, 0], 'snap_signal_295': [0, 0], 'snap_signal_296': [0, 0], 'snap_signal_297': [0, 0], 'snap_signal_298': [0, 0], 'snap_signal_299': [0, 0], 'snap_signal_300': [0, 0], 'snap_signal_301': [0, 1, 0], 'snap_signal_302': [0, 1, 0], 'snap_signal_303': [0, 1, 0], 'snap_signal_304': [0, 0, 0], 'snap_signal_305': [0, 0, 0], 'snap_signal_306': [0, 0, 0], 'snap_signal_307': [0, 1, 0], 'snap_signal_308': [0, 1, 0], 'snap_signal_309': [0, 1, 0], 'snap_signal_310': [1, 1, 1], 'snap_signal_311': [1, 1, 1], 'snap_signal_312': [1, 1, 1], 'snap_signal_313': [0, 0, 0], 'snap_signal_314': [0, 0, 0], 'snap_signal_315': [0, 0, 0], 'snap_signal_316': [1, 1, 1], 'snap_signal_317': [1, 1, 1], 'snap_signal_318': [1, 1, 1], 'snap_signal_319': [0, 0, 0], 'snap_signal_320': [0, 0, 0], 'snap_signal_321': [0, 0, 0], 'snap_signal_322': [0, 0, 0], 'snap_signal_323': [0, 0, 0], 'snap_signal_324': [0, 0, 0], 'snap_signal_325': [0, 0, 0], 'snap_signal_326': [0, 0, 0], 'snap_signal_327': [0, 0, 0], 'snap_signal_328': [0, 0, 0], 'snap_signal_329': [0, 0, 0], 'snap_signal_330': [0, 0, 0], 'snap_signal_331': [0, 0, 0], 'snap_signal_332': [0, 0, 0], 'snap_signal_333': [0, 0, 0], 'snap_signal_334': [0, 0, 0], 'snap_signal_335': [0, 0, 0], 'snap_signal_336': [0, 0, 0], 'snap_signal_337': [0, 0, 0], 'snap_signal_338': [0, 0, 0], 'snap_signal_339': [0, 0, 0], 'snap_signal_340': [0, 0, 0], 'snap_signal_341': [0, 0, 0], 'snap_signal_342': [0, 0, 0], 'snap_signal_343': [0, 0, 0], 'snap_signal_344': [0, 0, 0], 'snap_signal_345': [0, 0, 0], 'snap_signal_346': [0, 0, 0], 'snap_signal_347': [0, 0, 0], 'snap_signal_348': [0, 0, 0], 'snap_signal_349': [0, 0, 0], 'snap_signal_350': [0, 0, 0], 'snap_signal_351': [0, 0, 0], 'snap_signal_352': [0, 0, 0], 'snap_signal_353': [0, 0, 0], 'snap_signal_354': [0, 0, 0], 'snap_signal_355': [1, 0], 'snap_signal_356': [1, 0], 'snap_signal_357': [0, 0], 'snap_signal_358': [0, 0], 'snap_signal_359': [1, 0], 'snap_signal_360': [1, 0], 'snap_signal_361': [1, 1], 'snap_signal_362': [1, 1], 'snap_signal_363': [0, 0], 'snap_signal_364': [0, 0], 'snap_signal_365': [1, 1], 'snap_signal_366': [1, 1], 'snap_signal_367': [0, 0], 'snap_signal_368': [0, 0], 'snap_signal_369': [0, 0], 'snap_signal_370': [0, 0], 'snap_signal_371': [0, 0], 'snap_signal_372': [0, 0], 'snap_signal_373': [0, 0], 'snap_signal_374': [0, 0], 'snap_signal_375': [0, 0], 'snap_signal_376': [0, 0], 'snap_signal_377': [0, 0], 'snap_signal_378': [0, 0], 'snap_signal_379': [0, 0], 'snap_signal_380': [0, 0], 'snap_signal_381': [0, 0], 'snap_signal_382': [0, 0], 'snap_signal_383': [0, 0], 'snap_signal_384': [0, 0], 'snap_signal_385': [0, 0], 'snap_signal_386': [0, 0], 'snap_signal_387': [0, 0], 'snap_signal_388': [0, 0], 'snap_signal_389': [0, 0], 'snap_signal_390': [0, 0], 'snap_signal_391': [0, 1, 0], 'snap_signal_392': [0, 1, 0], 'snap_signal_393': [0, 1, 0], 'snap_signal_394': [0, 0, 0], 'snap_signal_395': [0, 0, 0], 'snap_signal_396': [0, 0, 0], 'snap_signal_397': [0, 1, 0], 'snap_signal_398': [0, 1, 0], 'snap_signal_399': [0, 1, 0], 'snap_signal_400': [1, 1, 1], 'snap_signal_401': [1, 1, 1], 'snap_signal_402': [1, 1, 1], 'snap_signal_403': [0, 0, 0], 'snap_signal_404': [0, 0, 0], 'snap_signal_405': [0, 0, 0], 'snap_signal_406': [1, 1, 1], 'snap_signal_407': [1, 1, 1], 'snap_signal_408': [1, 1, 1], 'snap_signal_409': [0, 0, 0], 'snap_signal_410': [0, 0, 0], 'snap_signal_411': [0, 0, 0], 'snap_signal_412': [0, 0, 0], 'snap_signal_413': [0, 0, 0], 'snap_signal_414': [0, 0, 0], 'snap_signal_415': [0, 0, 0], 'snap_signal_416': [0, 0, 0], 'snap_signal_417': [0, 0, 0], 'snap_signal_418': [0, 0, 0], 'snap_signal_419': [0, 0, 0], 'snap_signal_420': [0, 0, 0], 'snap_signal_421': [0, 0, 0], 'snap_signal_422': [0, 0, 0], 'snap_signal_423': [0, 0, 0], 'snap_signal_424': [0, 0, 0], 'snap_signal_425': [0, 0, 0], 'snap_signal_426': [0, 0, 0], 'snap_signal_427': [0, 0, 0], 'snap_signal_428': [0, 0, 0], 'snap_signal_429': [0, 0, 0], 'snap_signal_430': [0, 0, 0], 'snap_signal_431': [0, 0, 0], 'snap_signal_432': [0, 0, 0], 'snap_signal_433': [0, 0, 0], 'snap_signal_434': [0, 0, 0], 'snap_signal_435': [0, 0, 0], 'snap_signal_436': [0, 0, 0], 'snap_signal_437': [0, 0, 0], 'snap_signal_438': [0, 0, 0], 'snap_signal_439': [0, 0, 0], 'snap_signal_440': [0, 0, 0], 'snap_signal_441': [0, 0, 0], 'snap_signal_442': [0, 0, 0], 'snap_signal_443': [0, 0, 0], 'snap_signal_444': [0, 0, 0], 'snap_signal_445': [1, 0], 'snap_signal_446': [1, 0], 'snap_signal_447': [0, 0], 'snap_signal_448': [0, 0], 'snap_signal_449': [1, 0], 'snap_signal_450': [1, 0], 'snap_signal_451': [1, 1], 'snap_signal_452': [1, 1], 'snap_signal_453': [0, 0], 'snap_signal_454': [0, 0], 'snap_signal_455': [1, 1], 'snap_signal_456': [1, 1], 'snap_signal_457': [0, 0], 'snap_signal_458': [0, 0], 'snap_signal_459': [0, 0], 'snap_signal_460': [0, 0], 'snap_signal_461': [0, 0], 'snap_signal_462': [0, 0], 'snap_signal_463': [0, 0], 'snap_signal_464': [0, 0], 'snap_signal_465': [0, 0], 'snap_signal_466': [0, 0], 'snap_signal_467': [0, 0], 'snap_signal_468': [0, 0], 'snap_signal_469': [0, 0], 'snap_signal_470': [0, 0], 'snap_signal_471': [0, 0], 'snap_signal_472': [0, 0], 'snap_signal_473': [0, 0], 'snap_signal_474': [0, 0], 'snap_signal_475': [0, 0], 'snap_signal_476': [0, 0], 'snap_signal_477': [0, 0], 'snap_signal_478': [0, 0], 'snap_signal_479': [0, 0], 'snap_signal_480': [0, 0], 'snap_signal_481': [0, 0, 0], 'snap_signal_482': [0, 0, 0], 'snap_signal_483': [0, 0, 0], 'snap_signal_484': [0, 1, 0], 'snap_signal_485': [0, 1, 0], 'snap_signal_486': [0, 1, 0], 'snap_signal_487': [0, 0, 0], 'snap_signal_488': [0, 0, 0], 'snap_signal_489': [0, 0, 0], 'snap_signal_490': [1, 1, 1], 'snap_signal_491': [1, 1, 1], 'snap_signal_492': [1, 1, 1], 'snap_signal_493': [0, 0, 0], 'snap_signal_494': [0, 0, 0], 'snap_signal_495': [0, 0, 0], 'snap_signal_496': [0, 0, 0], 'snap_signal_497': [0, 0, 0], 'snap_signal_498': [0, 0, 0], 'snap_signal_499': [0, 0, 0], 'snap_signal_500': [0, 0, 0], 'snap_signal_501': [0, 0, 0], 'snap_signal_502': [0, 0, 0], 'snap_signal_503': [0, 0, 0], 'snap_signal_504': [0, 0, 0], 'snap_signal_505': [0, 0, 0], 'snap_signal_506': [0, 0, 0], 'snap_signal_507': [0, 0, 0], 'snap_signal_508': [0, 0, 0], 'snap_signal_509': [0, 0, 0], 'snap_signal_510': [0, 0, 0], 'snap_signal_511': [0, 0, 0], 'snap_signal_512': [0, 0, 0], 'snap_signal_513': [0, 0, 0], 'snap_signal_514': [0, 0, 0], 'snap_signal_515': [0, 0, 0], 'snap_signal_516': [0, 0, 0], 'snap_signal_517': [0, 0], 'snap_signal_518': [0, 0], 'snap_signal_519': [1, 0], 'snap_signal_520': [1, 0], 'snap_signal_521': [0, 0], 'snap_signal_522': [0, 0], 'snap_signal_523': [1, 1], 'snap_signal_524': [1, 1], 'snap_signal_525': [0, 0], 'snap_signal_526': [0, 0], 'snap_signal_527': [0, 0], 'snap_signal_528': [0, 0], 'snap_signal_529': [0, 0], 'snap_signal_530': [0, 0], 'snap_signal_531': [0, 0], 'snap_signal_532': [0, 0], 'snap_signal_533': [0, 0], 'snap_signal_534': [0, 0], 'snap_signal_535': [0, 0], 'snap_signal_536': [0, 0], 'snap_signal_537': [0, 0], 'snap_signal_538': [0, 0], 'snap_signal_539': [0, 0], 'snap_signal_540': [0, 0], 'snap_signal_541': [0, 0, 0], 'snap_signal_542': [0, 0, 0], 'snap_signal_543': [0, 0, 0], 'snap_signal_544': [0, 1, 0], 'snap_signal_545': [0, 1, 0], 'snap_signal_546': [0, 1, 0], 'snap_signal_547': [0, 0, 0], 'snap_signal_548': [0, 0, 0], 'snap_signal_549': [0, 0, 0], 'snap_signal_550': [1, 1, 1], 'snap_signal_551': [1, 1, 1], 'snap_signal_552': [1, 1, 1], 'snap_signal_553': [0, 0, 0], 'snap_signal_554': [0, 0, 0], 'snap_signal_555': [0, 0, 0], 'snap_signal_556': [0, 0, 0], 'snap_signal_557': [0, 0, 0], 'snap_signal_558': [0, 0, 0], 'snap_signal_559': [0, 0, 0], 'snap_signal_560': [0, 0, 0], 'snap_signal_561': [0, 0, 0], 'snap_signal_562': [0, 0, 0], 'snap_signal_563': [0, 0, 0], 'snap_signal_564': [0, 0, 0], 'snap_signal_565': [0, 0, 0], 'snap_signal_566': [0, 0, 0], 'snap_signal_567': [0, 0, 0], 'snap_signal_568': [0, 0, 0], 'snap_signal_569': [0, 0, 0], 'snap_signal_570': [0, 0, 0], 'snap_signal_571': [0, 0, 0], 'snap_signal_572': [0, 0, 0], 'snap_signal_573': [0, 0, 0], 'snap_signal_574': [0, 0, 0], 'snap_signal_575': [0, 0, 0], 'snap_signal_576': [0, 0, 0], 'snap_signal_577': [0, 0], 'snap_signal_578': [0, 0], 'snap_signal_579': [1, 0], 'snap_signal_580': [1, 0], 'snap_signal_581': [0, 0], 'snap_signal_582': [0, 0], 'snap_signal_583': [1, 1], 'snap_signal_584': [1, 1], 'snap_signal_585': [0, 0], 'snap_signal_586': [0, 0], 'snap_signal_587': [0, 0], 'snap_signal_588': [0, 0], 'snap_signal_589': [0, 0], 'snap_signal_590': [0, 0], 'snap_signal_591': [0, 0], 'snap_signal_592': [0, 0], 'snap_signal_593': [0, 0], 'snap_signal_594': [0, 0], 'snap_signal_595': [0, 0], 'snap_signal_596': [0, 0], 'snap_signal_597': [0, 0], 'snap_signal_598': [0, 0], 'snap_signal_599': [0, 0], 'snap_signal_600': [0, 0]}\n"
     ]
    },
    {
     "data": {
      "text/plain": [
       "''"
      ]
     },
     "execution_count": 659,
     "metadata": {},
     "output_type": "execute_result"
    }
   ],
   "source": [
    "TopDemux = {'demux_top_out_multiwire_1': {'multiwire_0': '101', 'multiwire_1': '000', 'multiwire_2': '000'}, 'demux_top_out_multiwire_2': {'multiwire_0': '01', 'multiwire_1': '00', 'multiwire_2': '00'}, 'demux_top_out_multiwire_3': {'multiwire_0': '101', 'multiwire_1': '000', 'multiwire_2': '000'}, 'demux_top_out_multiwire_4': {'multiwire_0': '01', 'multiwire_1': '00', 'multiwire_2': '00'}}\n",
    "BottomDemux =  {'demux_bottom_out_multiwire_1': {'multiwire_0': '101', 'multiwire_1': '000'}, 'demux_bottom_out_multiwire_2': {'multiwire_0': '01', 'multiwire_1': '00'}, 'demux_bottom_out_multiwire_3': {'multiwire_0': '101', 'multiwire_1': '000'}, 'demux_bottom_out_multiwire_4': {'multiwire_0': '01', 'multiwire_1': '00'}}\n",
    "snap_star(TopDemux, BottomDemux)\n",
    "\n"
   ]
  },
  {
   "cell_type": "code",
   "execution_count": 103,
   "metadata": {},
   "outputs": [
    {
     "name": "stdout",
     "output_type": "stream",
     "text": [
      "2^d =  16\n",
      "d^2 =  16\n"
     ]
    }
   ],
   "source": [
    "num_multiwires = 4\n",
    "\n",
    "print(\"2^d = \",2 ** num_multiwires)\n",
    "print(\"d^2 = \", num_multiwires ** 2)"
   ]
  },
  {
   "cell_type": "markdown",
   "metadata": {},
   "source": [
    "int(\"1\",2)"
   ]
  },
  {
   "cell_type": "code",
   "execution_count": 310,
   "metadata": {},
   "outputs": [],
   "source": [
    "\n",
    "# DESCRIPTION:\n",
    "    # Count number of positions, each is a factor of 2\n",
    "    # Exponent 2 by the position number\n",
    "    # Multiply by wire status, if hot, value is counted in sum, if cold value is 0.\n",
    "\n",
    "def bit2int(bit):\n",
    "    reversed_bit=bit[::-1]\n",
    "    sum_wire_value = 0\n",
    "\n",
    "    for i in range(0,len(reversed_bit)):\n",
    "\n",
    "        wire_position = i \n",
    "        wire_status = int(reversed_bit[wire_position])\n",
    "\n",
    "        numerical_value = 2**wire_position\n",
    "        realised_wire_value = numerical_value*wire_status\n",
    "\n",
    "        if wire_status == 0: \n",
    "            wire_status_description = 'cold'\n",
    "        else: \n",
    "            wire_status_description = 'HOT '\n",
    "\n",
    "        #print('wire number ', wire_position, 'Wire Status:' , wire_status_description, '| Numerical value = ', numerical_value, 'Realised wire value = ', realised_wire_value)\n",
    "        sum_wire_value = sum_wire_value + realised_wire_value\n",
    "    return(sum_wire_value)\n",
    "\n"
   ]
  },
  {
   "cell_type": "code",
   "execution_count": 350,
   "metadata": {},
   "outputs": [
    {
     "name": "stdout",
     "output_type": "stream",
     "text": [
      "6\n",
      "2\n",
      "0\n",
      "4 2 1\n",
      "[0, 0, 0, 0, 0]\n",
      "[1, 1, 1, 0, 1]\n",
      "11101\n",
      "10111\n"
     ]
    }
   ],
   "source": [
    "import math\n",
    "#INT 2 BINARY\n",
    "test_integer = 22\n",
    "# What is the highest power of 2 <= integer?\n",
    "\n",
    "last_wire = floor(math.log2(test_integer))\n",
    "remainder = test_integer-2**last_wire\n",
    "print(remainder)\n",
    "\n",
    "second_last_wire = floor(math.log2(remainder))\n",
    "remainder = remainder-2**second_last_wire\n",
    "print(remainder)\n",
    "\n",
    "third_last_wire = floor(math.log2(remainder))\n",
    "remainder = remainder -2**third_last_wire\n",
    "print(remainder)\n",
    "\n",
    "# case of last wire\n",
    "if remainder >0:\n",
    "    fourth_last_wire = floor(math.log2(remainder))\n",
    "else:\n",
    "\n",
    "\n",
    "    print(last_wire, second_last_wire, third_last_wire)\n",
    "\n",
    "    binary = [0]* (last_wire +1)\n",
    "    print(binary)\n",
    "    binary[last_wire] = 1\n",
    "    binary[second_last_wire] = 1\n",
    "    binary[third_last_wire] = 1\n",
    "    binary[fourth_last_wire] = 1\n",
    "\n",
    "    print(binary)\n",
    "\n",
    "#Stringigy\n",
    "binary_out = ''.join([str(elem) for elem in binary])\n",
    "print(binary_out)\n",
    "\n",
    "binary_out = binary_out[::-1]\n",
    "print(binary_out)"
   ]
  },
  {
   "cell_type": "code",
   "execution_count": 445,
   "metadata": {},
   "outputs": [],
   "source": [
    "def int2bin(integer):\n",
    "    if integer == 0:\n",
    "        return 0\n",
    "    else:\n",
    "        remainder = integer\n",
    "    \n",
    "        hot_wire_positions = []\n",
    "        while remainder > 0:\n",
    "            exponent = floor(math.log2(remainder))\n",
    "            remainder = remainder - 2**exponent\n",
    "            hot_wire_positions.append(exponent)\n",
    "\n",
    "        length_of_binary = hot_wire_positions[0]+1\n",
    "        binary_vector = [0]*length_of_binary\n",
    "        for exponent in hot_wire_positions:\n",
    "            binary_vector[exponent] = 1\n",
    "\n",
    "        #Stringigy\n",
    "        binary_string = ''.join([str(elem) for elem in binary_vector])\n",
    "\n",
    "        # Reverse\n",
    "        binary = binary_string[::-1]\n",
    "        return binary\n",
    "            \n"
   ]
  },
  {
   "cell_type": "code",
   "execution_count": 446,
   "metadata": {},
   "outputs": [
    {
     "data": {
      "text/plain": [
       "0"
      ]
     },
     "execution_count": 446,
     "metadata": {},
     "output_type": "execute_result"
    }
   ],
   "source": [
    "int2bin(0)"
   ]
  },
  {
   "cell_type": "code",
   "execution_count": 477,
   "metadata": {},
   "outputs": [],
   "source": [
    "#EVAL\n",
    "multiwire_a = \"101\"\n",
    "def eval(multiwire_a):\n",
    "    number_bits = len(multiwire_a)\n",
    "    #print(\"input number of bits: \", number_bits)\n",
    "    number_output =  2**number_bits\n",
    "    #print(\"output number of bits: \", number_output)\n",
    "    multiwire_out = int2bin(number_output)\n",
    "    return multiwire_out"
   ]
  },
  {
   "cell_type": "code",
   "execution_count": 478,
   "metadata": {},
   "outputs": [
    {
     "data": {
      "text/plain": [
       "'10000'"
      ]
     },
     "execution_count": 478,
     "metadata": {},
     "output_type": "execute_result"
    }
   ],
   "source": [
    "multiwire_a = \"1110\"\n",
    "eval(multiwire_a)"
   ]
  },
  {
   "cell_type": "code",
   "execution_count": 479,
   "metadata": {},
   "outputs": [
    {
     "name": "stdout",
     "output_type": "stream",
     "text": [
      "524288\n"
     ]
    },
    {
     "data": {
      "text/plain": [
       "'10000000000000000000'"
      ]
     },
     "execution_count": 479,
     "metadata": {},
     "output_type": "execute_result"
    }
   ],
   "source": [
    "number = 2**19\n",
    "print(number)\n",
    "int2bin(number)"
   ]
  },
  {
   "cell_type": "code",
   "execution_count": 474,
   "metadata": {},
   "outputs": [
    {
     "name": "stdout",
     "output_type": "stream",
     "text": [
      "input number of bits:  8\n",
      "output number of bits:  256\n",
      "100000000\n"
     ]
    }
   ],
   "source": [
    "print(eval(\"10101011\"))\n"
   ]
  },
  {
   "cell_type": "code",
   "execution_count": null,
   "metadata": {},
   "outputs": [],
   "source": [
    "def demux2(multiwire_a, D): # (Two Bit demux machine: copied from above, for reference)\n",
    "    d_split = split(D)\n",
    "    output_and_top = list()\n",
    "    output_and_bottom = list()\n",
    "\n",
    "    for n in multiwire_a:\n",
    "        output_and_top.append(and_gate(n, d_split[0]))\n",
    "        output_and_bottom.append(and_gate(n, d_split[1]))\n",
    "\n",
    "    return output_and_top, output_and_bottom"
   ]
  },
  {
   "cell_type": "code",
   "execution_count": 601,
   "metadata": {},
   "outputs": [],
   "source": [
    "#DEMUX\n",
    "    # WITH PRINT STATEMENTS\n",
    "def demuxPrint(multiwire_d: str, multiwire_n: str):\n",
    "    eval_multiwire_d = eval(multiwire_d)\n",
    "    print('eval = ', eval_multiwire_d)\n",
    "    number_multiwires = len(eval_multiwire_d)\n",
    "    number_of_wires = len(multiwire_n) # wires in each multiwire\n",
    "    total_number_output_wires = number_multiwires * number_of_wires\n",
    "    print(\"Number of multiwires (2^d) = \", number_multiwires)\n",
    "    print(\"Number wires per multiwire (n) = \", number_of_wires)\n",
    "    print(\"Total Number of wrires (2^d*n) = \", total_number_output_wires)\n",
    "   \n",
    "\n",
    " \n",
    "    multiwire_out_dict = {}\n",
    "    for top_wire in range(number_multiwires):\n",
    "        wire_d = int(eval_multiwire_d[top_wire])\n",
    "        multiwire_out_dict[\"multiwire_{0}\".format(top_wire)] = \"\"\n",
    "\n",
    "        for bottom_wire in range(number_of_wires):\n",
    "\n",
    "            wire_n = int(multiwire_n[bottom_wire])\n",
    "            \n",
    "            # And gate\n",
    "            and_gate_out = str(and_gate(wire_d, wire_n))\n",
    "            multiwire_out_dict[\"multiwire_{0}\".format(top_wire)] = multiwire_out_dict[\"multiwire_{0}\".format(top_wire)]+ and_gate_out\n",
    "\n",
    "    return multiwire_out_dict\n",
    "\n",
    "\n",
    "\n",
    "# CLEAN DEMUX- NO PRINT STATEMENTS\n",
    "def demux(multiwire_d: str, multiwire_n: str):\n",
    "    eval_multiwire_d = eval(multiwire_d)\n",
    "    #print('eval = ', eval_multiwire_d)\n",
    "    number_multiwires = len(eval_multiwire_d)\n",
    "    number_of_wires = len(multiwire_n) # wires in each multiwire\n",
    "    total_number_output_wires = number_multiwires * number_of_wires\n",
    "    #print(\"Number of multiwires (2^d) = \", number_multiwires)\n",
    "    #print(\"Number wires per multiwire (n) = \", number_of_wires)\n",
    "    #print(\"Total Number of wrires (2^d*n) = \", total_number_output_wires)\n",
    "\n",
    " \n",
    "    multiwire_out_dict = {}\n",
    "    for top_wire in range(number_multiwires):\n",
    "        wire_d = int(eval_multiwire_d[top_wire])\n",
    "        multiwire_out_dict[\"multiwire_{0}\".format(top_wire)] = \"\"\n",
    "\n",
    "        for bottom_wire in range(number_of_wires):\n",
    "\n",
    "            wire_n = int(multiwire_n[bottom_wire])\n",
    "            \n",
    "            # And gate\n",
    "            and_gate_out = str(and_gate(wire_d, wire_n))\n",
    "            multiwire_out_dict[\"multiwire_{0}\".format(top_wire)] = multiwire_out_dict[\"multiwire_{0}\".format(top_wire)]+ and_gate_out\n",
    "\n",
    "    return multiwire_out_dict\n",
    "\n"
   ]
  },
  {
   "cell_type": "code",
   "execution_count": 582,
   "metadata": {},
   "outputs": [
    {
     "name": "stdout",
     "output_type": "stream",
     "text": [
      "eval =  10\n",
      "Number of multiwires (2^d) =  2\n",
      "Number wires per multiwire (n) =  2\n",
      "Total Number of wrires (2^d*n) =  4\n",
      "1\n",
      "0\n",
      "0\n",
      "0\n",
      "out =  {'multiwire_0': '10', 'multiwire_1': '00'}\n"
     ]
    }
   ],
   "source": [
    "multiwire_d = \"1\"\n",
    "multiwire_n = \"10\"\n",
    "output = demux(multiwire_d, multiwire_n)\n",
    "print(\"out = \", output)"
   ]
  },
  {
   "cell_type": "code",
   "execution_count": null,
   "metadata": {},
   "outputs": [],
   "source": [
    "def mux2(multiwire_a, multiwire_b, W): # (Two Bit mux machine: copied from above, for reference)\n",
    "    w_split = split(W)\n",
    "    output_and_top = list()\n",
    "    output_and_bottom = list()\n",
    "    output = list()\n",
    "\n",
    "    if len(multiwire_a) ==len(multiwire_b):\n",
    "      for n in multiwire_a:\n",
    "        output_and_top.append(and_gate(n, w_split[0]))\n",
    "      print(\"Top output complete\")\n",
    "      for o in multiwire_b:\n",
    "        output_and_bottom.append(and_gate(o, w_split[1]))\n",
    "      print(\"Bottom output complete\")\n",
    "\n",
    "      for p in output_and_top:\n",
    "        for q in output_and_bottom:\n",
    "          output.append(or_gate(p,q))\n",
    "\n",
    "      \n",
    "      return output\n",
    "\n",
    "    else:\n",
    "      return print(\"input multiwires not same length- check 'n'\")\n"
   ]
  },
  {
   "cell_type": "code",
   "execution_count": null,
   "metadata": {},
   "outputs": [],
   "source": [
    "#MUX\n",
    "#While a Demux2 allows us to move a multiwire to one of two locations, based on a Destination, Mux2 lets us choose a Source multiwire and move it to a single output. \n",
    "# Demux2 can selectively send information somewhere, while Mux2 can selectively read information.\n",
    "\n",
    "# https://www.tutorialspoint.com/digital_circuits/digital_circuits_multiplexers.htm\n",
    "\n",
    "def mux(multiwire_two_power_d, multiwire_d)\n",
    "\n",
    "TO DO"
   ]
  },
  {
   "cell_type": "code",
   "execution_count": 609,
   "metadata": {},
   "outputs": [
    {
     "name": "stdout",
     "output_type": "stream",
     "text": [
      "rw =  1\n",
      "not RW =  0\n",
      "****** READ MODE ******\n",
      "Demux outputs written\n",
      "Top demux:  {'demux_top_out_multiwire_1': {'multiwire_0': '101', 'multiwire_1': '000', 'multiwire_2': '000'}, 'demux_top_out_multiwire_2': {'multiwire_0': '01', 'multiwire_1': '00', 'multiwire_2': '00'}, 'demux_top_out_multiwire_3': {'multiwire_0': '101', 'multiwire_1': '000', 'multiwire_2': '000'}, 'demux_top_out_multiwire_4': {'multiwire_0': '01', 'multiwire_1': '00', 'multiwire_2': '00'}}\n",
      "Bottom demux:  {'demux_bottom_out_multiwire_1': {'multiwire_0': '101', 'multiwire_1': '000'}, 'demux_bottom_out_multiwire_2': {'multiwire_0': '01', 'multiwire_1': '00'}, 'demux_bottom_out_multiwire_3': {'multiwire_0': '101', 'multiwire_1': '000'}, 'demux_bottom_out_multiwire_4': {'multiwire_0': '01', 'multiwire_1': '00'}}\n",
      "Starting Snap*\n"
     ]
    }
   ],
   "source": [
    "# MEM\n",
    "\n",
    "def mem(RW: int, G: int, multiwire_A: dict, Multiwire_D: dict):\n",
    "    print('rw = ', RW)\n",
    "    not_rw = not_gate(RW)\n",
    "    print('not RW = ', not_rw)\n",
    "    # Top AND gate: No output in write mode\n",
    "    # If go = 1 and RW = 1 then this output = 0, which prevents the machine sending an output while in write mode\n",
    "    top_and_out = and_gate(not_rw, G)\n",
    "    # Bottom AND gate: Allows memory writing (when both RW = 1 and G = 1)\n",
    "    bottom_and_out = and_gate(RW, G)\n",
    "    # note, D is the \"Destination\" wire\n",
    "\n",
    "    # Note, I think the TOP Demux is for writing\n",
    "    # The BOTTOM Demux is for reading\n",
    "\n",
    "    \n",
    "    if RW == 0:\n",
    "\n",
    "        print(\"****** WRITE MODE ******\")\n",
    "    elif RW == 1:\n",
    "        print(\"****** READ MODE ******\")\n",
    "    else:\n",
    "        print(\"Read/Write signal error\")\n",
    "\n",
    "    demux_top_out_dict = {}\n",
    "    demux_bottom_out_dict = {}\n",
    "\n",
    "    payload = multiwire_A\n",
    "    destination = multiwire_D\n",
    "\n",
    "    number_payload_multiwires = len(multiwire_A)\n",
    "    number_destination_multiwires = len(multiwire_D) # Should these always be the same?\n",
    "\n",
    "    first_and_gate_output = str(and_gate(RW, G))\n",
    "    demux_writer_counter = 1\n",
    "\n",
    "    for key in destination:\n",
    "\n",
    "        for key2 in payload:\n",
    "            individual_multiwire_A = destination[key]\n",
    "            individual_multiwire_D = payload[key2]\n",
    "\n",
    "            demux_top_out_dict[\"demux_top_out_multiwire_{0}\".format(demux_writer_counter)] = demux(individual_multiwire_A,individual_multiwire_D) # loop through all combinations of payload & diestination multiwires; each combination corresponds to an interation in demux_writer_counter.\n",
    "            demux_bottom_out_dict[\"demux_bottom_out_multiwire_{0}\".format(demux_writer_counter)] = demux(first_and_gate_output,individual_multiwire_D) \n",
    "            demux_writer_counter +=1\n",
    "    # Demux outputs\n",
    "    print(\"Demux outputs written\") #these outputs are dictionaries of dictionaries- demxu returns a dict, and this output is appended to a dict\n",
    "    print(\"Top demux: \", demux_top_out_dict)\n",
    "    print(\"Bottom demux: \", demux_bottom_out_dict)\n",
    "\n",
    "    # Starting Snap\n",
    "    print(\"Starting Snap*\")\n",
    "    \n",
    "######################\n",
    "\n",
    "multiwire_A = {\"wire_a1\": \"101\",\"wire_a2\": \"01\"}\n",
    "multiwire_D = {\"wire_d1\": \"11\",\"wire_d2\": \"10\"}\n",
    "RW = 0 # 0 = write | 1 = read\n",
    "mem(1,1,multiwire_A, multiwire_D)"
   ]
  },
  {
   "cell_type": "code",
   "execution_count": null,
   "metadata": {},
   "outputs": [],
   "source": []
  }
 ],
 "metadata": {
  "interpreter": {
   "hash": "5edc29c2ed010d6458d71a83433b383a96a8cbd3efe8531bc90c4b8a5b8bcec9"
  },
  "kernelspec": {
   "display_name": "Python 3.8.2 64-bit ('usr')",
   "name": "python3"
  },
  "language_info": {
   "codemirror_mode": {
    "name": "ipython",
    "version": 3
   },
   "file_extension": ".py",
   "mimetype": "text/x-python",
   "name": "python",
   "nbconvert_exporter": "python",
   "pygments_lexer": "ipython3",
   "version": "3.8.2"
  },
  "orig_nbformat": 4
 },
 "nbformat": 4,
 "nbformat_minor": 2
}
