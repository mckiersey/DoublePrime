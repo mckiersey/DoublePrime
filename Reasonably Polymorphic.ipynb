{
 "cells": [
  {
   "cell_type": "code",
   "execution_count": 50,
   "metadata": {},
   "outputs": [
    {
     "name": "stdout",
     "output_type": "stream",
     "text": [
      "python 3 test\n"
     ]
    }
   ],
   "source": [
    "print(\"python 3 test\")"
   ]
  },
  {
   "cell_type": "code",
   "execution_count": 374,
   "metadata": {},
   "outputs": [],
   "source": [
    "def not_gate(input):\n",
    "    if input == 1:\n",
    "        output = 0\n",
    "    elif input == 0:\n",
    "        output = 1\n",
    "    else: \n",
    "        output = \"/!\\ Input error (NOT gate)\"\n",
    "    return output"
   ]
  },
  {
   "cell_type": "code",
   "execution_count": 376,
   "metadata": {},
   "outputs": [
    {
     "data": {
      "text/plain": [
       "1"
      ]
     },
     "execution_count": 376,
     "metadata": {},
     "output_type": "execute_result"
    }
   ],
   "source": [
    "not_gate(0)"
   ]
  },
  {
   "cell_type": "code",
   "execution_count": 53,
   "metadata": {},
   "outputs": [],
   "source": [
    "## AND GATE\n",
    "    # Only on when both inputs are on\n",
    "def and_gate(input_a, input_b):\n",
    "    if  input_a == 0 and input_b == 0:\n",
    "        output = 0\n",
    "    elif input_a == 1 and input_b == 0:   \n",
    "        output = 0\n",
    "    elif input_a == 1 and input_b == 1: \n",
    "        output = 1\n",
    "    elif input_a == 0 and input_b == 1:\n",
    "        output = 0 \n",
    "    else:\n",
    "         output = \"/!\\ Input error (AND gate)\"\n",
    "    return output\n",
    "    \n",
    "\n"
   ]
  },
  {
   "cell_type": "code",
   "execution_count": 378,
   "metadata": {},
   "outputs": [
    {
     "data": {
      "text/plain": [
       "0"
      ]
     },
     "execution_count": 378,
     "metadata": {},
     "output_type": "execute_result"
    }
   ],
   "source": [
    "and_gate(0,1)"
   ]
  },
  {
   "cell_type": "code",
   "execution_count": 55,
   "metadata": {},
   "outputs": [],
   "source": [
    "## OR GATE\n",
    "# This machine produces an output of 1 when either input A or input B is 1 (or both).\n",
    "# If A OR B = 1 then 1\n",
    "def or_gate(input_a, input_b):\n",
    "\n",
    "    not_gate_a = not_gate(input_a)\n",
    "    not_gate_b = not_gate(input_b)\n",
    "\n",
    "    and_gate_output = and_gate(not_gate_a, not_gate_b)\n",
    "\n",
    "    output = not_gate(and_gate_output)\n",
    "    return output"
   ]
  },
  {
   "cell_type": "code",
   "execution_count": 56,
   "metadata": {},
   "outputs": [
    {
     "data": {
      "text/plain": [
       "1"
      ]
     },
     "execution_count": 56,
     "metadata": {},
     "output_type": "execute_result"
    }
   ],
   "source": [
    "or_gate(1,0)"
   ]
  },
  {
   "cell_type": "code",
   "execution_count": 57,
   "metadata": {},
   "outputs": [],
   "source": [
    "## DE MORGAN'S LAW:\n",
    "   # De Morgan’s laws state that whenever we have an and gate, we can turn it into an or gate by wrapping it up in not gates. And vice versa.  "
   ]
  },
  {
   "cell_type": "code",
   "execution_count": 58,
   "metadata": {},
   "outputs": [],
   "source": [
    "# NAND Gate\n",
    "#THE MOST FUNDAMENTAL MACHINE\n",
    "\n",
    "def nand_gate(input_a, input_b):\n",
    "    and_gate_output = and_gate(input_a, input_b)\n",
    "\n",
    "    output = not_gate(and_gate_output)\n",
    "    return output\n"
   ]
  },
  {
   "cell_type": "code",
   "execution_count": 59,
   "metadata": {},
   "outputs": [
    {
     "data": {
      "text/plain": [
       "1"
      ]
     },
     "execution_count": 59,
     "metadata": {},
     "output_type": "execute_result"
    }
   ],
   "source": [
    "nand_gate(0,0)"
   ]
  },
  {
   "cell_type": "code",
   "execution_count": 60,
   "metadata": {},
   "outputs": [],
   "source": [
    "## Building an OR gate from an NAND gate\n",
    "# output = 1 unless both input are 0\n",
    "def nand_and_gate(input_a, input_b):\n",
    "    nand_gate_output = nand_gate(input_a, input_b)\n",
    "    nand_input_a = nand_gate_output\n",
    "    nand_input_b = nand_gate_output\n",
    "    output = nand_gate(nand_input_a, nand_input_b)\n",
    "    return output\n"
   ]
  },
  {
   "cell_type": "code",
   "execution_count": 61,
   "metadata": {},
   "outputs": [
    {
     "data": {
      "text/plain": [
       "0"
      ]
     },
     "execution_count": 61,
     "metadata": {},
     "output_type": "execute_result"
    }
   ],
   "source": [
    "nand_and_gate(0,1)"
   ]
  },
  {
   "cell_type": "code",
   "execution_count": 62,
   "metadata": {},
   "outputs": [],
   "source": [
    "def nand_not_gate(input):\n",
    "    output = nand_gate(input, input)\n",
    "    return output"
   ]
  },
  {
   "cell_type": "code",
   "execution_count": 63,
   "metadata": {},
   "outputs": [
    {
     "data": {
      "text/plain": [
       "1"
      ]
     },
     "execution_count": 63,
     "metadata": {},
     "output_type": "execute_result"
    }
   ],
   "source": [
    "nand_not_gate(0)"
   ]
  },
  {
   "cell_type": "code",
   "execution_count": 64,
   "metadata": {},
   "outputs": [],
   "source": [
    "def nand_or_gate(input_a, input_b):\n",
    "    not_gate_a = nand_not_gate(input_a)\n",
    "    not_gate_b = nand_not_gate(input_b)\n",
    "\n",
    "    output = nand_gate(not_gate_a, not_gate_b)\n",
    "    return output"
   ]
  },
  {
   "cell_type": "code",
   "execution_count": 65,
   "metadata": {},
   "outputs": [
    {
     "data": {
      "text/plain": [
       "1"
      ]
     },
     "execution_count": 65,
     "metadata": {},
     "output_type": "execute_result"
    }
   ],
   "source": [
    "nand_or_gate(1,0)\n"
   ]
  },
  {
   "cell_type": "code",
   "execution_count": 66,
   "metadata": {},
   "outputs": [
    {
     "data": {
      "text/plain": [
       "1"
      ]
     },
     "execution_count": 66,
     "metadata": {},
     "output_type": "execute_result"
    }
   ],
   "source": [
    "nand_or_gate(1,1)"
   ]
  },
  {
   "cell_type": "code",
   "execution_count": 67,
   "metadata": {},
   "outputs": [
    {
     "data": {
      "text/plain": [
       "1"
      ]
     },
     "execution_count": 67,
     "metadata": {},
     "output_type": "execute_result"
    }
   ],
   "source": [
    "nand_or_gate(0,1)"
   ]
  },
  {
   "cell_type": "code",
   "execution_count": 68,
   "metadata": {},
   "outputs": [
    {
     "data": {
      "text/plain": [
       "0"
      ]
     },
     "execution_count": 68,
     "metadata": {},
     "output_type": "execute_result"
    }
   ],
   "source": [
    "nand_or_gate(0,0)"
   ]
  },
  {
   "cell_type": "code",
   "execution_count": 69,
   "metadata": {},
   "outputs": [],
   "source": [
    "def nor_gate(input_a, input_b):\n",
    "    or_gate_output = or_gate(input_a, input_b)\n",
    "    not_or_gate = not_gate(or_gate_output)\n",
    "    return not_or_gate"
   ]
  },
  {
   "cell_type": "code",
   "execution_count": 70,
   "metadata": {},
   "outputs": [
    {
     "data": {
      "text/plain": [
       "0"
      ]
     },
     "execution_count": 70,
     "metadata": {},
     "output_type": "execute_result"
    }
   ],
   "source": [
    "nor_gate(1,1)"
   ]
  },
  {
   "cell_type": "code",
   "execution_count": 71,
   "metadata": {},
   "outputs": [],
   "source": [
    "#C-OUT\n",
    "#We need to carry a 1 when the column has overflown; we can store a maximum of 1[b] (=2), but as we are adding three wires, we can have a potential maximum of 11[b] (=3)\n",
    "def cout(input_a, input_b, Cin):\n",
    "    output_a_and_b = and_gate(input_a, input_b)\n",
    "    output_a_and_cin = and_gate(input_a, Cin)\n",
    "    output_b_and_cin = and_gate(input_b, Cin)\n",
    "\n",
    "    output_ab_or_acin = or_gate(output_a_and_b, output_a_and_cin)\n",
    "    output_cbin_or_acin =or_gate(output_b_and_cin,output_a_and_cin)\n",
    "\n",
    "    output = or_gate(output_ab_or_acin,output_cbin_or_acin)\n",
    "\n",
    "    return output\n"
   ]
  },
  {
   "cell_type": "code",
   "execution_count": 72,
   "metadata": {},
   "outputs": [
    {
     "name": "stdout",
     "output_type": "stream",
     "text": [
      "(0, 0, 1, 0, 1, 1, 1, 0)\n"
     ]
    }
   ],
   "source": [
    "function_table = (cout(0,0,0),\n",
    "                  cout(0,0,1),\n",
    "                  cout(0,1,1),\n",
    "                  cout(0,1,0),\n",
    "                  cout(1,1,0),\n",
    "                  cout(1,1,1),\n",
    "                  cout(1,0,1),\n",
    "                  cout(1,0,0)\n",
    "                  )\n",
    "print(function_table)"
   ]
  },
  {
   "cell_type": "code",
   "execution_count": 73,
   "metadata": {},
   "outputs": [],
   "source": [
    "## XOR \n",
    "# 1 when A and B are different: \n",
    "# Use: Determines whether two inputs have different values\n",
    "def xor_gate(input_a, input_b):\n",
    "    input_a2 = input_a\n",
    "    input_b2 = input_b\n",
    "\n",
    "    not_a2 = not_gate(input_a2)\n",
    "    not_b2 = not_gate(input_b2)\n",
    "    \n",
    "    and_output_1 = and_gate(input_a, not_b2)\n",
    "    and_output_2 = and_gate(input_b, not_a2)\n",
    "\n",
    "    output = or_gate(and_output_1, and_output_2)\n",
    "\n",
    "    return output\n"
   ]
  },
  {
   "cell_type": "code",
   "execution_count": 74,
   "metadata": {},
   "outputs": [
    {
     "name": "stdout",
     "output_type": "stream",
     "text": [
      "(0, 1, 0, 1)\n"
     ]
    }
   ],
   "source": [
    "xor_function_table = ( \n",
    "                      xor_gate(0,0),\n",
    "                      xor_gate(0,1),\n",
    "                      xor_gate(1,1),\n",
    "                      xor_gate(1,0)\n",
    ")\n",
    "print(xor_function_table)"
   ]
  },
  {
   "cell_type": "code",
   "execution_count": 75,
   "metadata": {},
   "outputs": [],
   "source": [
    "## SUM\n",
    "def sum(input_a, input_b, Cin):\n",
    "    xor_output_a_b = xor_gate(input_a, input_b)\n",
    "    output = xor_gate(Cin, xor_output_a_b)\n",
    "    return output\n"
   ]
  },
  {
   "cell_type": "code",
   "execution_count": 76,
   "metadata": {},
   "outputs": [
    {
     "data": {
      "text/plain": [
       "1"
      ]
     },
     "execution_count": 76,
     "metadata": {},
     "output_type": "execute_result"
    }
   ],
   "source": [
    "sum(1,0,0)"
   ]
  },
  {
   "cell_type": "code",
   "execution_count": 77,
   "metadata": {},
   "outputs": [],
   "source": [
    "## Add (columns)\n",
    "# Input: Numbers in column + (optional) carry in number (from previous column)\n",
    "# Output: Sum to be put in columm + carry out to next column\n",
    "\n",
    "def add(input_a, input_b, Cin):\n",
    "    output_sum = sum(input_a, input_b, Cin)\n",
    "    output_cout = cout(input_a, input_b, Cin)\n",
    "\n",
    "    return  output_cout, output_sum\n"
   ]
  },
  {
   "cell_type": "code",
   "execution_count": 78,
   "metadata": {},
   "outputs": [
    {
     "name": "stdout",
     "output_type": "stream",
     "text": [
      "((0, 0), (0, 1), (0, 1), (0, 1), (1, 0), (1, 0), (1, 0), (1, 1), (0, 0))\n"
     ]
    }
   ],
   "source": [
    "add_function_table = ( \n",
    "                      add(0,0,0),\n",
    "                      add(0,0,1),\n",
    "                      add(0,1,0),\n",
    "                      add(1,0,0),\n",
    "                      add(0,1,1),\n",
    "                      add(1,1,0),\n",
    "                      add(1,0,1),\n",
    "                      add(1,1,1),\n",
    "                      add(0,0,0),\n",
    "\n",
    ")\n",
    "print(add_function_table)"
   ]
  },
  {
   "cell_type": "code",
   "execution_count": 79,
   "metadata": {},
   "outputs": [
    {
     "data": {
      "text/plain": [
       "(1, 0)"
      ]
     },
     "execution_count": 79,
     "metadata": {},
     "output_type": "execute_result"
    }
   ],
   "source": [
    "add(1,1,0)"
   ]
  },
  {
   "cell_type": "code",
   "execution_count": 80,
   "metadata": {},
   "outputs": [],
   "source": [
    "## Add machine\n",
    "# Add two nybbles\n",
    "\n",
    "def add4(bit1a, bit2a, bit3a, bit4a, bit1b, bit2b, bit3b, bit4b):\n",
    "    add_ones = add(bit1a, bit1b, 0)\n",
    "    add_ones_cout = add_ones[0]\n",
    "    add_ones_sum = add_ones[1]\n",
    "\n",
    "    add_twos = add(bit2a, bit2b, add_ones_cout)\n",
    "    add_twos_cout = add_twos[0]\n",
    "    add_twos_sum = add_twos[1]\n",
    "\n",
    "    add_threes = add(bit3a, bit3b, add_twos_cout)\n",
    "    add_threes_cout = add_threes[0]\n",
    "    add_threes_sum = add_threes[1]\n",
    "\n",
    "    add_fours = add(bit4a, bit4b, add_threes_cout)\n",
    "    add_fours_cout = add_fours[0]\n",
    "    add_fours_sum = add_fours[1]\n",
    "\n",
    "    return add_ones_sum, add_twos_sum, add_threes_sum, add_fours_sum, add_fours_cout\n",
    "\n"
   ]
  },
  {
   "cell_type": "code",
   "execution_count": 81,
   "metadata": {},
   "outputs": [
    {
     "data": {
      "text/plain": [
       "(0, 1, 1, 1, 1)"
      ]
     },
     "execution_count": 81,
     "metadata": {},
     "output_type": "execute_result"
    }
   ],
   "source": [
    "add4(1,1,1,1,1,1,1,1)"
   ]
  },
  {
   "cell_type": "code",
   "execution_count": 82,
   "metadata": {},
   "outputs": [],
   "source": [
    "# Split machine: divides a (single) wire into its value and the not of its value.\n",
    "def split(input_a):\n",
    "    not_input_a = not_gate(input_a)\n",
    "\n",
    "    return input_a, not_input_a"
   ]
  },
  {
   "cell_type": "code",
   "execution_count": 83,
   "metadata": {},
   "outputs": [
    {
     "data": {
      "text/plain": [
       "(0, 1)"
      ]
     },
     "execution_count": 83,
     "metadata": {},
     "output_type": "execute_result"
    }
   ],
   "source": [
    "split(0)"
   ]
  },
  {
   "cell_type": "code",
   "execution_count": 84,
   "metadata": {},
   "outputs": [],
   "source": [
    "def demux2(multiwire_a, D): # Note, D can be considered an ON/OFF switch, where it switches the current in the multiwire depnding on its value \n",
    "\n",
    "    d_split = split(D)\n",
    "    output_and_top = list()\n",
    "    output_and_bottom = list()\n",
    "\n",
    "    for n in multiwire_a:\n",
    "        output_and_top.append(and_gate(n, d_split[0]))\n",
    "        output_and_bottom.append(and_gate(n, d_split[1]))\n",
    "\n",
    "    return output_and_top, output_and_bottom\n",
    "\n"
   ]
  },
  {
   "cell_type": "code",
   "execution_count": 85,
   "metadata": {},
   "outputs": [],
   "source": [
    "multiwire_a =(1,0,1,1,1,1,0)\n",
    "D = 1"
   ]
  },
  {
   "cell_type": "code",
   "execution_count": 86,
   "metadata": {},
   "outputs": [
    {
     "data": {
      "text/plain": [
       "([1, 0, 1, 1, 1, 1, 0], [0, 0, 0, 0, 0, 0, 0])"
      ]
     },
     "execution_count": 86,
     "metadata": {},
     "output_type": "execute_result"
    }
   ],
   "source": [
    "demux2(multiwire_a, D)"
   ]
  },
  {
   "cell_type": "code",
   "execution_count": 87,
   "metadata": {},
   "outputs": [],
   "source": [
    "def mux2(multiwire_a, multiwire_b, W):\n",
    "    w_split = split(W)\n",
    "    output_and_top = list()\n",
    "    output_and_bottom = list()\n",
    "    output = list()\n",
    "\n",
    "    if len(multiwire_a) ==len(multiwire_b):\n",
    "      for n in multiwire_a:\n",
    "        output_and_top.append(and_gate(n, w_split[0]))\n",
    "      print(\"Top output complete\")\n",
    "      for o in multiwire_b:\n",
    "        output_and_bottom.append(and_gate(o, w_split[1]))\n",
    "      print(\"Bottom output complete\")\n",
    "\n",
    "      for p in output_and_top:\n",
    "        for q in output_and_bottom:\n",
    "          output.append(or_gate(p,q))\n",
    "\n",
    "      \n",
    "      return output\n",
    "\n",
    "    else:\n",
    "      return print(\"input multiwires not same length- check 'n'\")\n"
   ]
  },
  {
   "cell_type": "code",
   "execution_count": 88,
   "metadata": {},
   "outputs": [
    {
     "name": "stdout",
     "output_type": "stream",
     "text": [
      "Top output complete\n",
      "Bottom output complete\n"
     ]
    },
    {
     "data": {
      "text/plain": [
       "[1,\n",
       " 1,\n",
       " 1,\n",
       " 1,\n",
       " 1,\n",
       " 1,\n",
       " 1,\n",
       " 0,\n",
       " 0,\n",
       " 0,\n",
       " 0,\n",
       " 0,\n",
       " 0,\n",
       " 0,\n",
       " 1,\n",
       " 1,\n",
       " 1,\n",
       " 1,\n",
       " 1,\n",
       " 1,\n",
       " 1,\n",
       " 1,\n",
       " 1,\n",
       " 1,\n",
       " 1,\n",
       " 1,\n",
       " 1,\n",
       " 1,\n",
       " 1,\n",
       " 1,\n",
       " 1,\n",
       " 1,\n",
       " 1,\n",
       " 1,\n",
       " 1,\n",
       " 1,\n",
       " 1,\n",
       " 1,\n",
       " 1,\n",
       " 1,\n",
       " 1,\n",
       " 1,\n",
       " 0,\n",
       " 0,\n",
       " 0,\n",
       " 0,\n",
       " 0,\n",
       " 0,\n",
       " 0]"
      ]
     },
     "execution_count": 88,
     "metadata": {},
     "output_type": "execute_result"
    }
   ],
   "source": [
    "multiwire_a =(1,0,1,1,1,1,0)\n",
    "multiwire_b =(1,0,1,1,1,1,0)\n",
    "W = 1\n",
    "mux2(multiwire_a, multiwire_b, W)"
   ]
  },
  {
   "cell_type": "code",
   "execution_count": 89,
   "metadata": {},
   "outputs": [],
   "source": [
    "def hold(input_a, *output_input_b):\n",
    "\n",
    "    if output_input_b != ():\n",
    "        input_b_clean = output_input_b[0]\n",
    "        print(\"input_b is defined as:\",input_b_clean) \n",
    "        output = or_gate(input_a, input_b_clean)\n",
    "        return output\n",
    "\n",
    "    else:\n",
    "        print('no input b')\n",
    "        input_b = 0\n",
    "        print(\"input b assigned default value of: \", input_b)\n",
    "        output = or_gate(input_a, input_b)\n",
    "        return output_input_b"
   ]
  },
  {
   "cell_type": "code",
   "execution_count": 90,
   "metadata": {},
   "outputs": [],
   "source": [
    "# RS LATCH\n",
    "def rs(input_r, input_s):\n",
    "    output_bottom_or_gate = ()\n",
    "    output_top_or_gate = ()\n",
    "\n",
    "    # Top OR GATE\n",
    "    if output_bottom_or_gate !=():\n",
    "        print(\"Top gate inputs A: \",input_r, output_bottom_or_gate)\n",
    "\n",
    "        output_top_or_gate = nor_gate(input_r, output_bottom_or_gate)\n",
    "        output_q = output_top_or_gate\n",
    "    else:\n",
    "        output_bottom_or_gate = 0\n",
    "        print(\"Top gate inputs B: \",input_r, output_bottom_or_gate)\n",
    "\n",
    "        output_top_or_gate = nor_gate(input_r, output_bottom_or_gate)\n",
    "        output_q = output_top_or_gate\n",
    "    # BOTTOM OR GATE\n",
    "    if output_top_or_gate !=():\n",
    "        output_bottom_or_gate = nor_gate(input_s, output_top_or_gate)\n",
    "    else: \n",
    "        output_top_or_gate = 0\n",
    "        print(\"Bottom gate inputs: \",input_s, output_top_or_gate)\n",
    "\n",
    "        output_bottom_or_gate = nor_gate(input_s, output_top_or_gate)\n",
    "    return output_q\n",
    "\n",
    "\n"
   ]
  },
  {
   "cell_type": "code",
   "execution_count": 91,
   "metadata": {},
   "outputs": [],
   "source": [
    "def rs_latch(input_r, input_s, *input_last_q):\n",
    " \n",
    "\n",
    "\n",
    "    if input_last_q ==():\n",
    "        #BOTTOM NOR GATE\n",
    "        input_last_q_default = 0\n",
    "        bottom_nor_output = nor_gate(input_s,input_last_q_default)\n",
    "        #TOP NOR GATE\n",
    "        top_nor_gate = nor_gate(input_r, bottom_nor_output)\n",
    "        output_q = top_nor_gate\n",
    "        return output_q\n",
    "\n",
    "    else:\n",
    "        last_q = input_last_q[0]\n",
    "        bottom_nor_output = nor_gate(input_s,last_q)\n",
    "        #TOP NOR GATE\n",
    "        top_nor_gate = nor_gate(input_r, bottom_nor_output)\n",
    "        output_q = top_nor_gate\n",
    "        return output_q\n"
   ]
  },
  {
   "cell_type": "code",
   "execution_count": 92,
   "metadata": {},
   "outputs": [
    {
     "data": {
      "text/plain": [
       "1"
      ]
     },
     "execution_count": 92,
     "metadata": {},
     "output_type": "execute_result"
    }
   ],
   "source": [
    "rs_latch(0,1)"
   ]
  },
  {
   "cell_type": "code",
   "execution_count": 93,
   "metadata": {},
   "outputs": [
    {
     "data": {
      "text/plain": [
       "0"
      ]
     },
     "execution_count": 93,
     "metadata": {},
     "output_type": "execute_result"
    }
   ],
   "source": [
    "last_q = rs_latch(0,1) #  default = 0 \n",
    "r = 1\n",
    "s = 0\n",
    "rs_latch(r,s, last_q)"
   ]
  },
  {
   "cell_type": "code",
   "execution_count": 94,
   "metadata": {},
   "outputs": [
    {
     "name": "stdout",
     "output_type": "stream",
     "text": [
      "output 1 =  0\n",
      "output set =  1\n",
      "output set =  1\n",
      "output reset =  0\n",
      "output reset =  0\n",
      "output reset =  0\n",
      "output reset =  0\n"
     ]
    }
   ],
   "source": [
    "i = 0\n",
    "while i <= 6:\n",
    "    i +=1\n",
    "    if i == 1:\n",
    "        last_q = 0\n",
    "        r = 0\n",
    "        s = 0\n",
    "        next_q = rs_latch(r,s,last_q)\n",
    "        print(\"output 1 = \", next_q)\n",
    "        #print(\"A: \",i)\n",
    "\n",
    "    if i> 1 and i <= 3:\n",
    "        last_q = next_q\n",
    "        r = 0\n",
    "        s = 1\n",
    "        next_q = rs_latch(r,s,last_q)\n",
    "        print(\"output set = \", next_q)\n",
    "        #print(\"B: \",i)\n",
    "\n",
    "\n",
    "\n",
    "    if i > 3:\n",
    "        last_q = next_q\n",
    "        r = 1\n",
    "        s = 0\n",
    "        next_q = rs_latch(r,s,last_q)\n",
    "        print(\"output reset = \", next_q)\n",
    "        #print(\"C: \",i)\n",
    "\n",
    "\n",
    "\n"
   ]
  },
  {
   "cell_type": "code",
   "execution_count": 95,
   "metadata": {},
   "outputs": [],
   "source": [
    "# SNAP\n",
    "# split + AND + RS\n",
    "def snap(input_s, input_v):\n",
    "    split_output = split(input_v)\n",
    "    and_output_top = and_gate(input_s, split_output[0])\n",
    "    and_output_bottom = and_gate(input_s, split_output[1])\n",
    "    output_q = rs_latch(and_output_top, and_output_bottom)\n",
    "    return output_q"
   ]
  },
  {
   "cell_type": "code",
   "execution_count": 96,
   "metadata": {},
   "outputs": [
    {
     "data": {
      "text/plain": [
       "0"
      ]
     },
     "execution_count": 96,
     "metadata": {},
     "output_type": "execute_result"
    }
   ],
   "source": [
    "snap(1,1)"
   ]
  },
  {
   "cell_type": "code",
   "execution_count": 97,
   "metadata": {},
   "outputs": [],
   "source": [
    "#SNAP* => polymorphic Snap machine\n",
    "def snap_star(s, multiwire_v):\n",
    "    multiwire_ouput_q = []\n",
    "    for wire in multiwire_v:\n",
    "        multiwire_ouput_q.append(snap(s, wire))\n",
    "    return multiwire_ouput_q"
   ]
  },
  {
   "cell_type": "code",
   "execution_count": 98,
   "metadata": {},
   "outputs": [
    {
     "data": {
      "text/plain": [
       "[0, 0, 0, 1, 1, 1, 1, 0, 0, 0]"
      ]
     },
     "execution_count": 98,
     "metadata": {},
     "output_type": "execute_result"
    }
   ],
   "source": [
    "multiwire_v = (1,1,1,0,0,0,0,1,1,1,)\n",
    "snap_star(1, multiwire_v)"
   ]
  },
  {
   "cell_type": "code",
   "execution_count": 103,
   "metadata": {},
   "outputs": [
    {
     "name": "stdout",
     "output_type": "stream",
     "text": [
      "2^d =  16\n",
      "d^2 =  16\n"
     ]
    }
   ],
   "source": [
    "num_multiwires = 4\n",
    "\n",
    "print(\"2^d = \",2 ** num_multiwires)\n",
    "print(\"d^2 = \", num_multiwires ** 2)"
   ]
  },
  {
   "cell_type": "markdown",
   "metadata": {},
   "source": [
    "int(\"1\",2)"
   ]
  },
  {
   "cell_type": "code",
   "execution_count": 310,
   "metadata": {},
   "outputs": [],
   "source": [
    "\n",
    "# DESCRIPTION:\n",
    "    # Count number of positions, each is a factor of 2\n",
    "    # Exponent 2 by the position number\n",
    "    # Multiply by wire status, if hot, value is counted in sum, if cold value is 0.\n",
    "\n",
    "def bit2int(bit):\n",
    "    reversed_bit=bit[::-1]\n",
    "    sum_wire_value = 0\n",
    "\n",
    "    for i in range(0,len(reversed_bit)):\n",
    "\n",
    "        wire_position = i \n",
    "        wire_status = int(reversed_bit[wire_position])\n",
    "\n",
    "        numerical_value = 2**wire_position\n",
    "        realised_wire_value = numerical_value*wire_status\n",
    "\n",
    "        if wire_status == 0: \n",
    "            wire_status_description = 'cold'\n",
    "        else: \n",
    "            wire_status_description = 'HOT '\n",
    "\n",
    "        #print('wire number ', wire_position, 'Wire Status:' , wire_status_description, '| Numerical value = ', numerical_value, 'Realised wire value = ', realised_wire_value)\n",
    "        sum_wire_value = sum_wire_value + realised_wire_value\n",
    "    return(sum_wire_value)\n",
    "\n"
   ]
  },
  {
   "cell_type": "code",
   "execution_count": 350,
   "metadata": {},
   "outputs": [
    {
     "name": "stdout",
     "output_type": "stream",
     "text": [
      "6\n",
      "2\n",
      "0\n",
      "4 2 1\n",
      "[0, 0, 0, 0, 0]\n",
      "[1, 1, 1, 0, 1]\n",
      "11101\n",
      "10111\n"
     ]
    }
   ],
   "source": [
    "import math\n",
    "#INT 2 BINARY\n",
    "test_integer = 22\n",
    "# What is the highest power of 2 <= integer?\n",
    "\n",
    "last_wire = floor(math.log2(test_integer))\n",
    "remainder = test_integer-2**last_wire\n",
    "print(remainder)\n",
    "\n",
    "second_last_wire = floor(math.log2(remainder))\n",
    "remainder = remainder-2**second_last_wire\n",
    "print(remainder)\n",
    "\n",
    "third_last_wire = floor(math.log2(remainder))\n",
    "remainder = remainder -2**third_last_wire\n",
    "print(remainder)\n",
    "\n",
    "# case of last wire\n",
    "if remainder >0:\n",
    "    fourth_last_wire = floor(math.log2(remainder))\n",
    "else:\n",
    "\n",
    "\n",
    "    print(last_wire, second_last_wire, third_last_wire)\n",
    "\n",
    "    binary = [0]* (last_wire +1)\n",
    "    print(binary)\n",
    "    binary[last_wire] = 1\n",
    "    binary[second_last_wire] = 1\n",
    "    binary[third_last_wire] = 1\n",
    "    binary[fourth_last_wire] = 1\n",
    "\n",
    "    print(binary)\n",
    "\n",
    "#Stringigy\n",
    "binary_out = ''.join([str(elem) for elem in binary])\n",
    "print(binary_out)\n",
    "\n",
    "binary_out = binary_out[::-1]\n",
    "print(binary_out)"
   ]
  },
  {
   "cell_type": "code",
   "execution_count": 445,
   "metadata": {},
   "outputs": [],
   "source": [
    "def int2bin(integer):\n",
    "    if integer == 0:\n",
    "        return 0\n",
    "    else:\n",
    "        remainder = integer\n",
    "    \n",
    "        hot_wire_positions = []\n",
    "        while remainder > 0:\n",
    "            exponent = floor(math.log2(remainder))\n",
    "            remainder = remainder - 2**exponent\n",
    "            hot_wire_positions.append(exponent)\n",
    "\n",
    "        length_of_binary = hot_wire_positions[0]+1\n",
    "        binary_vector = [0]*length_of_binary\n",
    "        for exponent in hot_wire_positions:\n",
    "            binary_vector[exponent] = 1\n",
    "\n",
    "        #Stringigy\n",
    "        binary_string = ''.join([str(elem) for elem in binary_vector])\n",
    "\n",
    "        # Reverse\n",
    "        binary = binary_string[::-1]\n",
    "        return binary\n",
    "            \n"
   ]
  },
  {
   "cell_type": "code",
   "execution_count": 446,
   "metadata": {},
   "outputs": [
    {
     "data": {
      "text/plain": [
       "0"
      ]
     },
     "execution_count": 446,
     "metadata": {},
     "output_type": "execute_result"
    }
   ],
   "source": [
    "int2bin(0)"
   ]
  },
  {
   "cell_type": "code",
   "execution_count": 477,
   "metadata": {},
   "outputs": [],
   "source": [
    "#EVAL\n",
    "multiwire_a = \"101\"\n",
    "def eval(multiwire_a):\n",
    "    number_bits = len(multiwire_a)\n",
    "    #print(\"input number of bits: \", number_bits)\n",
    "    number_output =  2**number_bits\n",
    "    #print(\"output number of bits: \", number_output)\n",
    "    multiwire_out = int2bin(number_output)\n",
    "    return multiwire_out"
   ]
  },
  {
   "cell_type": "code",
   "execution_count": 478,
   "metadata": {},
   "outputs": [
    {
     "data": {
      "text/plain": [
       "'10000'"
      ]
     },
     "execution_count": 478,
     "metadata": {},
     "output_type": "execute_result"
    }
   ],
   "source": [
    "multiwire_a = \"1110\"\n",
    "eval(multiwire_a)"
   ]
  },
  {
   "cell_type": "code",
   "execution_count": 479,
   "metadata": {},
   "outputs": [
    {
     "name": "stdout",
     "output_type": "stream",
     "text": [
      "524288\n"
     ]
    },
    {
     "data": {
      "text/plain": [
       "'10000000000000000000'"
      ]
     },
     "execution_count": 479,
     "metadata": {},
     "output_type": "execute_result"
    }
   ],
   "source": [
    "number = 2**19\n",
    "print(number)\n",
    "int2bin(number)"
   ]
  },
  {
   "cell_type": "code",
   "execution_count": 482,
   "metadata": {},
   "outputs": [
    {
     "data": {
      "text/plain": [
       "4"
      ]
     },
     "execution_count": 482,
     "metadata": {},
     "output_type": "execute_result"
    }
   ],
   "source": [
    "bit2int(\"100\")"
   ]
  },
  {
   "cell_type": "code",
   "execution_count": 474,
   "metadata": {},
   "outputs": [
    {
     "name": "stdout",
     "output_type": "stream",
     "text": [
      "input number of bits:  8\n",
      "output number of bits:  256\n",
      "100000000\n"
     ]
    }
   ],
   "source": [
    "print(eval(\"10101011\"))\n"
   ]
  },
  {
   "cell_type": "code",
   "execution_count": null,
   "metadata": {},
   "outputs": [],
   "source": [
    "def demux2(multiwire_a, D): # (copied from above, for reference)\n",
    "    d_split = split(D)\n",
    "    output_and_top = list()\n",
    "    output_and_bottom = list()\n",
    "\n",
    "    for n in multiwire_a:\n",
    "        output_and_top.append(and_gate(n, d_split[0]))\n",
    "        output_and_bottom.append(and_gate(n, d_split[1]))\n",
    "\n",
    "    return output_and_top, output_and_bottom"
   ]
  },
  {
   "cell_type": "code",
   "execution_count": 488,
   "metadata": {},
   "outputs": [],
   "source": [
    "#DEMUX\n",
    "def demux(multiwire_d, multiwire_n):\n",
    "    eval_multiwire_d = eval(multiwire_d)\n",
    "    number_and_gates = len(eval_multiwire_d)\n",
    "    len_multiwire_n = len(multiwire_n)\n",
    "    print(\"Number and gates = \", number_and_gates)\n",
    "    wire_vector_d = [0]*number_and_gates\n",
    "    wire_vector_n = [0]*len_multiwire_n\n",
    "\n",
    "    print(wire_vector_d)\n",
    "    print(wire_vector_n)\n",
    "    multiwire_out = []\n",
    "\n",
    "    for top_wire in range(number_and_gates):\n",
    "        print(top_wire)\n",
    "        wire_d = wire_vector_d[top_wire]\n",
    "   \n",
    "        for bottom_wire in range(len_multiwire_n):\n",
    "\n",
    "            wire_n = wire_vector_n[bottom_wire]\n",
    "\n",
    "            print(\"Top wire: \", wire_d, \"| Bottom wire: \", wire_n)\n",
    "\n",
    "            # And gate\n",
    "            multiwire_out.append(and_gate(wire_d, wire_n))\n",
    "    print('length of out wire:',len(multiwire_out))\n",
    "    print('correct length = ', number_and_gates*len_multiwire_n)\n",
    "    return multiwire_out\n"
   ]
  },
  {
   "cell_type": "code",
   "execution_count": 489,
   "metadata": {},
   "outputs": [
    {
     "name": "stdout",
     "output_type": "stream",
     "text": [
      "Number and gates =  4\n",
      "[0, 0, 0, 0]\n",
      "[0, 0]\n",
      "0\n",
      "Top wire:  0 | Bottom wire:  0\n",
      "Top wire:  0 | Bottom wire:  0\n",
      "1\n",
      "Top wire:  0 | Bottom wire:  0\n",
      "Top wire:  0 | Bottom wire:  0\n",
      "2\n",
      "Top wire:  0 | Bottom wire:  0\n",
      "Top wire:  0 | Bottom wire:  0\n",
      "3\n",
      "Top wire:  0 | Bottom wire:  0\n",
      "Top wire:  0 | Bottom wire:  0\n",
      "length of out wire: 8\n",
      "correct length =  8\n"
     ]
    },
    {
     "data": {
      "text/plain": [
       "[0, 0, 0, 0, 0, 0, 0, 0]"
      ]
     },
     "execution_count": 489,
     "metadata": {},
     "output_type": "execute_result"
    }
   ],
   "source": [
    "multiwire_d = \"101\"\n",
    "multiwire_n = \"10\"\n",
    "demux(multiwire_d, multiwire_n)"
   ]
  },
  {
   "cell_type": "code",
   "execution_count": null,
   "metadata": {},
   "outputs": [],
   "source": [
    "def mux2(multiwire_a, multiwire_b, W):\n",
    "    w_split = split(W)\n",
    "    output_and_top = list()\n",
    "    output_and_bottom = list()\n",
    "    output = list()\n",
    "\n",
    "    if len(multiwire_a) ==len(multiwire_b):\n",
    "      for n in multiwire_a:\n",
    "        output_and_top.append(and_gate(n, w_split[0]))\n",
    "      print(\"Top output complete\")\n",
    "      for o in multiwire_b:\n",
    "        output_and_bottom.append(and_gate(o, w_split[1]))\n",
    "      print(\"Bottom output complete\")\n",
    "\n",
    "      for p in output_and_top:\n",
    "        for q in output_and_bottom:\n",
    "          output.append(or_gate(p,q))\n",
    "\n",
    "      \n",
    "      return output\n",
    "\n",
    "    else:\n",
    "      return print(\"input multiwires not same length- check 'n'\")\n"
   ]
  },
  {
   "cell_type": "code",
   "execution_count": null,
   "metadata": {},
   "outputs": [],
   "source": [
    "#MUX\n",
    "#While a Demux2 allows us to move a multiwire to one of two locations, based on a Destination, Mux2 lets us choose a Source multiwire and move it to a single output. \n",
    "# Demux2 can selectively send information somewhere, while Mux2 can selectively read information.\n",
    "\n"
   ]
  },
  {
   "cell_type": "code",
   "execution_count": null,
   "metadata": {},
   "outputs": [],
   "source": [
    "# MEM\n",
    "def mem(RW, G multiwire_A, Multiwire_D):\n",
    "\n",
    "    not_RW = not_gate(RW)\n",
    "    # Top AND gate: No output in write mode\n",
    "    # If go = 1 and RW = 1 then this output = 0, which prevents the machine sending an output while in write mode\n",
    "    top_and_out = and_gate(not_rw, G)\n",
    "    # Bottom AND gate: Allows memory writing (when both RW = 1 and G = 1)\n",
    "    bottom_and_out = and_gate(RW, G)\n",
    "    # note, D is the \"Destination\" wire\n",
    "\n",
    "    # Note, I think the TOP Demux is for writing\n",
    "    # The BOTTOM Demux is for reading\n",
    "\n",
    "    #Demux Writer (top demux)\n",
    "    demux_writer_out = demux((multiwire_A, multiwire_D)) #<- this machine is always 'on'. It gets turned 'off' retrospectively by the last and gate, because write mode will switch RW to 0, outputting 0 in the top and gate and 0 in the last and gate\n",
    "    #A is the payload that gets written\n",
    "    \n",
    "    \n",
    "\n"
   ]
  }
 ],
 "metadata": {
  "interpreter": {
   "hash": "5edc29c2ed010d6458d71a83433b383a96a8cbd3efe8531bc90c4b8a5b8bcec9"
  },
  "kernelspec": {
   "display_name": "Python 3.8.2 64-bit ('usr')",
   "name": "python3"
  },
  "language_info": {
   "codemirror_mode": {
    "name": "ipython",
    "version": 3
   },
   "file_extension": ".py",
   "mimetype": "text/x-python",
   "name": "python",
   "nbconvert_exporter": "python",
   "pygments_lexer": "ipython3",
   "version": "3.8.2"
  },
  "orig_nbformat": 4
 },
 "nbformat": 4,
 "nbformat_minor": 2
}
