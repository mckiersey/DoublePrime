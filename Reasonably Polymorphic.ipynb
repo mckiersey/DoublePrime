{
 "cells": [
  {
   "cell_type": "code",
   "execution_count": 50,
   "metadata": {},
   "outputs": [
    {
     "name": "stdout",
     "output_type": "stream",
     "text": [
      "python 3 test\n"
     ]
    }
   ],
   "source": [
    "print(\"python 3 test\")"
   ]
  },
  {
   "cell_type": "code",
   "execution_count": null,
   "metadata": {},
   "outputs": [],
   "source": []
  },
  {
   "cell_type": "code",
   "execution_count": 51,
   "metadata": {},
   "outputs": [],
   "source": [
    "def not_gate(input):\n",
    "    if input == 1:\n",
    "        output = 0\n",
    "    elif input == 0:\n",
    "        output = 1\n",
    "    else: \n",
    "        output = \"/!\\ Input error (NOT gate)\"\n",
    "    return output"
   ]
  },
  {
   "cell_type": "code",
   "execution_count": 52,
   "metadata": {},
   "outputs": [
    {
     "data": {
      "text/plain": [
       "'/!\\\\ Input error (NOT gate)'"
      ]
     },
     "execution_count": 52,
     "metadata": {},
     "output_type": "execute_result"
    }
   ],
   "source": [
    "not_gate(\"sd\")"
   ]
  },
  {
   "cell_type": "code",
   "execution_count": 53,
   "metadata": {},
   "outputs": [],
   "source": [
    "## AND GATE\n",
    "    # Only on when both inputs are on\n",
    "def and_gate(input_a, input_b):\n",
    "    if  input_a == 0 and input_b == 0:\n",
    "        output = 0\n",
    "    elif input_a == 1 and input_b == 0:   \n",
    "        output = 0\n",
    "    elif input_a == 1 and input_b == 1: \n",
    "        output = 1\n",
    "    elif input_a == 0 and input_b == 1:\n",
    "        output = 0 \n",
    "    else:\n",
    "         output = \"/!\\ Input error (AND gate)\"\n",
    "    return output\n",
    "    \n",
    "\n"
   ]
  },
  {
   "cell_type": "code",
   "execution_count": 54,
   "metadata": {},
   "outputs": [
    {
     "data": {
      "text/plain": [
       "1"
      ]
     },
     "execution_count": 54,
     "metadata": {},
     "output_type": "execute_result"
    }
   ],
   "source": [
    "and_gate(1,1)"
   ]
  },
  {
   "cell_type": "code",
   "execution_count": 55,
   "metadata": {},
   "outputs": [],
   "source": [
    "## OR GATE\n",
    "# This machine produces an output of 1 when either input A or input B is 1 (or both).\n",
    "# If A OR B = 1 then 1\n",
    "def or_gate(input_a, input_b):\n",
    "\n",
    "    not_gate_a = not_gate(input_a)\n",
    "    not_gate_b = not_gate(input_b)\n",
    "\n",
    "    and_gate_output = and_gate(not_gate_a, not_gate_b)\n",
    "\n",
    "    output = not_gate(and_gate_output)\n",
    "    return output"
   ]
  },
  {
   "cell_type": "code",
   "execution_count": 56,
   "metadata": {},
   "outputs": [
    {
     "data": {
      "text/plain": [
       "1"
      ]
     },
     "execution_count": 56,
     "metadata": {},
     "output_type": "execute_result"
    }
   ],
   "source": [
    "or_gate(1,0)"
   ]
  },
  {
   "cell_type": "code",
   "execution_count": 57,
   "metadata": {},
   "outputs": [],
   "source": [
    "## DE MORGAN'S LAW:\n",
    "   # De Morgan’s laws state that whenever we have an and gate, we can turn it into an or gate by wrapping it up in not gates. And vice versa.  "
   ]
  },
  {
   "cell_type": "code",
   "execution_count": 58,
   "metadata": {},
   "outputs": [],
   "source": [
    "# NAND Gate\n",
    "#THE MOST FUNDAMENTAL MACHINE\n",
    "\n",
    "def nand_gate(input_a, input_b):\n",
    "    and_gate_output = and_gate(input_a, input_b)\n",
    "\n",
    "    output = not_gate(and_gate_output)\n",
    "    return output\n"
   ]
  },
  {
   "cell_type": "code",
   "execution_count": 59,
   "metadata": {},
   "outputs": [
    {
     "data": {
      "text/plain": [
       "1"
      ]
     },
     "execution_count": 59,
     "metadata": {},
     "output_type": "execute_result"
    }
   ],
   "source": [
    "nand_gate(0,0)"
   ]
  },
  {
   "cell_type": "code",
   "execution_count": 60,
   "metadata": {},
   "outputs": [],
   "source": [
    "## Building an OR gate from an NAND gate\n",
    "# output = 1 unless both input are 0\n",
    "def nand_and_gate(input_a, input_b):\n",
    "    nand_gate_output = nand_gate(input_a, input_b)\n",
    "    nand_input_a = nand_gate_output\n",
    "    nand_input_b = nand_gate_output\n",
    "    output = nand_gate(nand_input_a, nand_input_b)\n",
    "    return output\n"
   ]
  },
  {
   "cell_type": "code",
   "execution_count": 61,
   "metadata": {},
   "outputs": [
    {
     "data": {
      "text/plain": [
       "0"
      ]
     },
     "execution_count": 61,
     "metadata": {},
     "output_type": "execute_result"
    }
   ],
   "source": [
    "nand_and_gate(0,1)"
   ]
  },
  {
   "cell_type": "code",
   "execution_count": 62,
   "metadata": {},
   "outputs": [],
   "source": [
    "def nand_not_gate(input):\n",
    "    output = nand_gate(input, input)\n",
    "    return output"
   ]
  },
  {
   "cell_type": "code",
   "execution_count": 63,
   "metadata": {},
   "outputs": [
    {
     "data": {
      "text/plain": [
       "1"
      ]
     },
     "execution_count": 63,
     "metadata": {},
     "output_type": "execute_result"
    }
   ],
   "source": [
    "nand_not_gate(0)"
   ]
  },
  {
   "cell_type": "code",
   "execution_count": 64,
   "metadata": {},
   "outputs": [],
   "source": [
    "def nand_or_gate(input_a, input_b):\n",
    "    not_gate_a = nand_not_gate(input_a)\n",
    "    not_gate_b = nand_not_gate(input_b)\n",
    "\n",
    "    output = nand_gate(not_gate_a, not_gate_b)\n",
    "    return output"
   ]
  },
  {
   "cell_type": "code",
   "execution_count": 65,
   "metadata": {},
   "outputs": [
    {
     "data": {
      "text/plain": [
       "1"
      ]
     },
     "execution_count": 65,
     "metadata": {},
     "output_type": "execute_result"
    }
   ],
   "source": [
    "nand_or_gate(1,0)\n"
   ]
  },
  {
   "cell_type": "code",
   "execution_count": 66,
   "metadata": {},
   "outputs": [
    {
     "data": {
      "text/plain": [
       "1"
      ]
     },
     "execution_count": 66,
     "metadata": {},
     "output_type": "execute_result"
    }
   ],
   "source": [
    "nand_or_gate(1,1)"
   ]
  },
  {
   "cell_type": "code",
   "execution_count": 67,
   "metadata": {},
   "outputs": [
    {
     "data": {
      "text/plain": [
       "1"
      ]
     },
     "execution_count": 67,
     "metadata": {},
     "output_type": "execute_result"
    }
   ],
   "source": [
    "nand_or_gate(0,1)"
   ]
  },
  {
   "cell_type": "code",
   "execution_count": 68,
   "metadata": {},
   "outputs": [
    {
     "data": {
      "text/plain": [
       "0"
      ]
     },
     "execution_count": 68,
     "metadata": {},
     "output_type": "execute_result"
    }
   ],
   "source": [
    "nand_or_gate(0,0)"
   ]
  },
  {
   "cell_type": "code",
   "execution_count": 69,
   "metadata": {},
   "outputs": [],
   "source": [
    "def nor_gate(input_a, input_b):\n",
    "    or_gate_output = or_gate(input_a, input_b)\n",
    "    not_or_gate = not_gate(or_gate_output)\n",
    "    return not_or_gate"
   ]
  },
  {
   "cell_type": "code",
   "execution_count": 70,
   "metadata": {},
   "outputs": [
    {
     "data": {
      "text/plain": [
       "0"
      ]
     },
     "execution_count": 70,
     "metadata": {},
     "output_type": "execute_result"
    }
   ],
   "source": [
    "nor_gate(1,1)"
   ]
  },
  {
   "cell_type": "code",
   "execution_count": 71,
   "metadata": {},
   "outputs": [],
   "source": [
    "#C-OUT\n",
    "#We need to carry a 1 when the column has overflown; we can store a maximum of 1[b] (=2), but as we are adding three wires, we can have a potential maximum of 11[b] (=3)\n",
    "def cout(input_a, input_b, Cin):\n",
    "    output_a_and_b = and_gate(input_a, input_b)\n",
    "    output_a_and_cin = and_gate(input_a, Cin)\n",
    "    output_b_and_cin = and_gate(input_b, Cin)\n",
    "\n",
    "    output_ab_or_acin = or_gate(output_a_and_b, output_a_and_cin)\n",
    "    output_cbin_or_acin =or_gate(output_b_and_cin,output_a_and_cin)\n",
    "\n",
    "    output = or_gate(output_ab_or_acin,output_cbin_or_acin)\n",
    "\n",
    "    return output\n"
   ]
  },
  {
   "cell_type": "code",
   "execution_count": 72,
   "metadata": {},
   "outputs": [
    {
     "name": "stdout",
     "output_type": "stream",
     "text": [
      "(0, 0, 1, 0, 1, 1, 1, 0)\n"
     ]
    }
   ],
   "source": [
    "function_table = (cout(0,0,0),\n",
    "                  cout(0,0,1),\n",
    "                  cout(0,1,1),\n",
    "                  cout(0,1,0),\n",
    "                  cout(1,1,0),\n",
    "                  cout(1,1,1),\n",
    "                  cout(1,0,1),\n",
    "                  cout(1,0,0)\n",
    "                  )\n",
    "print(function_table)"
   ]
  },
  {
   "cell_type": "code",
   "execution_count": 73,
   "metadata": {},
   "outputs": [],
   "source": [
    "## XOR \n",
    "# 1 when A and B are different: \n",
    "# Use: Determines whether two inputs have different values\n",
    "def xor_gate(input_a, input_b):\n",
    "    input_a2 = input_a\n",
    "    input_b2 = input_b\n",
    "\n",
    "    not_a2 = not_gate(input_a2)\n",
    "    not_b2 = not_gate(input_b2)\n",
    "    \n",
    "    and_output_1 = and_gate(input_a, not_b2)\n",
    "    and_output_2 = and_gate(input_b, not_a2)\n",
    "\n",
    "    output = or_gate(and_output_1, and_output_2)\n",
    "\n",
    "    return output\n"
   ]
  },
  {
   "cell_type": "code",
   "execution_count": 74,
   "metadata": {},
   "outputs": [
    {
     "name": "stdout",
     "output_type": "stream",
     "text": [
      "(0, 1, 0, 1)\n"
     ]
    }
   ],
   "source": [
    "xor_function_table = ( \n",
    "                      xor_gate(0,0),\n",
    "                      xor_gate(0,1),\n",
    "                      xor_gate(1,1),\n",
    "                      xor_gate(1,0)\n",
    ")\n",
    "print(xor_function_table)"
   ]
  },
  {
   "cell_type": "code",
   "execution_count": 75,
   "metadata": {},
   "outputs": [],
   "source": [
    "## SUM\n",
    "def sum(input_a, input_b, Cin):\n",
    "    xor_output_a_b = xor_gate(input_a, input_b)\n",
    "    output = xor_gate(Cin, xor_output_a_b)\n",
    "    return output\n"
   ]
  },
  {
   "cell_type": "code",
   "execution_count": 76,
   "metadata": {},
   "outputs": [
    {
     "data": {
      "text/plain": [
       "1"
      ]
     },
     "execution_count": 76,
     "metadata": {},
     "output_type": "execute_result"
    }
   ],
   "source": [
    "sum(1,0,0)"
   ]
  },
  {
   "cell_type": "code",
   "execution_count": 77,
   "metadata": {},
   "outputs": [],
   "source": [
    "## Add (columns)\n",
    "# Input: Numbers in column + (optional) carry in number (from previous column)\n",
    "# Output: Sum to be put in columm + carry out to next column\n",
    "\n",
    "def add(input_a, input_b, Cin):\n",
    "    output_sum = sum(input_a, input_b, Cin)\n",
    "    output_cout = cout(input_a, input_b, Cin)\n",
    "\n",
    "    return  output_cout, output_sum\n"
   ]
  },
  {
   "cell_type": "code",
   "execution_count": 78,
   "metadata": {},
   "outputs": [
    {
     "name": "stdout",
     "output_type": "stream",
     "text": [
      "((0, 0), (0, 1), (0, 1), (0, 1), (1, 0), (1, 0), (1, 0), (1, 1), (0, 0))\n"
     ]
    }
   ],
   "source": [
    "add_function_table = ( \n",
    "                      add(0,0,0),\n",
    "                      add(0,0,1),\n",
    "                      add(0,1,0),\n",
    "                      add(1,0,0),\n",
    "                      add(0,1,1),\n",
    "                      add(1,1,0),\n",
    "                      add(1,0,1),\n",
    "                      add(1,1,1),\n",
    "                      add(0,0,0),\n",
    "\n",
    ")\n",
    "print(add_function_table)"
   ]
  },
  {
   "cell_type": "code",
   "execution_count": 79,
   "metadata": {},
   "outputs": [
    {
     "data": {
      "text/plain": [
       "(1, 0)"
      ]
     },
     "execution_count": 79,
     "metadata": {},
     "output_type": "execute_result"
    }
   ],
   "source": [
    "add(1,1,0)"
   ]
  },
  {
   "cell_type": "code",
   "execution_count": 80,
   "metadata": {},
   "outputs": [],
   "source": [
    "## Add machine\n",
    "# Add two nybbles\n",
    "\n",
    "def add4(bit1a, bit2a, bit3a, bit4a, bit1b, bit2b, bit3b, bit4b):\n",
    "    add_ones = add(bit1a, bit1b, 0)\n",
    "    add_ones_cout = add_ones[0]\n",
    "    add_ones_sum = add_ones[1]\n",
    "\n",
    "    add_twos = add(bit2a, bit2b, add_ones_cout)\n",
    "    add_twos_cout = add_twos[0]\n",
    "    add_twos_sum = add_twos[1]\n",
    "\n",
    "    add_threes = add(bit3a, bit3b, add_twos_cout)\n",
    "    add_threes_cout = add_threes[0]\n",
    "    add_threes_sum = add_threes[1]\n",
    "\n",
    "    add_fours = add(bit4a, bit4b, add_threes_cout)\n",
    "    add_fours_cout = add_fours[0]\n",
    "    add_fours_sum = add_fours[1]\n",
    "\n",
    "    return add_ones_sum, add_twos_sum, add_threes_sum, add_fours_sum, add_fours_cout\n",
    "\n"
   ]
  },
  {
   "cell_type": "code",
   "execution_count": 81,
   "metadata": {},
   "outputs": [
    {
     "data": {
      "text/plain": [
       "(0, 1, 1, 1, 1)"
      ]
     },
     "execution_count": 81,
     "metadata": {},
     "output_type": "execute_result"
    }
   ],
   "source": [
    "add4(1,1,1,1,1,1,1,1)"
   ]
  },
  {
   "cell_type": "code",
   "execution_count": 82,
   "metadata": {},
   "outputs": [],
   "source": [
    "# Split machine: divides a (single) wire into its value and the not of its value.\n",
    "def split(input_a):\n",
    "    not_input_a = not_gate(input_a)\n",
    "\n",
    "    return input_a, not_input_a"
   ]
  },
  {
   "cell_type": "code",
   "execution_count": 83,
   "metadata": {},
   "outputs": [
    {
     "data": {
      "text/plain": [
       "(0, 1)"
      ]
     },
     "execution_count": 83,
     "metadata": {},
     "output_type": "execute_result"
    }
   ],
   "source": [
    "split(0)"
   ]
  },
  {
   "cell_type": "code",
   "execution_count": 84,
   "metadata": {},
   "outputs": [],
   "source": [
    "def demux2(multiwire_a, D): # Note, D can be considered an ON/OFF switch, where it switches the current in the multiwire depnding on its value \n",
    "\n",
    "    d_split = split(D)\n",
    "    output_and_top = list()\n",
    "    output_and_bottom = list()\n",
    "\n",
    "    for n in multiwire_a:\n",
    "        output_and_top.append(and_gate(n, d_split[0]))\n",
    "        output_and_bottom.append(and_gate(n, d_split[1]))\n",
    "\n",
    "    return output_and_top, output_and_bottom\n",
    "\n"
   ]
  },
  {
   "cell_type": "code",
   "execution_count": 85,
   "metadata": {},
   "outputs": [],
   "source": [
    "multiwire_a =(1,0,1,1,1,1,0)\n",
    "D = 1"
   ]
  },
  {
   "cell_type": "code",
   "execution_count": 86,
   "metadata": {},
   "outputs": [
    {
     "data": {
      "text/plain": [
       "([1, 0, 1, 1, 1, 1, 0], [0, 0, 0, 0, 0, 0, 0])"
      ]
     },
     "execution_count": 86,
     "metadata": {},
     "output_type": "execute_result"
    }
   ],
   "source": [
    "demux2(multiwire_a, D)"
   ]
  },
  {
   "cell_type": "code",
   "execution_count": 87,
   "metadata": {},
   "outputs": [],
   "source": [
    "def mux2(multiwire_a, multiwire_b, W):\n",
    "    w_split = split(W)\n",
    "    output_and_top = list()\n",
    "    output_and_bottom = list()\n",
    "    output = list()\n",
    "\n",
    "    if len(multiwire_a) ==len(multiwire_b):\n",
    "      for n in multiwire_a:\n",
    "        output_and_top.append(and_gate(n, w_split[0]))\n",
    "      print(\"Top output complete\")\n",
    "      for o in multiwire_b:\n",
    "        output_and_bottom.append(and_gate(o, w_split[1]))\n",
    "      print(\"Bottom output complete\")\n",
    "\n",
    "      for p in output_and_top:\n",
    "        for q in output_and_bottom:\n",
    "          output.append(or_gate(p,q))\n",
    "\n",
    "      \n",
    "      return output\n",
    "\n",
    "    else:\n",
    "      return print(\"input multiwires not same length- check 'n'\")\n"
   ]
  },
  {
   "cell_type": "code",
   "execution_count": 88,
   "metadata": {},
   "outputs": [
    {
     "name": "stdout",
     "output_type": "stream",
     "text": [
      "Top output complete\n",
      "Bottom output complete\n"
     ]
    },
    {
     "data": {
      "text/plain": [
       "[1,\n",
       " 1,\n",
       " 1,\n",
       " 1,\n",
       " 1,\n",
       " 1,\n",
       " 1,\n",
       " 0,\n",
       " 0,\n",
       " 0,\n",
       " 0,\n",
       " 0,\n",
       " 0,\n",
       " 0,\n",
       " 1,\n",
       " 1,\n",
       " 1,\n",
       " 1,\n",
       " 1,\n",
       " 1,\n",
       " 1,\n",
       " 1,\n",
       " 1,\n",
       " 1,\n",
       " 1,\n",
       " 1,\n",
       " 1,\n",
       " 1,\n",
       " 1,\n",
       " 1,\n",
       " 1,\n",
       " 1,\n",
       " 1,\n",
       " 1,\n",
       " 1,\n",
       " 1,\n",
       " 1,\n",
       " 1,\n",
       " 1,\n",
       " 1,\n",
       " 1,\n",
       " 1,\n",
       " 0,\n",
       " 0,\n",
       " 0,\n",
       " 0,\n",
       " 0,\n",
       " 0,\n",
       " 0]"
      ]
     },
     "execution_count": 88,
     "metadata": {},
     "output_type": "execute_result"
    }
   ],
   "source": [
    "multiwire_a =(1,0,1,1,1,1,0)\n",
    "multiwire_b =(1,0,1,1,1,1,0)\n",
    "W = 1\n",
    "mux2(multiwire_a, multiwire_b, W)"
   ]
  },
  {
   "cell_type": "code",
   "execution_count": 89,
   "metadata": {},
   "outputs": [],
   "source": [
    "def hold(input_a, *output_input_b):\n",
    "\n",
    "    if output_input_b != ():\n",
    "        input_b_clean = output_input_b[0]\n",
    "        print(\"input_b is defined as:\",input_b_clean) \n",
    "        output = or_gate(input_a, input_b_clean)\n",
    "        return output\n",
    "\n",
    "    else:\n",
    "        print('no input b')\n",
    "        input_b = 0\n",
    "        print(\"input b assigned default value of: \", input_b)\n",
    "        output = or_gate(input_a, input_b)\n",
    "        return output_input_b"
   ]
  },
  {
   "cell_type": "code",
   "execution_count": 90,
   "metadata": {},
   "outputs": [],
   "source": [
    "# RS LATCH\n",
    "def rs(input_r, input_s):\n",
    "    output_bottom_or_gate = ()\n",
    "    output_top_or_gate = ()\n",
    "\n",
    "    # Top OR GATE\n",
    "    if output_bottom_or_gate !=():\n",
    "        print(\"Top gate inputs A: \",input_r, output_bottom_or_gate)\n",
    "\n",
    "        output_top_or_gate = nor_gate(input_r, output_bottom_or_gate)\n",
    "        output_q = output_top_or_gate\n",
    "    else:\n",
    "        output_bottom_or_gate = 0\n",
    "        print(\"Top gate inputs B: \",input_r, output_bottom_or_gate)\n",
    "\n",
    "        output_top_or_gate = nor_gate(input_r, output_bottom_or_gate)\n",
    "        output_q = output_top_or_gate\n",
    "    # BOTTOM OR GATE\n",
    "    if output_top_or_gate !=():\n",
    "        output_bottom_or_gate = nor_gate(input_s, output_top_or_gate)\n",
    "    else: \n",
    "        output_top_or_gate = 0\n",
    "        print(\"Bottom gate inputs: \",input_s, output_top_or_gate)\n",
    "\n",
    "        output_bottom_or_gate = nor_gate(input_s, output_top_or_gate)\n",
    "    return output_q\n",
    "\n",
    "\n"
   ]
  },
  {
   "cell_type": "code",
   "execution_count": 91,
   "metadata": {},
   "outputs": [],
   "source": [
    "def rs_latch(input_r, input_s, *input_last_q):\n",
    " \n",
    "\n",
    "\n",
    "    if input_last_q ==():\n",
    "        #BOTTOM NOR GATE\n",
    "        input_last_q_default = 0\n",
    "        bottom_nor_output = nor_gate(input_s,input_last_q_default)\n",
    "        #TOP NOR GATE\n",
    "        top_nor_gate = nor_gate(input_r, bottom_nor_output)\n",
    "        output_q = top_nor_gate\n",
    "        return output_q\n",
    "\n",
    "    else:\n",
    "        last_q = input_last_q[0]\n",
    "        bottom_nor_output = nor_gate(input_s,last_q)\n",
    "        #TOP NOR GATE\n",
    "        top_nor_gate = nor_gate(input_r, bottom_nor_output)\n",
    "        output_q = top_nor_gate\n",
    "        return output_q\n"
   ]
  },
  {
   "cell_type": "code",
   "execution_count": 92,
   "metadata": {},
   "outputs": [
    {
     "data": {
      "text/plain": [
       "1"
      ]
     },
     "execution_count": 92,
     "metadata": {},
     "output_type": "execute_result"
    }
   ],
   "source": [
    "rs_latch(0,1)"
   ]
  },
  {
   "cell_type": "code",
   "execution_count": 93,
   "metadata": {},
   "outputs": [
    {
     "data": {
      "text/plain": [
       "0"
      ]
     },
     "execution_count": 93,
     "metadata": {},
     "output_type": "execute_result"
    }
   ],
   "source": [
    "last_q = rs_latch(0,1) #  default = 0 \n",
    "r = 1\n",
    "s = 0\n",
    "rs_latch(r,s, last_q)"
   ]
  },
  {
   "cell_type": "code",
   "execution_count": 94,
   "metadata": {},
   "outputs": [
    {
     "name": "stdout",
     "output_type": "stream",
     "text": [
      "output 1 =  0\n",
      "output set =  1\n",
      "output set =  1\n",
      "output reset =  0\n",
      "output reset =  0\n",
      "output reset =  0\n",
      "output reset =  0\n"
     ]
    }
   ],
   "source": [
    "i = 0\n",
    "while i <= 6:\n",
    "    i +=1\n",
    "    if i == 1:\n",
    "        last_q = 0\n",
    "        r = 0\n",
    "        s = 0\n",
    "        next_q = rs_latch(r,s,last_q)\n",
    "        print(\"output 1 = \", next_q)\n",
    "        #print(\"A: \",i)\n",
    "\n",
    "    if i> 1 and i <= 3:\n",
    "        last_q = next_q\n",
    "        r = 0\n",
    "        s = 1\n",
    "        next_q = rs_latch(r,s,last_q)\n",
    "        print(\"output set = \", next_q)\n",
    "        #print(\"B: \",i)\n",
    "\n",
    "\n",
    "\n",
    "    if i > 3:\n",
    "        last_q = next_q\n",
    "        r = 1\n",
    "        s = 0\n",
    "        next_q = rs_latch(r,s,last_q)\n",
    "        print(\"output reset = \", next_q)\n",
    "        #print(\"C: \",i)\n",
    "\n",
    "\n",
    "\n"
   ]
  },
  {
   "cell_type": "code",
   "execution_count": 95,
   "metadata": {},
   "outputs": [],
   "source": [
    "# SNAP\n",
    "# split + AND + RS\n",
    "def snap(input_s, input_v):\n",
    "    split_output = split(input_v)\n",
    "    and_output_top = and_gate(input_s, split_output[0])\n",
    "    and_output_bottom = and_gate(input_s, split_output[1])\n",
    "    output_q = rs_latch(and_output_top, and_output_bottom)\n",
    "    return output_q"
   ]
  },
  {
   "cell_type": "code",
   "execution_count": 96,
   "metadata": {},
   "outputs": [
    {
     "data": {
      "text/plain": [
       "0"
      ]
     },
     "execution_count": 96,
     "metadata": {},
     "output_type": "execute_result"
    }
   ],
   "source": [
    "snap(1,1)"
   ]
  },
  {
   "cell_type": "code",
   "execution_count": 97,
   "metadata": {},
   "outputs": [],
   "source": [
    "#SNAP* => polymorphic Snap machine\n",
    "def snap_star(s, multiwire_v):\n",
    "    multiwire_ouput_q = []\n",
    "    for wire in multiwire_v:\n",
    "        multiwire_ouput_q.append(snap(s, wire))\n",
    "    return multiwire_ouput_q"
   ]
  },
  {
   "cell_type": "code",
   "execution_count": 98,
   "metadata": {},
   "outputs": [
    {
     "data": {
      "text/plain": [
       "[0, 0, 0, 1, 1, 1, 1, 0, 0, 0]"
      ]
     },
     "execution_count": 98,
     "metadata": {},
     "output_type": "execute_result"
    }
   ],
   "source": [
    "multiwire_v = (1,1,1,0,0,0,0,1,1,1,)\n",
    "snap_star(1, multiwire_v)"
   ]
  },
  {
   "cell_type": "code",
   "execution_count": 99,
   "metadata": {},
   "outputs": [],
   "source": [
    "def eval(x):\n",
    "    number_of_multiwires = len(x)\n",
    "    return 2**number_of_multiwires"
   ]
  },
  {
   "cell_type": "code",
   "execution_count": 100,
   "metadata": {},
   "outputs": [
    {
     "data": {
      "text/plain": [
       "256"
      ]
     },
     "execution_count": 100,
     "metadata": {},
     "output_type": "execute_result"
    }
   ],
   "source": [
    "eval([1,1,1,1,1,0,0,0])"
   ]
  },
  {
   "cell_type": "code",
   "execution_count": 101,
   "metadata": {},
   "outputs": [],
   "source": [
    "# DEMUX\n",
    "def demux(multiwire_a, multiwire_b):\n",
    "    eval_output = eval(multiwire_a)\n",
    "    len_multiwire_b = len(multiwire_b)\n",
    "    print('len multiwrire b = ', len_multiwire_b)\n",
    "    print(eval_output)\n",
    "    and_gate_output = []\n",
    "    for top_wire in range(1, eval_output):\n",
    "        print(\"top wire = \", top_wire)\n",
    "        for bottom_wire in range(1,):   \n",
    "            print(\"bottom wire = \", bottom_wire)\n",
    "            and_gate_out = and_gate(top_wire, bottom_wire)\n",
    "            and_gate_output.append(and_gate_out)\n",
    "    return and_gate_output\n",
    "    "
   ]
  },
  {
   "cell_type": "code",
   "execution_count": 102,
   "metadata": {},
   "outputs": [
    {
     "name": "stdout",
     "output_type": "stream",
     "text": [
      "len multiwrire b =  2\n",
      "4\n",
      "top wire =  1\n",
      "bottom wire =  0\n",
      "top wire =  2\n",
      "bottom wire =  0\n",
      "top wire =  3\n",
      "bottom wire =  0\n"
     ]
    },
    {
     "data": {
      "text/plain": [
       "[0, '/!\\\\ Input error (AND gate)', '/!\\\\ Input error (AND gate)']"
      ]
     },
     "execution_count": 102,
     "metadata": {},
     "output_type": "execute_result"
    }
   ],
   "source": [
    "\n",
    "multiwire_a = (1,1)\n",
    "multiwire_b= (0,1)\n",
    "demux(multiwire_b, multiwire_b)"
   ]
  },
  {
   "cell_type": "code",
   "execution_count": 103,
   "metadata": {},
   "outputs": [
    {
     "name": "stdout",
     "output_type": "stream",
     "text": [
      "2^d =  16\n",
      "d^2 =  16\n"
     ]
    }
   ],
   "source": [
    "num_multiwires = 4\n",
    "\n",
    "print(\"2^d = \",2 ** num_multiwires)\n",
    "print(\"d^2 = \", num_multiwires ** 2)"
   ]
  },
  {
   "cell_type": "code",
   "execution_count": 114,
   "metadata": {},
   "outputs": [],
   "source": [
    "def binary_to_int(binary):\n",
    "\n",
    "    binary = str(binary)\n",
    "    number_decimals = len(binary)\n",
    "    exponents = range(0, number_decimals)\n",
    "    i = 0\n",
    "    bit_exponent = []\n",
    "    for bit in binary:\n",
    "        \n",
    "        bit = int(bit)\n",
    "        multiplier = 2**exponents[i]\n",
    "        bit_exponent.append(bit*multiplier)\n",
    "        i += 1\n",
    "\n",
    "    bit_sum = 0\n",
    "    for elem in bit_exponent:\n",
    "        bit_sum = bit_sum +elem\n",
    "    return bit_sum\n",
    "\n",
    "    \n",
    "\n"
   ]
  },
  {
   "cell_type": "code",
   "execution_count": 115,
   "metadata": {},
   "outputs": [
    {
     "data": {
      "text/plain": [
       "255"
      ]
     },
     "execution_count": 115,
     "metadata": {},
     "output_type": "execute_result"
    }
   ],
   "source": [
    "binary_to_int(11111111)"
   ]
  },
  {
   "cell_type": "code",
   "execution_count": 106,
   "metadata": {},
   "outputs": [],
   "source": [
    "from math import sqrt, floor, log, exp\n",
    "\n",
    "def int_to_binary(deci):\n",
    "    remainder = deci\n",
    "    exponents = []\n",
    "    while remainder > 0:\n",
    "        exponent = floor(log(remainder)/log(2))\n",
    "        value = 2**exponent\n",
    "        remainder = remainder- value\n",
    "        #print(\"Highest value = \", value)\n",
    "        #print(\"Exponent = \", exponent)\n",
    "        #print(\"Remainder = \", remainder)\n",
    "        #print(\"*************************\")\n",
    "        exponents.append(exponent)\n",
    "    highest_exponent = exponents[0]\n",
    "    #print(\"Highest exponent = \", highest_exponent)\n",
    "    multiwire = []\n",
    "    cold_multiwire =[]\n",
    "    cold_multiwire_binary =[]\n",
    "\n",
    "    for wire_position in range(0,highest_exponent+1):\n",
    "        cold_wire = \"0X2^\"+ str(wire_position)\n",
    "        cold_wire_binary = 0\n",
    "        #print(\"wire: \",cold_wire)\n",
    "        cold_multiwire.append(cold_wire)\n",
    "        cold_multiwire_binary.append(cold_wire_binary)\n",
    "\n",
    "    for exp in exponents:\n",
    "        cold_multiwire[exp] = \"1X2^\"+str(exp)\n",
    "        cold_multiwire_binary[exp]= 1\n",
    "    cold_multiwire.reverse()\n",
    "    cold_multiwire_binary.reverse()\n",
    "    binary_value = \"\" \n",
    "    for bit in cold_multiwire_binary:\n",
    "        binary_value  = binary_value + str(bit)\n",
    "\n",
    "\n",
    "       \n",
    "    print(binary_value)\n",
    "    return binary_value\n",
    "\n",
    "    "
   ]
  },
  {
   "cell_type": "code",
   "execution_count": 107,
   "metadata": {},
   "outputs": [
    {
     "name": "stdout",
     "output_type": "stream",
     "text": [
      "101101\n"
     ]
    },
    {
     "data": {
      "text/plain": [
       "45"
      ]
     },
     "execution_count": 107,
     "metadata": {},
     "output_type": "execute_result"
    }
   ],
   "source": [
    "binary_to_int(int_to_binary(45))"
   ]
  },
  {
   "cell_type": "code",
   "execution_count": 108,
   "metadata": {},
   "outputs": [
    {
     "name": "stdout",
     "output_type": "stream",
     "text": [
      "1010100000\n"
     ]
    },
    {
     "data": {
      "text/plain": [
       "'1010100000'"
      ]
     },
     "execution_count": 108,
     "metadata": {},
     "output_type": "execute_result"
    }
   ],
   "source": [
    "int_to_binary(672)"
   ]
  },
  {
   "cell_type": "code",
   "execution_count": 109,
   "metadata": {},
   "outputs": [
    {
     "data": {
      "text/plain": [
       "21"
      ]
     },
     "execution_count": 109,
     "metadata": {},
     "output_type": "execute_result"
    }
   ],
   "source": [
    "check = \"1010100000\"\n",
    "binary_to_int(check)"
   ]
  },
  {
   "cell_type": "code",
   "execution_count": 112,
   "metadata": {},
   "outputs": [
    {
     "data": {
      "text/plain": [
       "672"
      ]
     },
     "execution_count": 112,
     "metadata": {},
     "output_type": "execute_result"
    }
   ],
   "source": [
    "int(\"1010100000\",2)\n"
   ]
  },
  {
   "cell_type": "code",
   "execution_count": 113,
   "metadata": {},
   "outputs": [
    {
     "name": "stdout",
     "output_type": "stream",
     "text": [
      "True\n",
      "True\n",
      "True\n",
      "True\n"
     ]
    }
   ],
   "source": [
    "# Working out the logic of logs\n",
    "print(exp(log(8)/3)==2)\n",
    "print(log(8)/3 == log(2))\n",
    "print(3*log(2) == log(8))\n",
    "print(3 == log(8)/log(2))"
   ]
  },
  {
   "cell_type": "code",
   "execution_count": 162,
   "metadata": {},
   "outputs": [
    {
     "name": "stdout",
     "output_type": "stream",
     "text": [
      "10\n",
      "Bin to Int: 10\n",
      "***\n"
     ]
    },
    {
     "data": {
      "text/plain": [
       "1"
      ]
     },
     "execution_count": 162,
     "metadata": {},
     "output_type": "execute_result"
    }
   ],
   "source": [
    "# Tests and checks\n",
    "Int2Bin = 10\n",
    "Int2BinS = str(binaryNumber)\n",
    "print(Int2BinS)\n",
    "\n",
    "Bin2Int = 10\n",
    "Bin2IntS = str(Bin2Int)\n",
    "print(\"Bin to Int:\", Bin2IntS)\n",
    "\n",
    "print(\"***\")\n",
    "\n",
    "bin(Int2Bin)\n",
    "\n",
    "int(\"1\",2)"
   ]
  },
  {
   "cell_type": "markdown",
   "metadata": {},
   "source": [
    "int(\"1\",2)"
   ]
  },
  {
   "cell_type": "code",
   "execution_count": 171,
   "metadata": {},
   "outputs": [
    {
     "ename": "ValueError",
     "evalue": "invalid literal for int() with base 2: '15'",
     "output_type": "error",
     "traceback": [
      "\u001b[0;31m---------------------------------------------------------------------------\u001b[0m",
      "\u001b[0;31mValueError\u001b[0m                                Traceback (most recent call last)",
      "\u001b[0;32m/var/folders/9w/g0w4s0k56xs17n3zhvs0khfr0000gn/T/ipykernel_1054/721169964.py\u001b[0m in \u001b[0;36m<module>\u001b[0;34m\u001b[0m\n\u001b[0;32m----> 1\u001b[0;31m \u001b[0mint\u001b[0m\u001b[0;34m(\u001b[0m\u001b[0;34m\"15\"\u001b[0m\u001b[0;34m,\u001b[0m\u001b[0;36m2\u001b[0m\u001b[0;34m)\u001b[0m\u001b[0;34m\u001b[0m\u001b[0;34m\u001b[0m\u001b[0m\n\u001b[0m",
      "\u001b[0;31mValueError\u001b[0m: invalid literal for int() with base 2: '15'"
     ]
    }
   ],
   "source": [
    "int(\"15\",2)"
   ]
  },
  {
   "cell_type": "code",
   "execution_count": 184,
   "metadata": {},
   "outputs": [
    {
     "data": {
      "text/plain": [
       "'0b1111'"
      ]
     },
     "execution_count": 184,
     "metadata": {},
     "output_type": "execute_result"
    }
   ],
   "source": [
    "bin(15)"
   ]
  },
  {
   "cell_type": "code",
   "execution_count": 188,
   "metadata": {},
   "outputs": [
    {
     "data": {
      "text/plain": [
       "32"
      ]
     },
     "execution_count": 188,
     "metadata": {},
     "output_type": "execute_result"
    }
   ],
   "source": [
    "2**5\n"
   ]
  },
  {
   "cell_type": "code",
   "execution_count": 189,
   "metadata": {},
   "outputs": [
    {
     "data": {
      "text/plain": [
       "'0b100101001'"
      ]
     },
     "execution_count": 189,
     "metadata": {},
     "output_type": "execute_result"
    }
   ],
   "source": [
    "bin(297)"
   ]
  },
  {
   "cell_type": "code",
   "execution_count": 267,
   "metadata": {},
   "outputs": [
    {
     "name": "stdout",
     "output_type": "stream",
     "text": [
      "wire number  0 Wire Status: cold | Exponent =  1 Wire value =  0\n",
      "wire number  1 Wire Status: cold | Exponent =  2 Wire value =  0\n",
      "wire number  2 Wire Status: cold | Exponent =  4 Wire value =  0\n",
      "wire number  3 Wire Status: cold | Exponent =  8 Wire value =  0\n",
      "wire number  4 Wire Status: HOT  | Exponent =  16 Wire value =  16\n",
      "16\n"
     ]
    }
   ],
   "source": [
    "test_binary = \"00001\"\n",
    "sum_wire_value = 0\n",
    "for i in range(0,len(test_binary),1):\n",
    "    wire_value = int(test_binary[i])\n",
    "    exponent = 2**i\n",
    "    wire_value = exponent*wire_value\n",
    "    if wire_value == 0: \n",
    "        wire_status = 'cold'\n",
    "    else: \n",
    "        wire_status = 'HOT '\n",
    "    print('wire number ', i, 'Wire Status:' , wire_status, '| Exponent = ', exponent, 'Wire value = ', wire_value)\n",
    "    sum_wire_value = sum_wire_value + wire_value\n",
    "print(sum_wire_value)\n",
    "\n"
   ]
  },
  {
   "cell_type": "code",
   "execution_count": 309,
   "metadata": {},
   "outputs": [
    {
     "name": "stdout",
     "output_type": "stream",
     "text": [
      "12\n"
     ]
    }
   ],
   "source": [
    "test_binary = \"1100\"\n",
    "test_binary_reversed=test_binary[::-1]\n",
    "sum_wire_value = 0\n",
    "\n",
    "for i in range(0,len(test_binary_reversed)):\n",
    "\n",
    "    wire_position = i \n",
    "    wire_status = int(test_binary_reversed[wire_position])\n",
    "\n",
    "    numerical_value = 2**wire_position\n",
    "    realised_wire_value = numerical_value*wire_status\n",
    "\n",
    "    if wire_status == 0: \n",
    "        wire_status_description = 'cold'\n",
    "    else: \n",
    "        wire_status_description = 'HOT '\n",
    "\n",
    "    #print('wire number ', wire_position, 'Wire Status:' , wire_status_description, '| Numerical value = ', numerical_value, 'Realised wire value = ', realised_wire_value)\n",
    "    sum_wire_value = sum_wire_value + realised_wire_value\n",
    "print(sum_wire_value)\n",
    "\n"
   ]
  },
  {
   "cell_type": "code",
   "execution_count": 310,
   "metadata": {},
   "outputs": [],
   "source": [
    "test_binary = \"1100\"\n",
    "\n",
    "# DESCRIPTION:\n",
    "    # Count number of positions, each is a factor of 2\n",
    "    # Exponent 2 by the position number\n",
    "    # Multiply by wire status, if hot, value is counted in sum, if cold value is 0.\n",
    "\n",
    "def bit2int(bit):\n",
    "    reversed_bit=bit[::-1]\n",
    "    sum_wire_value = 0\n",
    "\n",
    "    for i in range(0,len(reversed_bit)):\n",
    "\n",
    "        wire_position = i \n",
    "        wire_status = int(reversed_bit[wire_position])\n",
    "\n",
    "        numerical_value = 2**wire_position\n",
    "        realised_wire_value = numerical_value*wire_status\n",
    "\n",
    "        if wire_status == 0: \n",
    "            wire_status_description = 'cold'\n",
    "        else: \n",
    "            wire_status_description = 'HOT '\n",
    "\n",
    "        #print('wire number ', wire_position, 'Wire Status:' , wire_status_description, '| Numerical value = ', numerical_value, 'Realised wire value = ', realised_wire_value)\n",
    "        sum_wire_value = sum_wire_value + realised_wire_value\n",
    "    return(sum_wire_value)\n",
    "\n"
   ]
  },
  {
   "cell_type": "code",
   "execution_count": 316,
   "metadata": {},
   "outputs": [
    {
     "name": "stdout",
     "output_type": "stream",
     "text": [
      "Function =  250901\n",
      "Built-in function =  250901\n"
     ]
    }
   ],
   "source": [
    "test_bit = '111101010000010101'\n",
    "print('Function = ', bit2int(test_bit))\n",
    "print('Built-in function = ', int(test_bit,2))"
   ]
  },
  {
   "cell_type": "code",
   "execution_count": 312,
   "metadata": {},
   "outputs": [
    {
     "data": {
      "text/plain": [
       "17"
      ]
     },
     "execution_count": 312,
     "metadata": {},
     "output_type": "execute_result"
    }
   ],
   "source": [
    "int('10001',2)"
   ]
  },
  {
   "cell_type": "code",
   "execution_count": null,
   "metadata": {},
   "outputs": [],
   "source": []
  }
 ],
 "metadata": {
  "interpreter": {
   "hash": "5edc29c2ed010d6458d71a83433b383a96a8cbd3efe8531bc90c4b8a5b8bcec9"
  },
  "kernelspec": {
   "display_name": "Python 3.8.2 64-bit ('usr')",
   "name": "python3"
  },
  "language_info": {
   "codemirror_mode": {
    "name": "ipython",
    "version": 3
   },
   "file_extension": ".py",
   "mimetype": "text/x-python",
   "name": "python",
   "nbconvert_exporter": "python",
   "pygments_lexer": "ipython3",
   "version": "3.8.2"
  },
  "orig_nbformat": 4
 },
 "nbformat": 4,
 "nbformat_minor": 2
}
