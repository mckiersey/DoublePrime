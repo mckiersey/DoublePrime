{
 "metadata": {
  "language_info": {
   "codemirror_mode": {
    "name": "ipython",
    "version": 3
   },
   "file_extension": ".py",
   "mimetype": "text/x-python",
   "name": "python",
   "nbconvert_exporter": "python",
   "pygments_lexer": "ipython3",
   "version": "3.5.1"
  },
  "orig_nbformat": 4,
  "kernelspec": {
   "name": "python3",
   "display_name": "Python 3.5.1 64-bit"
  },
  "interpreter": {
   "hash": "11a4a60b518bf24989d481468076e5d5982884626aed9faeb35b8576fcd223e1"
  }
 },
 "nbformat": 4,
 "nbformat_minor": 2,
 "cells": [
  {
   "cell_type": "code",
   "execution_count": 66,
   "source": [
    "from datetime import date\n",
    "source = \"https://reasonablypolymorphic.com/book/preface\"\n",
    "print(\"This is a digital computer, made following these instructions\", source, \"today is: \", str(date.today()))"
   ],
   "outputs": [
    {
     "output_type": "stream",
     "name": "stdout",
     "text": [
      "This is a digital computer, made following these instructions https://reasonablypolymorphic.com/book/preface today is:  2021-08-23\n"
     ]
    }
   ],
   "metadata": {}
  },
  {
   "cell_type": "code",
   "execution_count": 67,
   "source": [
    "def not_gate(input):\n",
    "    if input == 1:\n",
    "        output = 0\n",
    "    elif input == 0:\n",
    "        output = 1\n",
    "    else: \n",
    "        output = \"/!\\ Input error (NOT gate)\"\n",
    "    return output"
   ],
   "outputs": [],
   "metadata": {}
  },
  {
   "cell_type": "code",
   "execution_count": 68,
   "source": [
    "not_gate(\"sd\")"
   ],
   "outputs": [
    {
     "output_type": "execute_result",
     "data": {
      "text/plain": [
       "'/!\\\\ Input error (NOT gate)'"
      ]
     },
     "metadata": {},
     "execution_count": 68
    }
   ],
   "metadata": {}
  },
  {
   "cell_type": "markdown",
   "source": [
    "<h2>And Gate</h2>\n",
    "<br>\n",
    "<div style=\"background-color: white; width: 300px;\">\n",
    "<img src = \"https://upload.wikimedia.org/wikipedia/commons/thumb/b/b9/AND_ANSI_Labelled.svg/120px-AND_ANSI_Labelled.svg.png\">\n",
    "</div>\n"
   ],
   "metadata": {}
  },
  {
   "cell_type": "code",
   "execution_count": 69,
   "source": [
    "## AND GATE\n",
    "    # Only on when both inputs are on\n",
    "def and_gate(input_a, input_b):\n",
    "    if  input_a == 0 and input_b == 0:\n",
    "        output = 0\n",
    "    elif input_a == 1 and input_b == 0:   \n",
    "        output = 0\n",
    "    elif input_a == 1 and input_b == 1: \n",
    "        output = 1\n",
    "    elif input_a == 0 and input_b == 1:\n",
    "        output = 0 \n",
    "    else:\n",
    "         output = \"/!\\ Input error (AND gate)\"\n",
    "    return output\n",
    "    \n",
    "\n"
   ],
   "outputs": [],
   "metadata": {}
  },
  {
   "cell_type": "code",
   "execution_count": 70,
   "source": [
    "and_gate(1,1)"
   ],
   "outputs": [
    {
     "output_type": "execute_result",
     "data": {
      "text/plain": [
       "1"
      ]
     },
     "metadata": {},
     "execution_count": 70
    }
   ],
   "metadata": {}
  },
  {
   "cell_type": "markdown",
   "source": [
    "<h2>OR Gate</h2>\n",
    "<br>\n",
    "<div style=\"background-color: white; width: 300px;\">\n",
    "<img src = \"https://upload.wikimedia.org/wikipedia/commons/thumb/1/16/OR_ANSI_Labelled.svg/1920px-OR_ANSI_Labelled.svg.png\">\n",
    "</div>\n"
   ],
   "metadata": {}
  },
  {
   "cell_type": "code",
   "execution_count": 71,
   "source": [
    "## OR GATE\n",
    "# This machine produces an output of 1 when either input A or input B is 1 (or both).\n",
    "# If A OR B = 1 then 1\n",
    "def or_gate(input_a, input_b):\n",
    "\n",
    "    not_gate_a = not_gate(input_a)\n",
    "    not_gate_b = not_gate(input_b)\n",
    "\n",
    "    and_gate_output = and_gate(not_gate_a, not_gate_b)\n",
    "\n",
    "    output = not_gate(and_gate_output)\n",
    "    return output"
   ],
   "outputs": [],
   "metadata": {}
  },
  {
   "cell_type": "code",
   "execution_count": 72,
   "source": [
    "or_gate(1,0)"
   ],
   "outputs": [
    {
     "output_type": "execute_result",
     "data": {
      "text/plain": [
       "1"
      ]
     },
     "metadata": {},
     "execution_count": 72
    }
   ],
   "metadata": {}
  },
  {
   "cell_type": "code",
   "execution_count": 73,
   "source": [
    "## DE MORGAN'S LAW:\n",
    "   # De Morgan’s laws state that whenever we have an and gate, we can turn it into an or gate by wrapping it up in not gates. And vice versa.  "
   ],
   "outputs": [],
   "metadata": {}
  },
  {
   "cell_type": "markdown",
   "source": [
    "<h2>NAND Gate</h2>\n",
    "<br>\n",
    "<div style=\"background-color: white; width: 300px;\">\n",
    "<img src = \"https://upload.wikimedia.org/wikipedia/commons/thumb/e/e6/NAND_ANSI_Labelled.svg/1920px-NAND_ANSI_Labelled.svg.png\">\n",
    "</div>"
   ],
   "metadata": {}
  },
  {
   "cell_type": "code",
   "execution_count": 74,
   "source": [
    "# NAND Gate\n",
    "#THE MOST FUNDAMENTAL MACHINE\n",
    "\n",
    "def nand_gate(input_a, input_b):\n",
    "    and_gate_output = and_gate(input_a, input_b)\n",
    "\n",
    "    output = not_gate(and_gate_output)\n",
    "    return output\n"
   ],
   "outputs": [],
   "metadata": {}
  },
  {
   "cell_type": "code",
   "execution_count": 75,
   "source": [
    "nand_gate(0,0)"
   ],
   "outputs": [
    {
     "output_type": "execute_result",
     "data": {
      "text/plain": [
       "1"
      ]
     },
     "metadata": {},
     "execution_count": 75
    }
   ],
   "metadata": {}
  },
  {
   "cell_type": "code",
   "execution_count": 76,
   "source": [
    "## Building an OR gate from an NAND gate\n",
    "# output = 1 unless both input are 0\n",
    "def nand_and_gate(input_a, input_b):\n",
    "    nand_gate_output = nand_gate(input_a, input_b)\n",
    "    nand_input_a = nand_gate_output\n",
    "    nand_input_b = nand_gate_output\n",
    "    output = nand_gate(nand_input_a, nand_input_b)\n",
    "    return output\n"
   ],
   "outputs": [],
   "metadata": {}
  },
  {
   "cell_type": "code",
   "execution_count": 77,
   "source": [
    "nand_and_gate(0,1)"
   ],
   "outputs": [
    {
     "output_type": "execute_result",
     "data": {
      "text/plain": [
       "0"
      ]
     },
     "metadata": {},
     "execution_count": 77
    }
   ],
   "metadata": {}
  },
  {
   "cell_type": "code",
   "execution_count": 78,
   "source": [
    "def nand_not_gate(input):\n",
    "    output = nand_gate(input, input)\n",
    "    return output"
   ],
   "outputs": [],
   "metadata": {}
  },
  {
   "cell_type": "code",
   "execution_count": 79,
   "source": [
    "nand_not_gate(0)"
   ],
   "outputs": [
    {
     "output_type": "execute_result",
     "data": {
      "text/plain": [
       "1"
      ]
     },
     "metadata": {},
     "execution_count": 79
    }
   ],
   "metadata": {}
  },
  {
   "cell_type": "code",
   "execution_count": 80,
   "source": [
    "def nand_or_gate(input_a, input_b):\n",
    "    not_gate_a = nand_not_gate(input_a)\n",
    "    not_gate_b = nand_not_gate(input_b)\n",
    "\n",
    "    output = nand_gate(not_gate_a, not_gate_b)\n",
    "    return output"
   ],
   "outputs": [],
   "metadata": {}
  },
  {
   "cell_type": "code",
   "execution_count": 81,
   "source": [
    "nand_or_gate(1,0)\n"
   ],
   "outputs": [
    {
     "output_type": "execute_result",
     "data": {
      "text/plain": [
       "1"
      ]
     },
     "metadata": {},
     "execution_count": 81
    }
   ],
   "metadata": {}
  },
  {
   "cell_type": "code",
   "execution_count": 82,
   "source": [
    "nand_or_gate(1,1)"
   ],
   "outputs": [
    {
     "output_type": "execute_result",
     "data": {
      "text/plain": [
       "1"
      ]
     },
     "metadata": {},
     "execution_count": 82
    }
   ],
   "metadata": {}
  },
  {
   "cell_type": "code",
   "execution_count": 83,
   "source": [
    "nand_or_gate(0,1)"
   ],
   "outputs": [
    {
     "output_type": "execute_result",
     "data": {
      "text/plain": [
       "1"
      ]
     },
     "metadata": {},
     "execution_count": 83
    }
   ],
   "metadata": {}
  },
  {
   "cell_type": "code",
   "execution_count": 84,
   "source": [
    "nand_or_gate(0,0)"
   ],
   "outputs": [
    {
     "output_type": "execute_result",
     "data": {
      "text/plain": [
       "0"
      ]
     },
     "metadata": {},
     "execution_count": 84
    }
   ],
   "metadata": {}
  },
  {
   "cell_type": "code",
   "execution_count": 85,
   "source": [
    "#C-OUT\n",
    "#We need to carry a 1 when the column has overflown; we can store a maximum of 1[b] (=2), but as we are adding three wires, we can have a potential maximum of 11[b] (=3)\n",
    "def cout(input_a, input_b, Cin):\n",
    "    output_a_and_b = and_gate(input_a, input_b)\n",
    "    output_a_and_cin = and_gate(input_a, Cin)\n",
    "    output_b_and_cin = and_gate(input_b, Cin)\n",
    "\n",
    "    output_ab_or_acin = or_gate(output_a_and_b, output_a_and_cin)\n",
    "    output_cbin_or_acin =or_gate(output_b_and_cin,output_a_and_cin)\n",
    "\n",
    "    output = or_gate(output_ab_or_acin,output_cbin_or_acin)\n",
    "\n",
    "    return output\n"
   ],
   "outputs": [],
   "metadata": {}
  },
  {
   "cell_type": "code",
   "execution_count": 86,
   "source": [
    "function_table = (cout(0,0,0),\n",
    "                  cout(0,0,1),\n",
    "                  cout(0,1,1),\n",
    "                  cout(0,1,0),\n",
    "                  cout(1,1,0),\n",
    "                  cout(1,1,1),\n",
    "                  cout(1,0,1),\n",
    "                  cout(1,0,0)\n",
    "                  )\n",
    "print(function_table)"
   ],
   "outputs": [
    {
     "output_type": "stream",
     "name": "stdout",
     "text": [
      "(0, 0, 1, 0, 1, 1, 1, 0)\n"
     ]
    }
   ],
   "metadata": {}
  },
  {
   "cell_type": "markdown",
   "source": [
    "<h2>XOR Gate</h2>\n",
    "<br>\n",
    "<div style=\"background-color: white; width: 300px;\">\n",
    "<img src = \"https://upload.wikimedia.org/wikipedia/commons/thumb/0/01/XOR_ANSI.svg/100px-XOR_ANSI.svg.png\">\n",
    "</div>"
   ],
   "metadata": {}
  },
  {
   "cell_type": "code",
   "execution_count": 87,
   "source": [
    "## XOR \n",
    "# 1 when A and B are different: \n",
    "# Use: Determines whether two inputs have different values\n",
    "def xor_gate(input_a, input_b):\n",
    "    input_a2 = input_a\n",
    "    input_b2 = input_b\n",
    "\n",
    "    not_a2 = not_gate(input_a2)\n",
    "    not_b2 = not_gate(input_b2)\n",
    "    \n",
    "    and_output_1 = and_gate(input_a, not_b2)\n",
    "    and_output_2 = and_gate(input_b, not_a2)\n",
    "\n",
    "    output = or_gate(and_output_1, and_output_2)\n",
    "\n",
    "    return output\n"
   ],
   "outputs": [],
   "metadata": {}
  },
  {
   "cell_type": "code",
   "execution_count": 88,
   "source": [
    "xor_function_table = ( \n",
    "                      xor_gate(0,0),\n",
    "                      xor_gate(0,1),\n",
    "                      xor_gate(1,1),\n",
    "                      xor_gate(1,0)\n",
    ")\n",
    "print(xor_function_table)"
   ],
   "outputs": [
    {
     "output_type": "stream",
     "name": "stdout",
     "text": [
      "(0, 1, 0, 1)\n"
     ]
    }
   ],
   "metadata": {}
  },
  {
   "cell_type": "code",
   "execution_count": 89,
   "source": [
    "## SUM\n",
    "def sum(input_a, input_b, Cin):\n",
    "    xor_output_a_b = xor_gate(input_a, input_b)\n",
    "    output = xor_gate(Cin, xor_output_a_b)\n",
    "    return output\n"
   ],
   "outputs": [],
   "metadata": {}
  },
  {
   "cell_type": "code",
   "execution_count": 90,
   "source": [
    "sum(1,0,0)"
   ],
   "outputs": [
    {
     "output_type": "execute_result",
     "data": {
      "text/plain": [
       "1"
      ]
     },
     "metadata": {},
     "execution_count": 90
    }
   ],
   "metadata": {}
  },
  {
   "cell_type": "code",
   "execution_count": 91,
   "source": [
    "## Add (columns)\n",
    "# Input: Numbers in column + (optional) carry in number (from previous column)\n",
    "# Output: Sum to be put in columm + carry out to next column\n",
    "\n",
    "def add(input_a, input_b, Cin):\n",
    "    output_sum = sum(input_a, input_b, Cin)\n",
    "    output_cout = cout(input_a, input_b, Cin)\n",
    "\n",
    "    return  output_cout, output_sum\n"
   ],
   "outputs": [],
   "metadata": {}
  },
  {
   "cell_type": "code",
   "execution_count": 92,
   "source": [
    "add_function_table = ( \n",
    "                      add(0,0,0),\n",
    "                      add(0,0,1),\n",
    "                      add(0,1,0),\n",
    "                      add(1,0,0),\n",
    "                      add(0,1,1),\n",
    "                      add(1,1,0),\n",
    "                      add(1,0,1),\n",
    "                      add(1,1,1),\n",
    "                      add(0,0,0),\n",
    "\n",
    ")\n",
    "print(add_function_table)"
   ],
   "outputs": [
    {
     "output_type": "stream",
     "name": "stdout",
     "text": [
      "((0, 0), (0, 1), (0, 1), (0, 1), (1, 0), (1, 0), (1, 0), (1, 1), (0, 0))\n"
     ]
    }
   ],
   "metadata": {}
  },
  {
   "cell_type": "code",
   "execution_count": 93,
   "source": [
    "add(1,1,0)"
   ],
   "outputs": [
    {
     "output_type": "execute_result",
     "data": {
      "text/plain": [
       "(1, 0)"
      ]
     },
     "metadata": {},
     "execution_count": 93
    }
   ],
   "metadata": {}
  },
  {
   "cell_type": "code",
   "execution_count": 94,
   "source": [
    "## Add machine\n",
    "# Add two nybbles\n",
    "\n",
    "def add4(bit1a, bit2a, bit3a, bit4a, bit1b, bit2b, bit3b, bit4b):\n",
    "    add_ones = add(bit1a, bit1b, 0)\n",
    "    add_ones_cout = add_ones[0]\n",
    "    add_ones_sum = add_ones[1]\n",
    "\n",
    "    add_twos = add(bit2a, bit2b, add_ones_cout)\n",
    "    add_twos_cout = add_twos[0]\n",
    "    add_twos_sum = add_twos[1]\n",
    "\n",
    "    add_threes = add(bit3a, bit3b, add_twos_cout)\n",
    "    add_threes_cout = add_threes[0]\n",
    "    add_threes_sum = add_threes[1]\n",
    "\n",
    "    add_fours = add(bit4a, bit4b, add_threes_cout)\n",
    "    add_fours_cout = add_fours[0]\n",
    "    add_fours_sum = add_fours[1]\n",
    "\n",
    "    return add_ones_sum, add_twos_sum, add_threes_sum, add_fours_sum, add_fours_cout\n",
    "\n"
   ],
   "outputs": [],
   "metadata": {}
  },
  {
   "cell_type": "code",
   "execution_count": 95,
   "source": [
    "add4(1,1,1,1,1,1,1,1)"
   ],
   "outputs": [
    {
     "output_type": "execute_result",
     "data": {
      "text/plain": [
       "(0, 1, 1, 1, 1)"
      ]
     },
     "metadata": {},
     "execution_count": 95
    }
   ],
   "metadata": {}
  },
  {
   "cell_type": "code",
   "execution_count": null,
   "source": [],
   "outputs": [],
   "metadata": {}
  },
  {
   "cell_type": "code",
   "execution_count": 96,
   "source": [
    "# Split machine: divides a (single) wire into its value and the not of its value.\n",
    "def split(input_a):\n",
    "    not_input_a = not_gate(input_a)\n",
    "\n",
    "    return input_a, not_input_a"
   ],
   "outputs": [],
   "metadata": {}
  },
  {
   "cell_type": "code",
   "execution_count": 97,
   "source": [
    "split(0)"
   ],
   "outputs": [
    {
     "output_type": "execute_result",
     "data": {
      "text/plain": [
       "(0, 1)"
      ]
     },
     "metadata": {},
     "execution_count": 97
    }
   ],
   "metadata": {}
  },
  {
   "cell_type": "code",
   "execution_count": 98,
   "source": [
    "def demux2(multiwire_a, D): # Note, D can be considered an ON/OFF switch, where it switches the current in the multiwire depnding on its value \n",
    "\n",
    "    d_split = split(D)\n",
    "    output_and_top = list()\n",
    "    output_and_bottom = list()\n",
    "\n",
    "    for n in multiwire_a:\n",
    "        output_and_top.append(and_gate(n, d_split[0]))\n",
    "        output_and_bottom.append(and_gate(n, d_split[1]))\n",
    "\n",
    "    return output_and_top, output_and_bottom\n",
    "\n"
   ],
   "outputs": [],
   "metadata": {}
  },
  {
   "cell_type": "code",
   "execution_count": 99,
   "source": [
    "multiwire_a =(1,0,1,1,1,1,0)\n",
    "D = 1"
   ],
   "outputs": [],
   "metadata": {}
  },
  {
   "cell_type": "code",
   "execution_count": 100,
   "source": [
    "demux2(multiwire_a, D)"
   ],
   "outputs": [
    {
     "output_type": "execute_result",
     "data": {
      "text/plain": [
       "([1, 0, 1, 1, 1, 1, 0], [0, 0, 0, 0, 0, 0, 0])"
      ]
     },
     "metadata": {},
     "execution_count": 100
    }
   ],
   "metadata": {}
  },
  {
   "cell_type": "code",
   "execution_count": 101,
   "source": [
    "def mux2(multiwire_a, multiwire_b, W):\n",
    "    w_split = split(W)\n",
    "    output_and_top = list()\n",
    "    output_and_bottom = list()\n",
    "    output = list()\n",
    "\n",
    "    if len(multiwire_a) ==len(multiwire_b):\n",
    "      for n in multiwire_a:\n",
    "        output_and_top.append(and_gate(n, w_split[0]))\n",
    "      print(\"Top output complete\")\n",
    "      for o in multiwire_b:\n",
    "        output_and_bottom.append(and_gate(o, w_split[1]))\n",
    "      print(\"Bottom output complete\")\n",
    "\n",
    "      for p in output_and_top:\n",
    "        for q in output_and_bottom:\n",
    "          output.append(or_gate(p,q))\n",
    "\n",
    "      \n",
    "      return output\n",
    "\n",
    "    else:\n",
    "      return print(\"input multiwires not same length- check 'n'\")\n"
   ],
   "outputs": [],
   "metadata": {}
  },
  {
   "cell_type": "code",
   "execution_count": 102,
   "source": [
    "multiwire_a =(1,0,1,1,1,1,0)\n",
    "multiwire_b =(1,0,1,1,1,1,0)\n",
    "W = 1\n",
    "mux2(multiwire_a, multiwire_b, W)"
   ],
   "outputs": [
    {
     "output_type": "stream",
     "name": "stdout",
     "text": [
      "Top output complete\n",
      "Bottom output complete\n"
     ]
    },
    {
     "output_type": "execute_result",
     "data": {
      "text/plain": [
       "[1,\n",
       " 1,\n",
       " 1,\n",
       " 1,\n",
       " 1,\n",
       " 1,\n",
       " 1,\n",
       " 0,\n",
       " 0,\n",
       " 0,\n",
       " 0,\n",
       " 0,\n",
       " 0,\n",
       " 0,\n",
       " 1,\n",
       " 1,\n",
       " 1,\n",
       " 1,\n",
       " 1,\n",
       " 1,\n",
       " 1,\n",
       " 1,\n",
       " 1,\n",
       " 1,\n",
       " 1,\n",
       " 1,\n",
       " 1,\n",
       " 1,\n",
       " 1,\n",
       " 1,\n",
       " 1,\n",
       " 1,\n",
       " 1,\n",
       " 1,\n",
       " 1,\n",
       " 1,\n",
       " 1,\n",
       " 1,\n",
       " 1,\n",
       " 1,\n",
       " 1,\n",
       " 1,\n",
       " 0,\n",
       " 0,\n",
       " 0,\n",
       " 0,\n",
       " 0,\n",
       " 0,\n",
       " 0]"
      ]
     },
     "metadata": {},
     "execution_count": 102
    }
   ],
   "metadata": {}
  },
  {
   "cell_type": "code",
   "execution_count": 103,
   "source": [
    "#https://reasonablypolymorphic.com/book/latches\n",
    "\n",
    "def hold(input_a, *output_input_b):\n",
    "\n",
    "    if output_input_b != ():\n",
    "        input_b_clean = output_input_b[0]\n",
    "        print(\"input_b is defined as:\",input_b_clean) \n",
    "        output = or_gate(input_a, input_b_clean)\n",
    "        return output\n",
    "\n",
    "    else:\n",
    "        print('no input b')\n",
    "        input_b = 0\n",
    "        print(\"input b assigned default value of: \", input_b)\n",
    "        output_input_b = or_gate(input_a, input_b)\n",
    "        return output_input_b"
   ],
   "outputs": [],
   "metadata": {}
  },
  {
   "cell_type": "code",
   "execution_count": 108,
   "source": [
    "last_output = None\n",
    "next_output = None\n",
    "\n",
    "i=0\n",
    "while i <20:\n",
    "    last_output = next_output\n",
    "    i+=1\n",
    "    if last_output is None:\n",
    "        last_output = hold(0)\n",
    "        print(\"first output:\", last_output)\n",
    "        next_output = last_output\n",
    "    else:\n",
    "        while i <= 10:\n",
    "            i+=1\n",
    "            next_output = hold(0,last_output)\n",
    "            print(\"next output: \", next_output)\n",
    "        while i < 20:\n",
    "            i+=1\n",
    "            next_output = hold(1,last_output)\n",
    "            print(\"next output: \", next_output)"
   ],
   "outputs": [
    {
     "output_type": "stream",
     "name": "stdout",
     "text": [
      "no input b\n",
      "input b assigned default value of:  0\n",
      "first output: 0\n",
      "input_b is defined as: 0\n",
      "next output:  0\n",
      "input_b is defined as: 0\n",
      "next output:  0\n",
      "input_b is defined as: 0\n",
      "next output:  0\n",
      "input_b is defined as: 0\n",
      "next output:  0\n",
      "input_b is defined as: 0\n",
      "next output:  0\n",
      "input_b is defined as: 0\n",
      "next output:  0\n",
      "input_b is defined as: 0\n",
      "next output:  0\n",
      "input_b is defined as: 0\n",
      "next output:  0\n",
      "input_b is defined as: 0\n",
      "next output:  0\n",
      "11\n",
      "input_b is defined as: 0\n",
      "next output:  1\n",
      "12\n",
      "input_b is defined as: 0\n",
      "next output:  1\n",
      "13\n",
      "input_b is defined as: 0\n",
      "next output:  1\n",
      "14\n",
      "input_b is defined as: 0\n",
      "next output:  1\n",
      "15\n",
      "input_b is defined as: 0\n",
      "next output:  1\n",
      "16\n",
      "input_b is defined as: 0\n",
      "next output:  1\n",
      "17\n",
      "input_b is defined as: 0\n",
      "next output:  1\n",
      "18\n",
      "input_b is defined as: 0\n",
      "next output:  1\n",
      "19\n",
      "input_b is defined as: 0\n",
      "next output:  1\n"
     ]
    }
   ],
   "metadata": {}
  },
  {
   "cell_type": "code",
   "execution_count": 117,
   "source": [
    "#Clock\n",
    "def clock(*input_a):\n",
    "    if input_a !=():\n",
    "        output = not_gate(input_a[0])\n",
    "        return output\n",
    "    else:\n",
    "        output = not_gate(0)\n",
    "        return output"
   ],
   "outputs": [],
   "metadata": {}
  },
  {
   "cell_type": "code",
   "execution_count": 123,
   "source": [
    "last_output = None\n",
    "next_output = None\n",
    "i=0\n",
    "while i <10:\n",
    "    last_output = next_output\n",
    "    i+=1\n",
    "    if last_output is None:\n",
    "        last_output = clock()\n",
    "        print(\"Last Output\", last_output)\n",
    "        next_output = last_output\n",
    "    else:\n",
    "        next_output = clock(last_output)\n",
    "        print(\"next output\", next_output)\n",
    "\n",
    "\n",
    "\n",
    "\n",
    "\n",
    "    \n",
    "\n",
    "clock()"
   ],
   "outputs": [
    {
     "output_type": "stream",
     "name": "stdout",
     "text": [
      "Last Output 1\n",
      "next output 0\n",
      "next output 1\n",
      "next output 0\n",
      "next output 1\n",
      "next output 0\n",
      "next output 1\n",
      "next output 0\n",
      "next output 1\n",
      "next output 0\n"
     ]
    },
    {
     "output_type": "execute_result",
     "data": {
      "text/plain": [
       "1"
      ]
     },
     "metadata": {},
     "execution_count": 123
    }
   ],
   "metadata": {}
  },
  {
   "cell_type": "markdown",
   "source": [
    "\n",
    "<h2>RS LATCH</h2>\n",
    "<br>\n",
    "<img src =\"https://www.researchgate.net/profile/Masahiko-Takenaka/publication/303291520/figure/fig2/AS:362802515595287@1463510268764/SR-latch-An-SR-latch-consists-of-two-NAND-gates-and-is-commonly-used-to-store-one-bit-of.png\">"
   ],
   "metadata": {}
  },
  {
   "cell_type": "code",
   "execution_count": null,
   "source": [
    "# RS Latch\n",
    "\n",
    "        "
   ],
   "outputs": [],
   "metadata": {}
  },
  {
   "cell_type": "code",
   "execution_count": 134,
   "source": [
    "int(10,2)"
   ],
   "outputs": [
    {
     "output_type": "error",
     "ename": "TypeError",
     "evalue": "'str' object is not callable",
     "traceback": [
      "\u001b[0;31m---------------------------------------------------------------------------\u001b[0m",
      "\u001b[0;31mTypeError\u001b[0m                                 Traceback (most recent call last)",
      "\u001b[0;32m<ipython-input-134-8ab5b452286b>\u001b[0m in \u001b[0;36m<module>\u001b[0;34m\u001b[0m\n\u001b[0;32m----> 1\u001b[0;31m \u001b[0mint\u001b[0m\u001b[0;34m(\u001b[0m\u001b[0;36m10\u001b[0m\u001b[0;34m,\u001b[0m\u001b[0mbase\u001b[0m\u001b[0;34m=\u001b[0m \u001b[0;36m10\u001b[0m\u001b[0;34m)\u001b[0m\u001b[0;34m\u001b[0m\u001b[0m\n\u001b[0m",
      "\u001b[0;31mTypeError\u001b[0m: 'str' object is not callable"
     ]
    }
   ],
   "metadata": {}
  },
  {
   "cell_type": "code",
   "execution_count": 127,
   "source": [
    "bin(28)"
   ],
   "outputs": [
    {
     "output_type": "execute_result",
     "data": {
      "text/plain": [
       "'0b11100'"
      ]
     },
     "metadata": {},
     "execution_count": 127
    }
   ],
   "metadata": {}
  },
  {
   "cell_type": "code",
   "execution_count": 128,
   "source": [
    "2**4+2*3+2**2"
   ],
   "outputs": [
    {
     "output_type": "execute_result",
     "data": {
      "text/plain": [
       "26"
      ]
     },
     "metadata": {},
     "execution_count": 128
    }
   ],
   "metadata": {}
  },
  {
   "cell_type": "code",
   "execution_count": null,
   "source": [],
   "outputs": [],
   "metadata": {}
  }
 ]
}